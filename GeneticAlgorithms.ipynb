{
 "cells": [
  {
   "cell_type": "markdown",
   "metadata": {},
   "source": [
    "<hr style=\"height:2px;border-width:0;color:#bfc6c7;background-color:#bfc6c7;width:70%\">\n",
    "<br>\n",
    "<center><b><span style=\"font-size:3em\"> Introduction to Genetic Algorithms\n",
    "<br>\n",
    "<hr style=\"height:2px;border-width:0;color:#bfc6c7;background-color:#bfc6c7;width:70%\">"
   ]
  },
  {
   "cell_type": "markdown",
   "metadata": {},
   "source": [
    "<a id='top'></a>\n",
    "# Index\n",
    "<br>\n",
    "<br>\n",
    "<a href='#Motivation'> 1. Motivation </a> \n",
    "<br>\n",
    "<br>\n",
    "<a href='#Intro'> 2. Introduction to optimization </a>  \n",
    "<p style=\"margin-left: 40px\"><a href='#globallocal'> 2.1. Local vs. global optima  </a> </p>\n",
    "<p style=\"margin-left: 40px\"><a href='#searchspace'> 2.2. Search space </a> </p>\n",
    "<p style=\"margin-left: 40px\"><a href='#solutionspace'> 2.3. Solution space </a> </p>\n",
    "<p style=\"margin-left: 40px\"><a href='#ambiguityredundancy'> 2.4. Ambiguity vs. Redundancy </a> </p>\n",
    "<p style=\"margin-left: 40px\"><a href='#explorationexplotation'> 2.5. Exploration vs. Explotation </a> </p>\n",
    "\n",
    "<br>\n",
    "<a href='#Methods'> 3. Exact vs. approximate methods </a> \n",
    "<br>\n",
    "<br>\n",
    "<a href='#GeneticAlgorithms'> 4. Genetic Algorithms </a> \n",
    "<p style=\"margin-left: 40px\"><a href='#Basics'> 4.1. Basic concepts </a> </p>\n",
    "<p style=\"margin-left: 40px\"><a href='#Lifecycle'> 4.2. Evolutionary lifecycle </a> </p>\n",
    "<p style=\"margin-left: 40px\"><a href='#ProsCons'> 4.3. Pros and Cons </a> </p>\n",
    "\n",
    "<br>\n",
    "<a href='#Game'> 5. Example: Target Sum Game </a>\n",
    "<p style=\"margin-left: 40px\"><a href='#Encoding'> 5.1. Encoding </a> </p>\n",
    "<p style=\"margin-left: 40px\"><a href='#Initialization'> 5.2. Initialization </a> </p>\n",
    "<p style=\"margin-left: 40px\"><a href='#Fitness'> 5.3. Fitness </a> </p>\n",
    "<p style=\"margin-left: 40px\"><a href='#Selection'> 5.4. Selection </a> </p>\n",
    "<p style=\"margin-left: 40px\"><a href='#Crossover'> 5.5. Crossover </a> </p>\n",
    "<p style=\"margin-left: 40px\"><a href='#Mutation'> 5.6. Mutation </a> </p>\n",
    "<p style=\"margin-left: 40px\"><a href='#Replacement'> 5.7. Replacement </a> </p>\n",
    "<br>\n",
    "<a href='#Code'> 6. Code </a> "
   ]
  },
  {
   "cell_type": "markdown",
   "metadata": {},
   "source": [
    "<a id='Motivation'></a>\n",
    "# 1. Motivation \n",
    "<a href='#top'> Return to top </a>"
   ]
  },
  {
   "cell_type": "markdown",
   "metadata": {},
   "source": [
    "A Genetic Algorithm (GA)'s goal is to search and optimize. To find possible solutions to any given problem.\n",
    "\n",
    "<b>Route design:</b>\n",
    "<img src=\"https://raw.githubusercontent.com/RohitUttam/Genetic-Algorithms/master/images/Route.png\" style=\"width: 350px;\"/>\n",
    "<br>\n",
    "<b>Scheduling planner:</b>\n"
   ]
  },
  {
   "cell_type": "markdown",
   "metadata": {},
   "source": [
    "<img src=\"https://raw.githubusercontent.com/RohitUttam/Genetic-Algorithms/master/images/ScheduleOpt.png\" alt=\"Drawing\" style=\"width: 600px;\"/>\n"
   ]
  },
  {
   "cell_type": "markdown",
   "metadata": {},
   "source": [
    "<br>\n",
    "<b>Feature Selection:</b>"
   ]
  },
  {
   "cell_type": "markdown",
   "metadata": {},
   "source": [
    "<img src=\"https://raw.githubusercontent.com/RohitUttam/Genetic-Algorithms/master/images/FeatureSelection.png\" alt=\"Drawing\" style=\"width: 550px;\"/>"
   ]
  },
  {
   "cell_type": "markdown",
   "metadata": {},
   "source": [
    "$$\\text{[1] Genetic algorithms as a strategy for feature selection. Leardi, Riccardo, R. Boggia, and M. Terrile (1992)}$$"
   ]
  },
  {
   "cell_type": "markdown",
   "metadata": {},
   "source": [
    "<br>\n",
    "<b>Building graph structures:</b>"
   ]
  },
  {
   "cell_type": "markdown",
   "metadata": {},
   "source": [
    "$$ \\text{Neural Network Structure Learning} $$"
   ]
  },
  {
   "cell_type": "markdown",
   "metadata": {},
   "source": [
    "<img src=\"https://raw.githubusercontent.com/RohitUttam/Genetic-Algorithms/master/images/NN_structure.png\" alt=\"Drawing\" style=\"width: 550px;\"/>"
   ]
  },
  {
   "cell_type": "markdown",
   "metadata": {},
   "source": [
    "$$ \\text{Neural Network Parameter Learning} $$"
   ]
  },
  {
   "cell_type": "markdown",
   "metadata": {},
   "source": [
    "<img src=\"https://raw.githubusercontent.com/RohitUttam/Genetic-Algorithms/master/images/NN_param.png\" alt=\"Drawing\" style=\"width: 550px;\"/>"
   ]
  },
  {
   "cell_type": "markdown",
   "metadata": {},
   "source": [
    "$$ \\text{[2] Cooperative binary-real coded genetic algorithms for generating and adapting artificial neural networks. Barrios et al. (2003) }$$"
   ]
  },
  {
   "cell_type": "markdown",
   "metadata": {},
   "source": [
    "<br><br>$$ \\text{Structure Learning of Bayesian Networks (DAG)} $$"
   ]
  },
  {
   "cell_type": "markdown",
   "metadata": {},
   "source": [
    "<img src=\"https://raw.githubusercontent.com/RohitUttam/Genetic-Algorithms/master/images/BN.png\" alt=\"Drawing\" style=\"width: 300px;\"/>"
   ]
  },
  {
   "cell_type": "markdown",
   "metadata": {},
   "source": [
    "$$ \\text{[3] Structure learning of Bayesian networks by genetic algorithms. Larrañaga, Poza, Yurramendi, Murga and Kuijpers (1996)}$$"
   ]
  },
  {
   "cell_type": "markdown",
   "metadata": {},
   "source": [
    "<b>Real life applications:</b>"
   ]
  },
  {
   "cell_type": "markdown",
   "metadata": {},
   "source": [
    "A notable real-life application of Genetic Algorithms (GA) lead to the creation of a very specific anthena by NASA:"
   ]
  },
  {
   "cell_type": "markdown",
   "metadata": {},
   "source": [
    "<img src=\"https://raw.githubusercontent.com/RohitUttam/Genetic-Algorithms/master/images/nasa.png\" alt=\"Drawing\" style=\"width: 500px;\"/>"
   ]
  },
  {
   "cell_type": "markdown",
   "metadata": {},
   "source": [
    "$$ \\text{[4] Automated antenna design with evolutionary algorithms. Hornby, Gregory, Al Globus, Derek Linden, and Jason Lohn (2006)}$$"
   ]
  },
  {
   "cell_type": "markdown",
   "metadata": {},
   "source": [
    "<a id='Intro'></a>\n",
    "# 2. Introduction to optimization\n",
    "<a href='#top'> Return to top </a>"
   ]
  },
  {
   "cell_type": "markdown",
   "metadata": {},
   "source": [
    "An <b> optimization problem </b> consists of maximizing (or equivalently, minimizing) a function by choosing input values from within an allowed set and computing the value of the function. More generally, optimization focuses on <b>finding \"best possible values\"</b> of some objective function given a defined domain:"
   ]
  },
  {
   "cell_type": "markdown",
   "metadata": {},
   "source": [
    "$$ \\max_{x}f(x) \\quad (\\textrm{or}\\min_{x}f(x))$$\n",
    "\n",
    "$$ subject \\hspace{0.1cm} to \\quad g_i(𝑥)≤0 \\quad ∀𝑖 $$"
   ]
  },
  {
   "cell_type": "markdown",
   "metadata": {},
   "source": [
    "<img src=\"https://raw.githubusercontent.com/RohitUttam/Genetic-Algorithms/master/images/ObjectiveFunction.png\" alt=\"Drawing\" style=\"width: 320px;\"/>"
   ]
  },
  {
   "cell_type": "markdown",
   "metadata": {},
   "source": [
    "<a id='globallocal'></a>\n",
    "<p style=\"margin-left: 20px; font-size: 1.4em\"> <b>2.1. Global vs local optima</b></p>\n",
    "<p style=\"margin-left: 20px\"> <a href='#top'> Return to top </a></p>"
   ]
  },
  {
   "cell_type": "markdown",
   "metadata": {},
   "source": [
    "<img src=\"https://raw.githubusercontent.com/RohitUttam/Genetic-Algorithms/master/images/LocalGlobal.png\" alt=\"Drawing\" style=\"width: 620px;\"/>"
   ]
  },
  {
   "cell_type": "markdown",
   "metadata": {},
   "source": [
    "<a id='searchspace'></a>\n",
    "<p style=\"margin-left: 20px; font-size: 1.4em\"> <b>2.2. Search space</b></p>\n",
    "<p style=\"margin-left: 20px\"> <a href='#top'> Return to top </a></p>"
   ]
  },
  {
   "cell_type": "markdown",
   "metadata": {},
   "source": [
    "<p style=\"margin-left: 20px\">A search space within the optimization framework is the domain of the function to be optimized. Search spaces for objective functions are not always smooth, a few examples:\n",
    "<br>\n",
    "· Unimodal: This is the optimal search space, where gradients are smooth\n",
    "<br>\n",
    "· Needle in a Haystack: It can be easy to miss the peak\n",
    "<br>\n",
    "· Noisy: spaces with lots of variations can lead to local optima\n",
    "<br>\n",
    "· Deceptive: searching with gradient type algorithm can be deceptive</p>"
   ]
  },
  {
   "cell_type": "markdown",
   "metadata": {},
   "source": [
    "<img src=\"https://raw.githubusercontent.com/RohitUttam/Genetic-Algorithms/master/images/Searchspace.png\" alt=\"Drawing\" style=\"width: 500px;\"/>"
   ]
  },
  {
   "cell_type": "markdown",
   "metadata": {},
   "source": [
    "<p style=\"margin-left: 20px\">In general, Genetic Algorithms (GA) won't be able to solve every problem. No free lunch theorem (NFL): There is no single algorithm that is superior at solving problems, to all other algorithms in general. Evolutionary algorithms are efficient at solving discontinuous, non-differentiable, multimodal problems, with noise and unconventional search spaces. On the contrary, its effectiveness decreases when facing simpler problems for which specific algorithms have been developed in their resolution.<br>"
   ]
  },
  {
   "cell_type": "markdown",
   "metadata": {},
   "source": [
    "<p style=\"margin-left: 20px\"><b>Poner grafica con publicaciones por año!"
   ]
  },
  {
   "cell_type": "markdown",
   "metadata": {},
   "source": [
    "<a id='solutionspace'></a>\n",
    "<p style=\"margin-left: 20px; font-size: 1.4em\"> <b>2.3. Solution space </b></p>\n",
    "<p style=\"margin-left: 20px\"> <a href='#top'> Return to top </a></p>"
   ]
  },
  {
   "cell_type": "markdown",
   "metadata": {},
   "source": [
    "<p style=\"margin-left: 20px\">The solution space, in general, can be different from the search space.  This is very common in Evolutionary computation where we work with a codification of the solution as symbols or programs in the search space.\n",
    "Therefore, codification and search space setup, will play a key role in the success of the algorithm. If the search space is larger than the solution space, we will find invalid solutions. If the solution space is larger than the search space, it might happen that we don't find the optimal solution.\n"
   ]
  },
  {
   "cell_type": "markdown",
   "metadata": {},
   "source": [
    "<img src=\"https://raw.githubusercontent.com/RohitUttam/Genetic-Algorithms/master/images/Encoding.png\" alt=\"Drawing\" style=\"width: 500px;\"/>\n"
   ]
  },
  {
   "cell_type": "markdown",
   "metadata": {},
   "source": [
    "<a id='ambiguityredundancy'></a>\n",
    "<p style=\"margin-left: 20px; font-size: 1.4em\"> <b>2.4. Ambiguity vs. Redundancy </b></p>\n",
    "<p style=\"margin-left: 20px\"> <a href='#top'> Return to top </a></p>"
   ]
  },
  {
   "cell_type": "markdown",
   "metadata": {},
   "source": [
    "\n",
    "<p style=\"margin-left: 20px\"><b>Redundancy:</b><br>\n",
    "Different encodings can code the same solution. When this happens, there are different symbols for the same solution so it is possible to find it more quickly (has been empirically proven).\n",
    "\n",
    "<p style=\"margin-left: 20px\"><b>Ambiguity:</b><br>\n",
    "Different solutions can be encoded with same symbols."
   ]
  },
  {
   "cell_type": "markdown",
   "metadata": {},
   "source": [
    "<a id='explorationexplotation'></a>\n",
    "<p style=\"margin-left: 20px; font-size: 1.4em\"> <b>2.5. Exploration vs Exploitation </b></p>\n",
    "<p style=\"margin-left: 20px\"> <a href='#top'> Return to top </a></p>"
   ]
  },
  {
   "cell_type": "markdown",
   "metadata": {},
   "source": [
    "<p style=\"margin-left: 20px\"><b>Explotation (local search):</b><br>Consists of sampling a limited (but already identified as promising) region of the search space with the hope of improving an existing solution. This operation, then, tries to intensify (refine) the search in the neighbourhood of the existing solution.\n",
    "<br>\n",
    "    <br>\n",
    "<img src=\"https://raw.githubusercontent.com/RohitUttam/Genetic-Algorithms/master/images/Exploitation.png\" alt=\"Drawing\" style=\"width: 150px;\"/>\n"
   ]
  },
  {
   "cell_type": "markdown",
   "metadata": {},
   "source": [
    "<p style=\"margin-left: 20px\"><b>Exploration (global search):</b><br>Consists of sampling a much larger portion of the search space with the hope of finding other promising solutions that are yet to be refined. This operation, tries to diversify the search in order to avoid local optimums.\n",
    "<img src=\"https://raw.githubusercontent.com/RohitUttam/Genetic-Algorithms/master/images/Exploration.png\" alt=\"Drawing\" style=\"width: 180px;\"/></p>\n"
   ]
  },
  {
   "cell_type": "markdown",
   "metadata": {},
   "source": [
    "<p style=\"margin-left: 20px\">A good search algorithm will have to keep a balance in order to explore a large search space at the beginning and narrow down the search in final iterations."
   ]
  },
  {
   "cell_type": "markdown",
   "metadata": {},
   "source": [
    "<a id='Methods'></a>\n",
    "# 3. Exact vs. approximate methods\n",
    "<a href='#top'> Return to top </a>"
   ]
  },
  {
   "cell_type": "markdown",
   "metadata": {},
   "source": [
    "The trade-off criteria for deciding whether to use a heuristic for solving a given problem include the following:\n",
    "* Objective function: Not required to be fully defined, but we need to be able to evaluate it.\n",
    "* Optimality: Metaheuristics do not guarantee that a globally optimal solution can be found on some class of problems, but it can provide good approximations in short time.\n",
    "* Search space: if search space is large or extremely large, classic methods are inefficient.\n",
    "* Completeness:  Many heuristics are only meant to find one solution.\n",
    "* Confidence: If a confidence interval is required other approaches can provide it.\n",
    "* Performance: Some heuristics converge faster than others while some are only marginally quicker than classic methods.\n",
    "\n",
    " <br>\n",
    "They are increasingly used in intermediate and large search space. In optimization complexity terms, they are often used to solve NP Problems and large combinatorial problems in P too.\n",
    "<br>    \n"
   ]
  },
  {
   "attachments": {},
   "cell_type": "markdown",
   "metadata": {},
   "source": [
    "<img src=\"https://raw.githubusercontent.com/RohitUttam/Genetic-Algorithms/master/images/complexity.png\" alt=\"Drawing\" style=\"width: 500px;\"/>"
   ]
  },
  {
   "cell_type": "markdown",
   "metadata": {},
   "source": [
    "<img src=\"https://raw.githubusercontent.com/RohitUttam/Genetic-Algorithms/master/images/MathProg.png\" alt=\"Drawing\" style=\"width: 780px;\"/></p>\n"
   ]
  },
  {
   "cell_type": "markdown",
   "metadata": {},
   "source": [
    "<img src=\"https://raw.githubusercontent.com/RohitUttam/Genetic-Algorithms/master/images/Metaheuristic.png\" alt=\"Drawing\" style=\"width: 680px;\"/></p>\n"
   ]
  },
  {
   "cell_type": "markdown",
   "metadata": {},
   "source": [
    "<a id='GeneticAlgorithms'></a>\n",
    "# 4. Genetic Algorithms\n",
    "<a href='#top'> Return to top </a>"
   ]
  },
  {
   "cell_type": "markdown",
   "metadata": {},
   "source": [
    "A Genetic Algorithm (GA) is a metaheuristic inspired by the process of natural selection that belongs to the larger class of evolutionary algorithms (EA). It is based on neo-Darwinism paradigm: \"survival of the fittest\", where most of the history of life can be completely justified by physical processes, populations and species. These processes are:\n",
    "<br><br>\n",
    "<p style=\"margin-left: 40px\"><b>Reproduction </b><br>\n",
    "It involves the transfer of the genetic code of each individual to their offspring.\n",
    "<br><br>\n",
    "<b>Mutation </b><br> Due to errors in replication during the genetic information transfer process are unavoidable. In addition, mutation is necessary to include diversity in the species.\n",
    "<br><br>\n",
    "<b>Competition (Selection) </b><br> It is a consequence of population growth within a finite physical space where there is no space or energy for everyone. Selection is the result of the reproduction of the species in a competitive environment: only the individuals that are more adapated to the environment, survive (i.e. the fittest).\n",
    "<br><br>\n",
    "\n"
   ]
  },
  {
   "cell_type": "markdown",
   "metadata": {},
   "source": [
    "<a id='Basics'></a>\n",
    "<p style=\"margin-left: 20px; font-size: 1.4em\"> <b>4.1. Basic concepts</b></p>\n",
    "<p style=\"margin-left: 20px\"> <a href='#top'> Return to top </a></p>"
   ]
  },
  {
   "cell_type": "markdown",
   "metadata": {},
   "source": [
    "<p style=\"margin-left: 20px\">\n",
    "<b>Population</b> \n",
    "<br>The set of points in the search space or individuals (possible solutions to the problem) with which a GA works at a given moment in the evolution process.\n",
    "<img src=\"https://raw.githubusercontent.com/RohitUttam/Genetic-Algorithms/master/images/Population2.png\" alt=\"Drawing\" style=\"width: 400px;\"/>\n"
   ]
  },
  {
   "cell_type": "markdown",
   "metadata": {},
   "source": [
    "<p style=\"margin-left: 20px\"><b>Chromosomes (individual)</b><br> \n",
    "A chromosome is usually identified as an individual in Genetic Algorithms, although in nature, an individual consists of several chromosomes. Individuals and species can be seen as a duality of their genetic code, the genotype, and their way of expressing themselves with respect to the physical world, the phenotype. The genotype offers the possibility of storing the accumulated experience, acquired from historical information.<br>\n",
    "<br>In summary:</p>\n",
    "<p style=\"margin-left: 60px\"><b>Genotype </b><br>The set of genes representing the chromosome (Search space).<br><br>\n",
    "<b>Phenotype</b><br> The actual physical representation of the chromosome (Solution space)."
   ]
  },
  {
   "cell_type": "markdown",
   "metadata": {},
   "source": [
    "<p style=\"margin-left: 20px\"><b>Genes</b><br> Set of parameters that represent the individuals that make up a population. Each gene represents a position in the chain.\n",
    "<br>\n",
    "<img src=\"https://raw.githubusercontent.com/RohitUttam/Genetic-Algorithms/master/images/Individual2.png\" alt=\"Drawing\" style=\"width: 400px;\"/>\n",
    "\n"
   ]
  },
  {
   "cell_type": "markdown",
   "metadata": {},
   "source": [
    "<p style=\"margin-left: 20px\"><b>Allele</b><br>  Possible values of each gene (symbols). The number of alleles is equal to the cardinality of the alphabet used (m).\n",
    "<br>\n"
   ]
  },
  {
   "cell_type": "markdown",
   "metadata": {},
   "source": [
    "<img src=\"https://raw.githubusercontent.com/RohitUttam/Genetic-Algorithms/master/images/Gene2.png\" alt=\"Drawing\" style=\"width: 180px;\"/>\n"
   ]
  },
  {
   "cell_type": "markdown",
   "metadata": {},
   "source": [
    "<a id='Lifecycle'></a>\n",
    "<p style=\"margin-left: 20px; font-size: 1.4em\"> <b>4.2. Evolutionary lifecycle</b></p>\n",
    "<p style=\"margin-left: 20px\"> <a href='#top'> Return to top </a></p>"
   ]
  },
  {
   "cell_type": "markdown",
   "metadata": {},
   "source": [
    "<p style=\"margin-left: 20px\">As part of Evolutionary Algorithms, GA use mechanisms inspired by biological evolution, such as reproduction, mutation, recombination, and selection. Candidate solutions to the optimization problem play the role of individuals in a population, and the fitness function determines the quality of the solutions (see also loss function). Evolution of the population then takes place after the repeated application of the above operators."
   ]
  },
  {
   "cell_type": "markdown",
   "metadata": {},
   "source": [
    "<video style=\"display:block; margin: 0 auto;\" class='center' src=\"https://raw.githubusercontent.com/RohitUttam/Genetic-Algorithms/master/videos/Lifecycle2.mov\" alt=\"test\" controls loop width=\"600\"></video>"
   ]
  },
  {
   "cell_type": "markdown",
   "metadata": {},
   "source": [
    "<a id='ProsCons'></a>\n",
    "<p style=\"margin-left: 20px; font-size: 1.4em\"> <b>4.3. Pros and Cons</b></p>\n",
    "<p style=\"margin-left: 20px\"> <a href='#top'> Return to top </a></p>"
   ]
  },
  {
   "cell_type": "markdown",
   "metadata": {},
   "source": [
    "<img src=\"https://raw.githubusercontent.com/RohitUttam/Genetic-Algorithms/master/images/ProsCons.png\" alt=\"Drawing\" style=\"width: 400px;\"/>\n"
   ]
  },
  {
   "cell_type": "markdown",
   "metadata": {},
   "source": [
    "<a id='Game'></a>\n",
    "# 5. Example: Target sum game\n",
    "<a href='#top'> Return to top </a>"
   ]
  },
  {
   "cell_type": "markdown",
   "metadata": {},
   "source": [
    "<video style=\"display:block; margin: 0 auto;\" class='center' src=\"https://raw.githubusercontent.com/RohitUttam/Genetic-Algorithms/master/videos/TargetNumber.mov\" alt=\"test\" controls loop width=\"600\"></video>"
   ]
  },
  {
   "cell_type": "markdown",
   "metadata": {},
   "source": [
    "<b>Problem statement:</b>\n",
    "<br>\n",
    "The goal of the game is to find the right operators (+,-,*,$\\div$) to place them between the numbers in order for to achieve target value (or as close as possible).\n",
    "Note: To keep it simple the operations are completed in sequencial order (there is no BODMAS order)\n",
    "\n",
    "<br>\n",
    "$$ 75\\hspace{0.3cm} \\_ \\hspace{0.3cm}\n",
    "3\\hspace{0.3cm} \\_ \\hspace{0.3cm}\n",
    "1\\hspace{0.3cm} \\_ \\hspace{0.3cm}\n",
    "4\\hspace{0.3cm} \\_ \\hspace{0.3cm}\n",
    "50\\hspace{0.3cm} \\_ \\hspace{0.3cm}\n",
    "6\\hspace{0.3cm} \\_ \\hspace{0.3cm}\n",
    "12\\hspace{0.3cm} \\_ \\hspace{0.3cm}\n",
    "8\\hspace{0.3cm} = \\hspace{0.3cm}\n",
    "target$$"
   ]
  },
  {
   "cell_type": "markdown",
   "metadata": {},
   "source": [
    "<a id='Encoding'></a>\n",
    "<p style=\"margin-left: 20px; font-size: 1.4em\"> <b>5.1. Encoding</b></p>\n",
    "<p style=\"margin-left: 20px\"> <a href='#top'> Return to top </a></p>"
   ]
  },
  {
   "cell_type": "markdown",
   "metadata": {},
   "source": [
    "<p style=\"margin-left: 20px\">In order to build genetic chains, an encoding of the solution onto the search space must be provided. A careful choice, will help the algorithm converge to the right solution and yield faster performance."
   ]
  },
  {
   "cell_type": "markdown",
   "metadata": {},
   "source": [
    "<img src=\"https://raw.githubusercontent.com/RohitUttam/Genetic-Algorithms/master/images/Encoding2.png\" alt=\"Drawing\" style=\"width: 350px;\"/>"
   ]
  },
  {
   "cell_type": "markdown",
   "metadata": {},
   "source": [
    "<img src=\"https://raw.githubusercontent.com/RohitUttam/Genetic-Algorithms/master/images/EncodingTarget.png\" alt=\"Drawing\" style=\"width: 500px;\"/>"
   ]
  },
  {
   "cell_type": "markdown",
   "metadata": {},
   "source": [
    "<a id='Initialization'></a>\n",
    "<p style=\"margin-left: 20px; font-size: 1.4em\"> <b>5.2. Initialization</b></p>\n",
    "<p style=\"margin-left: 20px\"> <a href='#top'> Return to top </a></p>"
   ]
  },
  {
   "cell_type": "markdown",
   "metadata": {},
   "source": [
    "<p style=\"margin-left: 20px\">A population is initialized randomly in the first iteration (generation) of every simulation. The hyperparameter $P$, size of population has to be chosen before execution while $S$, size of individuals is fixed by the paramaters of the problem we are trying to optimize (in this case the numbers):"
   ]
  },
  {
   "cell_type": "markdown",
   "metadata": {},
   "source": [
    "<img src=\"https://raw.githubusercontent.com/RohitUttam/Genetic-Algorithms/master/images/Initialization.png\" alt=\"Drawing\" style=\"width: 500px;\"/>"
   ]
  },
  {
   "cell_type": "markdown",
   "metadata": {},
   "source": [
    "<a id='Fitness'></a>\n",
    "<p style=\"margin-left: 20px; font-size: 1.4em\"> <b>5.3. Fitness</b></p>\n",
    "<p style=\"margin-left: 20px\"> <a href='#top'> Return to top </a></p>"
   ]
  },
  {
   "cell_type": "markdown",
   "metadata": {},
   "source": [
    "<p style=\"margin-left: 20px\"> At every timestep (generation), the population has to be evaluated through a $Fitness$ function. This $Fitness$ function will provide a score for each individual, indicating if the individual is a good candidate for the overall solution or not. Keep in mind that this function will me evaluated $PxG$ times, where $P$ is the size of population and $G$, the number of generations. So a Fitness function has to be fast and efficient."
   ]
  },
  {
   "cell_type": "markdown",
   "metadata": {},
   "source": [
    "<img src=\"https://raw.githubusercontent.com/RohitUttam/Genetic-Algorithms/master/images/Fitness.png\" alt=\"Drawing\" style=\"width: 500px;\"/>"
   ]
  },
  {
   "cell_type": "markdown",
   "metadata": {},
   "source": [
    "<a id='Selection'></a>\n",
    "<p style=\"margin-left: 20px; font-size: 1.4em\"> <b>5.4. Selection</b></p>\n",
    "<p style=\"margin-left: 20px\"> <a href='#top'> Return to top </a></p>\n",
    "\n",
    "<p style=\"margin-left: 20px\">Some individuals are selected to create new generations of individuals.\n",
    "The idea is for individuals with greater level of adaptation (i.e. fitness) to be chosen with higher probability, and therefore passing on genetic information to their offsprings.\n",
    "</p>"
   ]
  },
  {
   "cell_type": "markdown",
   "metadata": {},
   "source": [
    "<img src=\"https://raw.githubusercontent.com/RohitUttam/Genetic-Algorithms/master/images/Selection.png\" alt=\"Drawing\" style=\"width: 400px;\"/>"
   ]
  },
  {
   "cell_type": "markdown",
   "metadata": {},
   "source": [
    "<a id='Crossover'></a>\n",
    "<p style=\"margin-left: 20px; font-size: 1.4em\"> <b>5.5. Crossover</b></p>\n",
    "<p style=\"margin-left: 20px\"> <a href='#top'> Return to top </a></p>"
   ]
  },
  {
   "cell_type": "markdown",
   "metadata": {},
   "source": [
    "<p style=\"margin-left: 20px\"> Once the mating individuals are chosen, it remains to define how they will reproduce to develop new individuals. This is the most valuable operator in the Genetic Algorithm's architecture. It will determine the success of the search problem.</p>"
   ]
  },
  {
   "cell_type": "markdown",
   "metadata": {},
   "source": [
    "<a id='SinglePoint'></a>\n",
    "<p style=\"margin-left: 40px\"> <b>5.5.1. Single Point Crossover</b></p>\n",
    "<p style=\"margin-left: 40px\"> <a href='#top'> Return to top </a></p>"
   ]
  },
  {
   "cell_type": "markdown",
   "metadata": {},
   "source": [
    "<p style=\"margin-left: 40px\"> New generations of individuals are generated from the selected individuals,by choosing one crossover point at random. The goal is to preserve large building blocks from fittest individuals in current generation.\n",
    "\n",
    "<br>\n",
    "<br>\n",
    "$$\\text{Single Point Crossover}$$\n",
    "<img src=\"https://raw.githubusercontent.com/RohitUttam/Genetic-Algorithms/master/images/SinglePoint.png\" alt=\"Drawing\" style=\"width: 400px;\"/></p>\n"
   ]
  },
  {
   "cell_type": "markdown",
   "metadata": {},
   "source": [
    "<a id='Uniform'></a>\n",
    "<p style=\"margin-left: 40px\"> <b>5.4.2. Uniform crossover</b></p>\n",
    "<p style=\"margin-left: 40px\"> <a href='#top'> Return to top </a></p>\n",
    "\n",
    "<p style=\"margin-left: 40px\">It has been proven in the literature that adding more crossover points helps the algorithms uptil a certain point $\\text{(DeJong, 75 )}$. In general, more than two crossover points reduces performance. The reason for this is that the building blocks will of course be disrupted more often, however there is a tradeoff, it will help adding diversity and exploring further the search space."
   ]
  },
  {
   "cell_type": "markdown",
   "metadata": {},
   "source": [
    "<img src=\"https://raw.githubusercontent.com/RohitUttam/Genetic-Algorithms/master/images/UniformCrossover.png\" alt=\"Drawing\" style=\"width: 500px;\"/></p>\n"
   ]
  },
  {
   "cell_type": "markdown",
   "metadata": {},
   "source": [
    "<a id='Mutation'></a>\n",
    "<p style=\"margin-left: 20px; font-size: 1.4em\"> <b>5.6. Mutation</b></p>\n",
    "<p style=\"margin-left: 20px\"> <a href='#top'> Return to top </a></p>\n",
    "\n",
    "<p style=\"margin-left: 20px\">The mutation operator modifies the gene of the individuals stochastically. The goal of this operator is to increase the search space in which the algorithm is looking for the solution. \n",
    "Use of mutation operators are usually kept below p=0.05, as they introduce randomness to the algorithm."
   ]
  },
  {
   "cell_type": "markdown",
   "metadata": {},
   "source": [
    "<img src=\"https://raw.githubusercontent.com/RohitUttam/Genetic-Algorithms/master/images/Mutation.png\" alt=\"Drawing\" style=\"width: 500px;\"/></p>"
   ]
  },
  {
   "cell_type": "markdown",
   "metadata": {},
   "source": [
    "<a id='Replacement'></a>\n",
    "<p style=\"margin-left: 20px; font-size: 1.4em\"> <b>5.7. Replacement</b></p>\n",
    "<p style=\"margin-left: 20px\"> <a href='#top'> Return to top </a></p>\n",
    "\n"
   ]
  },
  {
   "cell_type": "markdown",
   "metadata": {},
   "source": [
    "Once new individuals have been generated, it remains to see, which ones are kept in the population. In general, the population size is invariant with time. Therefore, some individuals, will have to be replaced in order to keep the fittest individuals with higher probability."
   ]
  },
  {
   "cell_type": "markdown",
   "metadata": {},
   "source": [
    "<a id='SinglePoint'></a>\n",
    "<p style=\"margin-left: 40px\"> <b>5.7.1. Elitist Replacement</b></p>\n",
    "<p style=\"margin-left: 40px\"> <a href='#top'> Return to top </a></p>"
   ]
  },
  {
   "cell_type": "markdown",
   "metadata": {},
   "source": [
    "<p style=\"margin-left: 40px\"> An elitist replacement operator is completely deterministic. It chooses only the individuals with the highest fitness among previous and current generation of individuals, to create next iteration’s population.\n",
    "The rest are eliminated."
   ]
  },
  {
   "cell_type": "markdown",
   "metadata": {},
   "source": [
    "<img src=\"https://raw.githubusercontent.com/RohitUttam/Genetic-Algorithms/master/images/Elitist.png\" alt=\"Drawing\" style=\"width: 650px;\"/></p>"
   ]
  },
  {
   "cell_type": "markdown",
   "metadata": {},
   "source": [
    "<a id='SinglePoint'></a>\n",
    "<p style=\"margin-left: 40px\"> <b>5.7.2. Simple Reduction</b></p>\n",
    "<p style=\"margin-left: 40px\"> <a href='#top'> Return to top </a></p>"
   ]
  },
  {
   "cell_type": "markdown",
   "metadata": {},
   "source": [
    "<p style=\"margin-left: 40px\"> A simple reduction replacement operator is stochastic. It chooses individuals with the lower fitness to be replaced with higher probability, among previous and current generation of individuals."
   ]
  },
  {
   "cell_type": "markdown",
   "metadata": {},
   "source": [
    "<img src=\"https://raw.githubusercontent.com/RohitUttam/Genetic-Algorithms/master/images/Simplereduction.png\" alt=\"Drawing\" style=\"width: 650px;\"/></p>"
   ]
  },
  {
   "cell_type": "markdown",
   "metadata": {},
   "source": [
    "<img src=\"https://raw.githubusercontent.com/RohitUttam/Genetic-Algorithms/master/images/replacement.png\" alt=\"Drawing\" style=\"width: 450px;\"/></p>"
   ]
  },
  {
   "cell_type": "markdown",
   "metadata": {},
   "source": [
    "<br>\n",
    "<br>\n",
    "<br>\n",
    "<a id='Convergence'></a>\n",
    "<p style=\"margin-left: 20px; font-size: 1.4em\"> <b>EXTRA: Convergence</b></p>\n",
    "<p style=\"margin-left: 20px\"><a href='#top'> Return to top </a></p>"
   ]
  },
  {
   "cell_type": "markdown",
   "metadata": {},
   "source": [
    "<p style=\"margin-left: 20px\">Regarding convergence, there are various metrics that study convergence of Genetic Algorithms $\\text{[5]}$. Two common metrics  are:\n",
    "\n",
    "$$ \\textrm{Offline measure}\\hspace{0.5cm} m^{*}(T)=\\dfrac{1}{T}\\sum_{t=1}^{T}(f(I^{*}(t)) $$"
   ]
  },
  {
   "cell_type": "markdown",
   "metadata": {},
   "source": [
    "<p style=\"margin-left: 20px\">Where $ f(I^{*}(t))$ is the fitness of the fittest individual at generation *t*.\n",
    "Therefore, offline measurement can be interpreted as a progress indicator. After a number of generations, this measurement can be near the optima or not, however the velocity of when this happens indicates the ability of the algorithm to establish itself near the solution. It can serve the purpose of being used as a stopping criteria (i.e. when difference between generations is close).\n"
   ]
  },
  {
   "cell_type": "markdown",
   "metadata": {},
   "source": [
    "<p style=\"margin-left: 20px\">$$ \\textrm{Online measure}\\hspace{0.7cm} m(T)=\\dfrac{1}{T}\\sum_{t=1}^{T}F(t) $$"
   ]
  },
  {
   "cell_type": "markdown",
   "metadata": {},
   "source": [
    "<p style=\"margin-left: 20px\">Online measurement is defined as the mean, for the objective function, till evaluation. Where F(t) is the mean of fitness of all individuals available at generation t."
   ]
  },
  {
   "cell_type": "markdown",
   "metadata": {},
   "source": [
    "<a id='Code'></a>\n",
    "# 6. Code\n",
    "<a href='#top'> Return to top </a>"
   ]
  },
  {
   "cell_type": "code",
   "execution_count": 36,
   "metadata": {},
   "outputs": [],
   "source": [
    "\n",
    "class GeneticAlgorithm:\n",
    "    \n",
    "    \n",
    "    decode={0:np.sum,\n",
    "            1:np.prod,\n",
    "            2:subtract,\n",
    "            3:divide}\n",
    "    \n",
    "    decode_str={0:'+',\n",
    "                1:'*',\n",
    "                2:'-',\n",
    "                3:'/'}\n",
    "    \n",
    "    def __init__(self,parameters:list,population_size:int,target:float):\n",
    "        \n",
    "        self.parameters=parameters\n",
    "        self.population_size=population_size\n",
    "        self.population_history=[]\n",
    "        self.fitness_history=[]\n",
    "        self.target=target\n",
    "        \n",
    "    @property\n",
    "    def population(self):\n",
    "        '''\n",
    "        Returns population for current iteration.\n",
    "        '''\n",
    "        return self._population\n",
    "    \n",
    "    @population.setter\n",
    "    def population(self,x):\n",
    "        '''\n",
    "        Sets population and calculates fitness for new population.\n",
    "        '''\n",
    "        self._population=x\n",
    "        self.population_history.append(x)\n",
    "        self.fitness,self.values=self.get_fitness()\n",
    "        \n",
    "    @property\n",
    "    def fitness(self):\n",
    "        '''\n",
    "        Returns fitness for current iteration.\n",
    "        '''\n",
    "        return self._fitness\n",
    "    \n",
    "    @fitness.setter\n",
    "    def fitness(self,x):\n",
    "        '''\n",
    "        Sets fitness for new population.\n",
    "        '''\n",
    "        self._fitness=x\n",
    "        self.fitness_history.append(x)\n",
    "        \n",
    "    def get_fitness(self,population:np.array=None)->tuple:\n",
    "        '''\n",
    "        Calculates fitness and value for new population\n",
    "        \n",
    "        Parameters:\n",
    "        \n",
    "        population: array\n",
    "            individuals for which to calculate fitness\n",
    "            \n",
    "        :returns: tuple\n",
    "            fitness: array\n",
    "                fitness score\n",
    "            value: array\n",
    "                objective function values\n",
    "        '''\n",
    "        if population is None:\n",
    "            population=self.population\n",
    "        fitness=[]\n",
    "        values=[]\n",
    "        for individual in population:\n",
    "            total=self.parameters[0]\n",
    "            for param,gene in enumerate(individual):\n",
    "                total=self.decode[gene](np.array([total,self.parameters[param+1]]))\n",
    "            values.append(total)\n",
    "            fitness.append(np.round(abs(self.target -total),2))\n",
    "        return np.array(fitness),np.array(values)\n",
    "    \n",
    "    def selection(self,num_parents:int=4,epsilon:float=1e-5, method:str='proportional',replacement:bool=False)->np.array:\n",
    "        '''\n",
    "        Parameters:\n",
    "        \n",
    "        method: str\n",
    "            choose between 'proportional' - invariant to scale\n",
    "            and 'smooth' - invariant to scale and translation\n",
    "        '''\n",
    "        assert num_parents%2==0\n",
    "        \n",
    "        if method=='proportional':\n",
    "            crossover_probability=1/(self.fitness+epsilon)\n",
    "            crossover_probability/=np.sum(crossover_probability)\n",
    "            individuals_to_cross=np.random.choice(range(len(crossover_probability)),\n",
    "                                                  size=num_parents,\n",
    "                                                  replacement=False,\n",
    "                                                  p=crossover_probability)\n",
    "        elif method=='smoothed':\n",
    "            crossover_probability=(1+np.argsort(self.fitness))\\\n",
    "                                /(len(self.fitness)*(len(self.fitness)+1)/2)\n",
    "            individuals_to_cross=np.random.choice(range(len(crossover_probability)),\n",
    "                                                  size=num_parents,\n",
    "                                                  replace=replacement,\n",
    "                                                  p=crossover_probability)\n",
    "        \n",
    "        return individuals_to_cross\n",
    "    \n",
    "    def crossover(self,parents:list,method:str='uniform')->np.array:\n",
    "        '''\n",
    "        Parameters:\n",
    "        \n",
    "        parents: list(int)\n",
    "            index of individuals to crossover\n",
    "            \n",
    "        :returns: new individuals (offspring)\n",
    "        '''\n",
    "        children=[]\n",
    "        if method=='uniform':\n",
    "            for parent1_id,parent2_id in zip(parents[::2],parents[1::2]): \n",
    "                parent1=self.population[parent1_id]\n",
    "                parent2=self.population[parent2_id]\n",
    "                crossover_mask=np.random.randint(2,size=self.population.shape[1])\n",
    "                mask1,mask2=[np.where(i==crossover_mask)[0] for i in (0,1)]\n",
    "                child1=np.zeros(self.population.shape[1])\n",
    "                child2=np.zeros(self.population.shape[1])\n",
    "                child1[mask1]=parent1[mask1]\n",
    "                child1[mask2]=parent2[mask2]\n",
    "                child2[mask2]=parent1[mask2]\n",
    "                child2[mask1]=parent2[mask1]\n",
    "                children.append(np.vstack([child1,child2]))\n",
    "        return np.array(children).reshape(len(parents),self.population.shape[1])\n",
    "    \n",
    "    def mutation(self, subpopulation:np.array,probability_mutation:float=0.05,method='gene')->np.array:\n",
    "        '''\n",
    "        Parameters:\n",
    "        \n",
    "        probability_mutation: float\n",
    "            probability of mutation\n",
    "            \n",
    "        :returns: subpopulation with mutations\n",
    "        '''\n",
    "        if method=='gene':\n",
    "            for individual in subpopulation:\n",
    "                mutation_idx=np.where(np.random.uniform(size=len(self.parameters)-1)>=1-probability_mutation)[0]\n",
    "                if len(mutation_idx)>0:\n",
    "                    individual[mutation_idx]=np.random.randint(np.max(list(self.decode)),size=len(mutation_idx))\n",
    "        return subpopulation\n",
    "    \n",
    "    def replacement(self,subpopulation:np.array,method='steadystate')->np.array:\n",
    "        '''\n",
    "        Parameters\n",
    "        \n",
    "        method: str\n",
    "            Choose among 'SteadyState' - replace a fixed % of old population\n",
    "            or 'Elitist' - keep fittest from old and new population\n",
    "        '''\n",
    "        if method=='elitist':\n",
    "            newfitness=self.get_fitness(population=subpopulation)[0]\n",
    "            allpopulation=np.vstack([self.population,subpopulation])\n",
    "            allfitness=np.hstack([self.fitness,newfitness])\n",
    "            best_fitted=np.argsort(allfitness)[:self.population.shape[0]]\n",
    "            newpopulation=allpopulation[best_fitted]\n",
    "        return newpopulation\n",
    "    \n",
    "    def search(self,iterations=100,\n",
    "               simulations=20,\n",
    "               p_mutation=0.05,\n",
    "               num_parents=4,\n",
    "               max_gene_convergence=0.95,\n",
    "               selection_method='smoothed',\n",
    "               crossover_method='uniform',\n",
    "               mutation_method='gene',\n",
    "               replacement_method='elitist')->None:\n",
    "        '''\n",
    "        Search and optimize fitness function, following GA architecture.\n",
    "        '''\n",
    "        \n",
    "        fittest_fitness=[]\n",
    "        fittest_individual=[]\n",
    "        best_fitness=[]\n",
    "        global_best_fitness=1000\n",
    "        \n",
    "        for simulation in range(0,simulations):\n",
    "            for iteration in range(0,iterations):\n",
    "                if iteration==0:\n",
    "                    #Initialize population and calculate fitness:\n",
    "                    self.population=np.random.randint(4,size=(self.population_size,len(self.parameters)-1))\n",
    "                else:\n",
    "                    #Selection\n",
    "                    individuals_to_cross = self.selection(num_parents,\n",
    "                                                          method=selection_method)\n",
    "                    #Crossover\n",
    "                    children = self.crossover(parents=individuals_to_cross,\n",
    "                                              method=crossover_method)\n",
    "                    #Mutation\n",
    "                    children = self.mutation(children,\n",
    "                                             probability_mutation=p_mutation,\n",
    "                                            method=mutation_method)\n",
    "                    #Replacement\n",
    "                    newpopulation = self.replacement(subpopulation=children,\n",
    "                                                     method=replacement_method)\n",
    "                    #Set new population (and calculate new fitness)\n",
    "                    self.population=newpopulation\n",
    "\n",
    "                #Best fitness in iteration:\n",
    "                best_fitness_iteration=np.min(self.fitness)\n",
    "                fittest_fitness.append([simulation,iteration,best_fitness_iteration])\n",
    "                fittest_individual.append([simulation,iteration,self.population[np.argmin(self.fitness)]])\n",
    "\n",
    "                #Convergence (if max_gene_convergence, break this simulation)\n",
    "                sorted_population= np.sort(self.population,axis=0)\n",
    "                different_values=(sorted_population[1:,:] != sorted_population[:-1,:]).sum(axis=0)+1\n",
    "                convergence=np.mean(different_values==1)\n",
    "                if convergence>=max_gene_convergence:\n",
    "                    break\n",
    "        \n",
    "                #Updates minimum fitness value if it decreases\n",
    "                if(best_fitness_iteration<global_best_fitness):\n",
    "                    global_best_fitness = best_fitness_iteration\n",
    "                    best_fitness.append([simulation,iteration,best_fitness_iteration])\n",
    "                    if best_fitness_iteration==0:\n",
    "                        return\n",
    "            self.fittest_fitness=fittest_fitness\n",
    "            self.fittest_individual=fittest_individual\n",
    "            self.best_fitness=best_fitness\n",
    "        return \n",
    "    \n",
    "    def result_plot(self,interactive=False)->plt.plot:\n",
    "        '''\n",
    "        Plot best fitness of every iteration.\n",
    "        '''\n",
    "        best_fitness_df=pd.DataFrame(self.fittest_fitness,columns=['simulation','iteration','bestfitness'])\n",
    "        all_individual_df=pd.DataFrame(self.fittest_individual,columns=['simulation','iteration','individual'])\n",
    "        \n",
    "        absolute_best=all_individual_df[(all_individual_df.simulation==self.best_fitness[-1][0])&\n",
    "                        (all_individual_df.iteration==self.best_fitness[-1][1])]\n",
    "        \n",
    "        display(absolute_best)\n",
    "        absolute_best_fitness,absolute_best_values=self.get_fitness(absolute_best.individual.values)\n",
    "        print(f'Fitness:{absolute_best_fitness[0]} \\t Value: {absolute_best_values[0]}')\n",
    "        if interactive:\n",
    "            y_max,y_min=best_fitness_df.bestfitness.max(),best_fitness_df.bestfitness.min()\n",
    "            fig=px.line(best_fitness_df,x='iteration',y='bestfitness',animation_frame=\"simulation\",\n",
    "                       animation_group=\"iteration\",range_x=[0,100],range_y=[y_min,y_max],\n",
    "                      title='Best fitness')\n",
    "        else:  \n",
    "            fig=px.line(best_fitness_df,x='iteration',y='bestfitness',color='simulation')\n",
    "        fig.show()\n",
    "        \n",
    "    def convergence_plot(self,interactive=False)->plt.plot:\n",
    "        '''\n",
    "        Convergence plot for metrics ([1] DeJong K., 1975):\n",
    "            offline measure\n",
    "            online measure\n",
    "        '''\n",
    "        def offline_measure(df):\n",
    "            return pd.Series(df['fitness'].cumsum().values/(df['iteration'].values+1))\n",
    "        \n",
    "        def online_measure(df):\n",
    "            return pd.Series(df['mean_fitness'].cumsum().values/(df['iteration'].values+1))\n",
    "        \n",
    "        fittest_fitness_df=pd.DataFrame(self.fittest_fitness,\n",
    "                                        columns=['simulation','iteration','fitness'])\n",
    "        offline_measures=fittest_fitness_df.groupby('simulation').apply(lambda x: offline_measure(x))\n",
    "        offline_measures=offline_measures.reset_index().drop('level_1',axis=1).rename(columns={0:'m*'})\n",
    "        offline_measures['iteration']=fittest_fitness_df['iteration']\n",
    "        \n",
    "        if interactive:\n",
    "            fig=px.scatter(offline_measures,x='iteration',y='m*',animation_frame=\"simulation\",\n",
    "                           animation_group=\"iteration\",range_y=[-50,1000],range_x=[0,100],\n",
    "                          title='Offline measure')\n",
    "        else:\n",
    "            fig=px.line(offline_measures,x='iteration',y='m*',title='Offline measure',color='simulation')\n",
    "        fig.show()\n",
    "        \n",
    "        fittest_fitness_df['mean_fitness']=np.mean(self.fitness_history,axis=1)\n",
    "        online_measures=fittest_fitness_df.groupby('simulation').apply(lambda x: online_measure(x))\n",
    "        online_measures=online_measures.reset_index().drop('level_1',axis=1).rename(columns={0:'m'})\n",
    "        online_measures['iteration']=fittest_fitness_df['iteration']\n",
    "        \n",
    "        if interactive:\n",
    "            fig=px.scatter(online_measures,x='iteration',y='m',animation_frame=\"simulation\", animation_group=\"iteration\",\n",
    "                      range_y=[-50,1000],range_x=[0,100],title='Online measure')\n",
    "        else:\n",
    "            fig=px.line(online_measures,x='iteration',y='m',title='Online measure',color='simulation')\n",
    "        fig.show()\n",
    "        return \n",
    "    \n",
    "    def __str__(self):\n",
    "        '''\n",
    "        String representation of last population stored\n",
    "        '''\n",
    "        text=[]\n",
    "        for i,individual in enumerate(self.population):\n",
    "            total=str(self.parameters[0])\n",
    "            for param,gene in enumerate(individual):\n",
    "                total+=f'{self.decode_str[gene]}{self.parameters[param+1]}'\n",
    "            total+=f'={round(self.values[i],2)} \\t - fitness:{round(self.fitness[i],2)}'\n",
    "            text.append(total)\n",
    "        return \", \\n\".join(text)\n",
    "    "
   ]
  },
  {
   "cell_type": "code",
   "execution_count": 44,
   "metadata": {},
   "outputs": [],
   "source": [
    "GA=GeneticAlgorithm(parameters=[75, 3, 1, 4, 50, 6, 12, 8],population_size=10,target=852)\n",
    "GA.search(simulations=20)"
   ]
  },
  {
   "cell_type": "code",
   "execution_count": 45,
   "metadata": {},
   "outputs": [
    {
     "data": {
      "text/html": [
       "<div>\n",
       "<style scoped>\n",
       "    .dataframe tbody tr th:only-of-type {\n",
       "        vertical-align: middle;\n",
       "    }\n",
       "\n",
       "    .dataframe tbody tr th {\n",
       "        vertical-align: top;\n",
       "    }\n",
       "\n",
       "    .dataframe thead th {\n",
       "        text-align: right;\n",
       "    }\n",
       "</style>\n",
       "<table border=\"1\" class=\"dataframe\">\n",
       "  <thead>\n",
       "    <tr style=\"text-align: right;\">\n",
       "      <th></th>\n",
       "      <th>simulation</th>\n",
       "      <th>iteration</th>\n",
       "      <th>individual</th>\n",
       "    </tr>\n",
       "  </thead>\n",
       "  <tbody>\n",
       "    <tr>\n",
       "      <th>592</th>\n",
       "      <td>7</td>\n",
       "      <td>36</td>\n",
       "      <td>[1.0, 3.0, 1.0, 2.0, 0.0, 2.0, 0.0]</td>\n",
       "    </tr>\n",
       "  </tbody>\n",
       "</table>\n",
       "</div>"
      ],
      "text/plain": [
       "     simulation  iteration                           individual\n",
       "592           7         36  [1.0, 3.0, 1.0, 2.0, 0.0, 2.0, 0.0]"
      ]
     },
     "metadata": {},
     "output_type": "display_data"
    },
    {
     "name": "stdout",
     "output_type": "stream",
     "text": [
      "Fitness:0.0 \t Value: 852.0\n"
     ]
    },
    {
     "data": {
      "application/vnd.plotly.v1+json": {
       "config": {
        "plotlyServerURL": "https://plot.ly"
       },
       "data": [
        {
         "hovertemplate": "simulation=0<br>iteration=%{x}<br>bestfitness=%{y}<extra></extra>",
         "legendgroup": "0",
         "line": {
          "color": "#636efa",
          "dash": "solid"
         },
         "mode": "lines",
         "name": "0",
         "orientation": "v",
         "showlegend": true,
         "type": "scatter",
         "x": [
          0,
          1,
          2,
          3,
          4,
          5,
          6,
          7,
          8,
          9,
          10,
          11,
          12,
          13,
          14,
          15,
          16,
          17,
          18,
          19,
          20,
          21,
          22,
          23,
          24,
          25,
          26,
          27,
          28,
          29,
          30,
          31,
          32,
          33,
          34,
          35,
          36,
          37,
          38,
          39,
          40,
          41,
          42,
          43,
          44,
          45,
          46,
          47,
          48,
          49,
          50,
          51,
          52,
          53,
          54,
          55,
          56,
          57,
          58,
          59,
          60,
          61,
          62,
          63,
          64,
          65,
          66
         ],
         "xaxis": "x",
         "y": [
          94,
          94,
          94,
          94,
          94,
          94,
          94,
          94,
          94,
          94,
          94,
          94,
          94,
          94,
          94,
          94,
          94,
          94,
          94,
          94,
          94,
          94,
          94,
          94,
          52,
          52,
          52,
          52,
          52,
          52,
          43,
          43,
          43,
          43,
          43,
          43,
          43,
          43,
          43,
          43,
          43,
          43,
          43,
          43,
          43,
          43,
          43,
          43,
          43,
          43,
          43,
          43,
          43,
          43,
          43,
          43,
          43,
          43,
          43,
          43,
          43,
          43,
          43,
          43,
          43,
          43,
          43
         ],
         "yaxis": "y"
        },
        {
         "hovertemplate": "simulation=1<br>iteration=%{x}<br>bestfitness=%{y}<extra></extra>",
         "legendgroup": "1",
         "line": {
          "color": "#EF553B",
          "dash": "solid"
         },
         "mode": "lines",
         "name": "1",
         "orientation": "v",
         "showlegend": true,
         "type": "scatter",
         "x": [
          0,
          1,
          2,
          3,
          4,
          5,
          6,
          7,
          8,
          9,
          10,
          11,
          12,
          13,
          14,
          15,
          16,
          17,
          18,
          19,
          20,
          21,
          22,
          23,
          24,
          25,
          26,
          27,
          28,
          29,
          30,
          31,
          32,
          33,
          34,
          35,
          36,
          37,
          38,
          39,
          40,
          41,
          42,
          43,
          44,
          45,
          46,
          47,
          48,
          49,
          50,
          51,
          52,
          53,
          54,
          55,
          56,
          57,
          58,
          59
         ],
         "xaxis": "x",
         "y": [
          715,
          363.25,
          363.25,
          363.25,
          363.25,
          180,
          180,
          180,
          180,
          180,
          180,
          180,
          180,
          180,
          180,
          52,
          52,
          52,
          52,
          52,
          52,
          52,
          52,
          52,
          52,
          52,
          52,
          52,
          28,
          28,
          28,
          28,
          28,
          28,
          28,
          28,
          28,
          28,
          28,
          28,
          28,
          28,
          28,
          28,
          28,
          28,
          4,
          4,
          4,
          4,
          4,
          4,
          4,
          4,
          4,
          4,
          4,
          4,
          4,
          4
         ],
         "yaxis": "y"
        },
        {
         "hovertemplate": "simulation=2<br>iteration=%{x}<br>bestfitness=%{y}<extra></extra>",
         "legendgroup": "2",
         "line": {
          "color": "#00cc96",
          "dash": "solid"
         },
         "mode": "lines",
         "name": "2",
         "orientation": "v",
         "showlegend": true,
         "type": "scatter",
         "x": [
          0,
          1,
          2,
          3,
          4,
          5,
          6,
          7,
          8,
          9,
          10,
          11,
          12,
          13,
          14,
          15,
          16,
          17,
          18,
          19,
          20,
          21,
          22,
          23,
          24,
          25,
          26,
          27,
          28,
          29,
          30,
          31,
          32,
          33,
          34,
          35,
          36,
          37,
          38,
          39,
          40,
          41,
          42,
          43,
          44,
          45,
          46,
          47,
          48,
          49,
          50,
          51,
          52,
          53,
          54,
          55,
          56,
          57,
          58,
          59,
          60,
          61,
          62,
          63,
          64,
          65,
          66,
          67,
          68,
          69,
          70,
          71,
          72,
          73,
          74,
          75,
          76,
          77,
          78,
          79,
          80,
          81,
          82,
          83,
          84
         ],
         "xaxis": "x",
         "y": [
          238.67,
          238.67,
          238.67,
          44,
          44,
          44,
          44,
          44,
          44,
          44,
          44,
          44,
          44,
          44,
          44,
          44,
          44,
          44,
          44,
          44,
          44,
          44,
          44,
          44,
          44,
          44,
          44,
          44,
          44,
          44,
          44,
          44,
          44,
          44,
          44,
          44,
          44,
          44,
          44,
          44,
          44,
          44,
          44,
          44,
          44,
          44,
          44,
          44,
          44,
          44,
          44,
          44,
          44,
          44,
          44,
          44,
          44,
          44,
          44,
          44,
          44,
          44,
          44,
          44,
          44,
          44,
          44,
          44,
          44,
          41,
          41,
          41,
          41,
          28,
          25,
          25,
          25,
          25,
          25,
          25,
          25,
          25,
          25,
          25,
          25
         ],
         "yaxis": "y"
        },
        {
         "hovertemplate": "simulation=3<br>iteration=%{x}<br>bestfitness=%{y}<extra></extra>",
         "legendgroup": "3",
         "line": {
          "color": "#ab63fa",
          "dash": "solid"
         },
         "mode": "lines",
         "name": "3",
         "orientation": "v",
         "showlegend": true,
         "type": "scatter",
         "x": [
          0,
          1,
          2,
          3,
          4,
          5,
          6,
          7,
          8,
          9,
          10,
          11,
          12,
          13,
          14,
          15,
          16,
          17,
          18,
          19,
          20,
          21,
          22,
          23,
          24,
          25,
          26,
          27,
          28,
          29,
          30,
          31,
          32,
          33,
          34,
          35,
          36,
          37,
          38,
          39,
          40,
          41,
          42,
          43,
          44,
          45,
          46,
          47,
          48,
          49,
          50,
          51,
          52,
          53,
          54,
          55,
          56,
          57,
          58,
          59,
          60,
          61,
          62,
          63,
          64,
          65,
          66,
          67,
          68,
          69,
          70,
          71,
          72,
          73,
          74,
          75,
          76,
          77,
          78,
          79,
          80,
          81,
          82,
          83,
          84,
          85,
          86,
          87,
          88,
          89,
          90,
          91,
          92,
          93,
          94,
          95,
          96,
          97,
          98,
          99
         ],
         "xaxis": "x",
         "y": [
          446.24,
          446.24,
          446.24,
          446.24,
          446.24,
          446.24,
          446.24,
          446.24,
          446.24,
          446.24,
          446.24,
          446.24,
          446.24,
          141,
          141,
          141,
          141,
          141,
          141,
          141,
          141,
          84,
          84,
          84,
          84,
          84,
          84,
          84,
          84,
          84,
          84,
          84,
          84,
          84,
          84,
          84,
          84,
          84,
          84,
          84,
          84,
          84,
          84,
          84,
          84,
          84,
          84,
          84,
          84,
          84,
          84,
          84,
          84,
          84,
          84,
          84,
          84,
          84,
          84,
          84,
          84,
          84,
          84,
          84,
          84,
          84,
          84,
          84,
          84,
          84,
          84,
          84,
          84,
          84,
          84,
          84,
          84,
          84,
          84,
          84,
          84,
          84,
          84,
          84,
          84,
          84,
          84,
          84,
          84,
          84,
          84,
          84,
          84,
          84,
          84,
          84,
          84,
          79.83,
          79.83,
          79.83
         ],
         "yaxis": "y"
        },
        {
         "hovertemplate": "simulation=4<br>iteration=%{x}<br>bestfitness=%{y}<extra></extra>",
         "legendgroup": "4",
         "line": {
          "color": "#FFA15A",
          "dash": "solid"
         },
         "mode": "lines",
         "name": "4",
         "orientation": "v",
         "showlegend": true,
         "type": "scatter",
         "x": [
          0,
          1,
          2,
          3,
          4,
          5,
          6,
          7,
          8,
          9,
          10,
          11,
          12,
          13,
          14,
          15,
          16,
          17,
          18,
          19,
          20,
          21,
          22,
          23,
          24,
          25,
          26,
          27,
          28,
          29,
          30,
          31,
          32,
          33,
          34,
          35,
          36,
          37,
          38,
          39,
          40,
          41,
          42,
          43,
          44,
          45,
          46,
          47,
          48,
          49,
          50,
          51,
          52,
          53,
          54,
          55,
          56,
          57,
          58,
          59,
          60,
          61,
          62,
          63,
          64,
          65,
          66,
          67,
          68,
          69,
          70,
          71,
          72,
          73,
          74,
          75,
          76,
          77,
          78,
          79,
          80,
          81,
          82,
          83,
          84,
          85,
          86,
          87,
          88,
          89,
          90,
          91,
          92,
          93,
          94,
          95,
          96,
          97,
          98,
          99
         ],
         "xaxis": "x",
         "y": [
          136,
          136,
          116,
          116,
          116,
          116,
          116,
          116,
          116,
          116,
          77.33,
          77.33,
          77.33,
          77.33,
          77.33,
          77.33,
          77.33,
          77.33,
          77.33,
          77.33,
          77.33,
          77.33,
          77.33,
          77.33,
          77.33,
          77.33,
          77.33,
          77.33,
          77.33,
          77.33,
          77.33,
          77.33,
          77.33,
          77.33,
          77.33,
          77.33,
          77.33,
          77.33,
          77.33,
          77.33,
          77.33,
          77.33,
          77.33,
          77.33,
          77.33,
          77.33,
          77.33,
          77.33,
          77.33,
          77.33,
          77.33,
          77.33,
          77.33,
          77.33,
          77.33,
          77.33,
          77.33,
          77.33,
          77.33,
          77.33,
          77.33,
          77.33,
          77.33,
          77.33,
          77.33,
          77.33,
          77.33,
          77.33,
          77.33,
          77.33,
          77.33,
          77.33,
          77.33,
          77.33,
          77.33,
          72,
          72,
          72,
          72,
          72,
          72,
          72,
          72,
          72,
          72,
          72,
          72,
          72,
          72,
          72,
          72,
          72,
          72,
          68,
          68,
          68,
          68,
          68,
          68,
          68
         ],
         "yaxis": "y"
        },
        {
         "hovertemplate": "simulation=5<br>iteration=%{x}<br>bestfitness=%{y}<extra></extra>",
         "legendgroup": "5",
         "line": {
          "color": "#19d3f3",
          "dash": "solid"
         },
         "mode": "lines",
         "name": "5",
         "orientation": "v",
         "showlegend": true,
         "type": "scatter",
         "x": [
          0,
          1,
          2,
          3,
          4,
          5,
          6,
          7,
          8,
          9,
          10,
          11,
          12,
          13,
          14,
          15,
          16,
          17,
          18,
          19,
          20,
          21,
          22,
          23,
          24,
          25,
          26,
          27,
          28,
          29,
          30,
          31,
          32,
          33,
          34,
          35,
          36,
          37,
          38,
          39,
          40,
          41,
          42,
          43,
          44,
          45,
          46,
          47,
          48,
          49,
          50,
          51,
          52,
          53,
          54,
          55,
          56,
          57,
          58,
          59,
          60,
          61,
          62,
          63,
          64,
          65,
          66,
          67,
          68,
          69,
          70,
          71,
          72,
          73,
          74,
          75,
          76,
          77,
          78,
          79,
          80,
          81,
          82,
          83,
          84,
          85,
          86,
          87,
          88,
          89,
          90,
          91,
          92,
          93,
          94,
          95,
          96,
          97,
          98,
          99
         ],
         "xaxis": "x",
         "y": [
          448,
          448,
          448,
          404,
          116,
          116,
          116,
          116,
          116,
          116,
          116,
          116,
          116,
          116,
          116,
          116,
          116,
          116,
          116,
          116,
          116,
          116,
          116,
          116,
          116,
          116,
          116,
          116,
          116,
          116,
          116,
          116,
          116,
          116,
          116,
          116,
          116,
          116,
          116,
          116,
          116,
          116,
          116,
          116,
          116,
          116,
          116,
          116,
          116,
          116,
          116,
          116,
          116,
          116,
          116,
          116,
          116,
          116,
          116,
          116,
          116,
          116,
          116,
          116,
          116,
          116,
          116,
          116,
          116,
          116,
          116,
          116,
          116,
          116,
          116,
          116,
          116,
          116,
          116,
          116,
          116,
          116,
          116,
          116,
          116,
          116,
          116,
          116,
          116,
          116,
          100,
          100,
          100,
          100,
          36,
          36,
          36,
          36,
          36,
          36
         ],
         "yaxis": "y"
        },
        {
         "hovertemplate": "simulation=6<br>iteration=%{x}<br>bestfitness=%{y}<extra></extra>",
         "legendgroup": "6",
         "line": {
          "color": "#FF6692",
          "dash": "solid"
         },
         "mode": "lines",
         "name": "6",
         "orientation": "v",
         "showlegend": true,
         "type": "scatter",
         "x": [
          0,
          1,
          2,
          3,
          4,
          5,
          6,
          7,
          8,
          9,
          10,
          11,
          12,
          13,
          14,
          15,
          16,
          17,
          18,
          19,
          20,
          21,
          22,
          23,
          24,
          25,
          26,
          27,
          28,
          29,
          30,
          31,
          32,
          33,
          34,
          35,
          36,
          37,
          38,
          39,
          40,
          41,
          42,
          43
         ],
         "xaxis": "x",
         "y": [
          274.5,
          274.5,
          274.5,
          274.5,
          274.5,
          274.5,
          274.5,
          274.5,
          274.5,
          274.5,
          274.5,
          196.5,
          196.5,
          196.5,
          196.5,
          196.5,
          196.5,
          196.5,
          196.5,
          196.5,
          196.5,
          196.5,
          196.5,
          196.5,
          196.5,
          196.5,
          196.5,
          196.5,
          196.5,
          196.5,
          196.5,
          196.5,
          196.5,
          196.5,
          196.5,
          196.5,
          196.5,
          196.5,
          196.5,
          196.5,
          196.5,
          196.5,
          196.5,
          196.5
         ],
         "yaxis": "y"
        },
        {
         "hovertemplate": "simulation=7<br>iteration=%{x}<br>bestfitness=%{y}<extra></extra>",
         "legendgroup": "7",
         "line": {
          "color": "#B6E880",
          "dash": "solid"
         },
         "mode": "lines",
         "name": "7",
         "orientation": "v",
         "showlegend": true,
         "type": "scatter",
         "x": [
          0,
          1,
          2,
          3,
          4,
          5,
          6,
          7,
          8,
          9,
          10,
          11,
          12,
          13,
          14,
          15,
          16,
          17,
          18,
          19,
          20,
          21,
          22,
          23,
          24,
          25,
          26,
          27,
          28,
          29,
          30,
          31,
          32,
          33,
          34,
          35,
          36
         ],
         "xaxis": "x",
         "y": [
          554,
          181.33,
          181.33,
          16,
          16,
          16,
          16,
          16,
          16,
          16,
          16,
          16,
          16,
          16,
          16,
          16,
          16,
          16,
          16,
          16,
          16,
          16,
          8,
          8,
          8,
          8,
          8,
          8,
          8,
          8,
          8,
          8,
          4,
          4,
          4,
          4,
          0
         ],
         "yaxis": "y"
        }
       ],
       "layout": {
        "legend": {
         "title": {
          "text": "simulation"
         },
         "tracegroupgap": 0
        },
        "margin": {
         "t": 60
        },
        "template": {
         "data": {
          "bar": [
           {
            "error_x": {
             "color": "#2a3f5f"
            },
            "error_y": {
             "color": "#2a3f5f"
            },
            "marker": {
             "line": {
              "color": "#E5ECF6",
              "width": 0.5
             }
            },
            "type": "bar"
           }
          ],
          "barpolar": [
           {
            "marker": {
             "line": {
              "color": "#E5ECF6",
              "width": 0.5
             }
            },
            "type": "barpolar"
           }
          ],
          "carpet": [
           {
            "aaxis": {
             "endlinecolor": "#2a3f5f",
             "gridcolor": "white",
             "linecolor": "white",
             "minorgridcolor": "white",
             "startlinecolor": "#2a3f5f"
            },
            "baxis": {
             "endlinecolor": "#2a3f5f",
             "gridcolor": "white",
             "linecolor": "white",
             "minorgridcolor": "white",
             "startlinecolor": "#2a3f5f"
            },
            "type": "carpet"
           }
          ],
          "choropleth": [
           {
            "colorbar": {
             "outlinewidth": 0,
             "ticks": ""
            },
            "type": "choropleth"
           }
          ],
          "contour": [
           {
            "colorbar": {
             "outlinewidth": 0,
             "ticks": ""
            },
            "colorscale": [
             [
              0,
              "#0d0887"
             ],
             [
              0.1111111111111111,
              "#46039f"
             ],
             [
              0.2222222222222222,
              "#7201a8"
             ],
             [
              0.3333333333333333,
              "#9c179e"
             ],
             [
              0.4444444444444444,
              "#bd3786"
             ],
             [
              0.5555555555555556,
              "#d8576b"
             ],
             [
              0.6666666666666666,
              "#ed7953"
             ],
             [
              0.7777777777777778,
              "#fb9f3a"
             ],
             [
              0.8888888888888888,
              "#fdca26"
             ],
             [
              1,
              "#f0f921"
             ]
            ],
            "type": "contour"
           }
          ],
          "contourcarpet": [
           {
            "colorbar": {
             "outlinewidth": 0,
             "ticks": ""
            },
            "type": "contourcarpet"
           }
          ],
          "heatmap": [
           {
            "colorbar": {
             "outlinewidth": 0,
             "ticks": ""
            },
            "colorscale": [
             [
              0,
              "#0d0887"
             ],
             [
              0.1111111111111111,
              "#46039f"
             ],
             [
              0.2222222222222222,
              "#7201a8"
             ],
             [
              0.3333333333333333,
              "#9c179e"
             ],
             [
              0.4444444444444444,
              "#bd3786"
             ],
             [
              0.5555555555555556,
              "#d8576b"
             ],
             [
              0.6666666666666666,
              "#ed7953"
             ],
             [
              0.7777777777777778,
              "#fb9f3a"
             ],
             [
              0.8888888888888888,
              "#fdca26"
             ],
             [
              1,
              "#f0f921"
             ]
            ],
            "type": "heatmap"
           }
          ],
          "heatmapgl": [
           {
            "colorbar": {
             "outlinewidth": 0,
             "ticks": ""
            },
            "colorscale": [
             [
              0,
              "#0d0887"
             ],
             [
              0.1111111111111111,
              "#46039f"
             ],
             [
              0.2222222222222222,
              "#7201a8"
             ],
             [
              0.3333333333333333,
              "#9c179e"
             ],
             [
              0.4444444444444444,
              "#bd3786"
             ],
             [
              0.5555555555555556,
              "#d8576b"
             ],
             [
              0.6666666666666666,
              "#ed7953"
             ],
             [
              0.7777777777777778,
              "#fb9f3a"
             ],
             [
              0.8888888888888888,
              "#fdca26"
             ],
             [
              1,
              "#f0f921"
             ]
            ],
            "type": "heatmapgl"
           }
          ],
          "histogram": [
           {
            "marker": {
             "colorbar": {
              "outlinewidth": 0,
              "ticks": ""
             }
            },
            "type": "histogram"
           }
          ],
          "histogram2d": [
           {
            "colorbar": {
             "outlinewidth": 0,
             "ticks": ""
            },
            "colorscale": [
             [
              0,
              "#0d0887"
             ],
             [
              0.1111111111111111,
              "#46039f"
             ],
             [
              0.2222222222222222,
              "#7201a8"
             ],
             [
              0.3333333333333333,
              "#9c179e"
             ],
             [
              0.4444444444444444,
              "#bd3786"
             ],
             [
              0.5555555555555556,
              "#d8576b"
             ],
             [
              0.6666666666666666,
              "#ed7953"
             ],
             [
              0.7777777777777778,
              "#fb9f3a"
             ],
             [
              0.8888888888888888,
              "#fdca26"
             ],
             [
              1,
              "#f0f921"
             ]
            ],
            "type": "histogram2d"
           }
          ],
          "histogram2dcontour": [
           {
            "colorbar": {
             "outlinewidth": 0,
             "ticks": ""
            },
            "colorscale": [
             [
              0,
              "#0d0887"
             ],
             [
              0.1111111111111111,
              "#46039f"
             ],
             [
              0.2222222222222222,
              "#7201a8"
             ],
             [
              0.3333333333333333,
              "#9c179e"
             ],
             [
              0.4444444444444444,
              "#bd3786"
             ],
             [
              0.5555555555555556,
              "#d8576b"
             ],
             [
              0.6666666666666666,
              "#ed7953"
             ],
             [
              0.7777777777777778,
              "#fb9f3a"
             ],
             [
              0.8888888888888888,
              "#fdca26"
             ],
             [
              1,
              "#f0f921"
             ]
            ],
            "type": "histogram2dcontour"
           }
          ],
          "mesh3d": [
           {
            "colorbar": {
             "outlinewidth": 0,
             "ticks": ""
            },
            "type": "mesh3d"
           }
          ],
          "parcoords": [
           {
            "line": {
             "colorbar": {
              "outlinewidth": 0,
              "ticks": ""
             }
            },
            "type": "parcoords"
           }
          ],
          "pie": [
           {
            "automargin": true,
            "type": "pie"
           }
          ],
          "scatter": [
           {
            "marker": {
             "colorbar": {
              "outlinewidth": 0,
              "ticks": ""
             }
            },
            "type": "scatter"
           }
          ],
          "scatter3d": [
           {
            "line": {
             "colorbar": {
              "outlinewidth": 0,
              "ticks": ""
             }
            },
            "marker": {
             "colorbar": {
              "outlinewidth": 0,
              "ticks": ""
             }
            },
            "type": "scatter3d"
           }
          ],
          "scattercarpet": [
           {
            "marker": {
             "colorbar": {
              "outlinewidth": 0,
              "ticks": ""
             }
            },
            "type": "scattercarpet"
           }
          ],
          "scattergeo": [
           {
            "marker": {
             "colorbar": {
              "outlinewidth": 0,
              "ticks": ""
             }
            },
            "type": "scattergeo"
           }
          ],
          "scattergl": [
           {
            "marker": {
             "colorbar": {
              "outlinewidth": 0,
              "ticks": ""
             }
            },
            "type": "scattergl"
           }
          ],
          "scattermapbox": [
           {
            "marker": {
             "colorbar": {
              "outlinewidth": 0,
              "ticks": ""
             }
            },
            "type": "scattermapbox"
           }
          ],
          "scatterpolar": [
           {
            "marker": {
             "colorbar": {
              "outlinewidth": 0,
              "ticks": ""
             }
            },
            "type": "scatterpolar"
           }
          ],
          "scatterpolargl": [
           {
            "marker": {
             "colorbar": {
              "outlinewidth": 0,
              "ticks": ""
             }
            },
            "type": "scatterpolargl"
           }
          ],
          "scatterternary": [
           {
            "marker": {
             "colorbar": {
              "outlinewidth": 0,
              "ticks": ""
             }
            },
            "type": "scatterternary"
           }
          ],
          "surface": [
           {
            "colorbar": {
             "outlinewidth": 0,
             "ticks": ""
            },
            "colorscale": [
             [
              0,
              "#0d0887"
             ],
             [
              0.1111111111111111,
              "#46039f"
             ],
             [
              0.2222222222222222,
              "#7201a8"
             ],
             [
              0.3333333333333333,
              "#9c179e"
             ],
             [
              0.4444444444444444,
              "#bd3786"
             ],
             [
              0.5555555555555556,
              "#d8576b"
             ],
             [
              0.6666666666666666,
              "#ed7953"
             ],
             [
              0.7777777777777778,
              "#fb9f3a"
             ],
             [
              0.8888888888888888,
              "#fdca26"
             ],
             [
              1,
              "#f0f921"
             ]
            ],
            "type": "surface"
           }
          ],
          "table": [
           {
            "cells": {
             "fill": {
              "color": "#EBF0F8"
             },
             "line": {
              "color": "white"
             }
            },
            "header": {
             "fill": {
              "color": "#C8D4E3"
             },
             "line": {
              "color": "white"
             }
            },
            "type": "table"
           }
          ]
         },
         "layout": {
          "annotationdefaults": {
           "arrowcolor": "#2a3f5f",
           "arrowhead": 0,
           "arrowwidth": 1
          },
          "coloraxis": {
           "colorbar": {
            "outlinewidth": 0,
            "ticks": ""
           }
          },
          "colorscale": {
           "diverging": [
            [
             0,
             "#8e0152"
            ],
            [
             0.1,
             "#c51b7d"
            ],
            [
             0.2,
             "#de77ae"
            ],
            [
             0.3,
             "#f1b6da"
            ],
            [
             0.4,
             "#fde0ef"
            ],
            [
             0.5,
             "#f7f7f7"
            ],
            [
             0.6,
             "#e6f5d0"
            ],
            [
             0.7,
             "#b8e186"
            ],
            [
             0.8,
             "#7fbc41"
            ],
            [
             0.9,
             "#4d9221"
            ],
            [
             1,
             "#276419"
            ]
           ],
           "sequential": [
            [
             0,
             "#0d0887"
            ],
            [
             0.1111111111111111,
             "#46039f"
            ],
            [
             0.2222222222222222,
             "#7201a8"
            ],
            [
             0.3333333333333333,
             "#9c179e"
            ],
            [
             0.4444444444444444,
             "#bd3786"
            ],
            [
             0.5555555555555556,
             "#d8576b"
            ],
            [
             0.6666666666666666,
             "#ed7953"
            ],
            [
             0.7777777777777778,
             "#fb9f3a"
            ],
            [
             0.8888888888888888,
             "#fdca26"
            ],
            [
             1,
             "#f0f921"
            ]
           ],
           "sequentialminus": [
            [
             0,
             "#0d0887"
            ],
            [
             0.1111111111111111,
             "#46039f"
            ],
            [
             0.2222222222222222,
             "#7201a8"
            ],
            [
             0.3333333333333333,
             "#9c179e"
            ],
            [
             0.4444444444444444,
             "#bd3786"
            ],
            [
             0.5555555555555556,
             "#d8576b"
            ],
            [
             0.6666666666666666,
             "#ed7953"
            ],
            [
             0.7777777777777778,
             "#fb9f3a"
            ],
            [
             0.8888888888888888,
             "#fdca26"
            ],
            [
             1,
             "#f0f921"
            ]
           ]
          },
          "colorway": [
           "#636efa",
           "#EF553B",
           "#00cc96",
           "#ab63fa",
           "#FFA15A",
           "#19d3f3",
           "#FF6692",
           "#B6E880",
           "#FF97FF",
           "#FECB52"
          ],
          "font": {
           "color": "#2a3f5f"
          },
          "geo": {
           "bgcolor": "white",
           "lakecolor": "white",
           "landcolor": "#E5ECF6",
           "showlakes": true,
           "showland": true,
           "subunitcolor": "white"
          },
          "hoverlabel": {
           "align": "left"
          },
          "hovermode": "closest",
          "mapbox": {
           "style": "light"
          },
          "paper_bgcolor": "white",
          "plot_bgcolor": "#E5ECF6",
          "polar": {
           "angularaxis": {
            "gridcolor": "white",
            "linecolor": "white",
            "ticks": ""
           },
           "bgcolor": "#E5ECF6",
           "radialaxis": {
            "gridcolor": "white",
            "linecolor": "white",
            "ticks": ""
           }
          },
          "scene": {
           "xaxis": {
            "backgroundcolor": "#E5ECF6",
            "gridcolor": "white",
            "gridwidth": 2,
            "linecolor": "white",
            "showbackground": true,
            "ticks": "",
            "zerolinecolor": "white"
           },
           "yaxis": {
            "backgroundcolor": "#E5ECF6",
            "gridcolor": "white",
            "gridwidth": 2,
            "linecolor": "white",
            "showbackground": true,
            "ticks": "",
            "zerolinecolor": "white"
           },
           "zaxis": {
            "backgroundcolor": "#E5ECF6",
            "gridcolor": "white",
            "gridwidth": 2,
            "linecolor": "white",
            "showbackground": true,
            "ticks": "",
            "zerolinecolor": "white"
           }
          },
          "shapedefaults": {
           "line": {
            "color": "#2a3f5f"
           }
          },
          "ternary": {
           "aaxis": {
            "gridcolor": "white",
            "linecolor": "white",
            "ticks": ""
           },
           "baxis": {
            "gridcolor": "white",
            "linecolor": "white",
            "ticks": ""
           },
           "bgcolor": "#E5ECF6",
           "caxis": {
            "gridcolor": "white",
            "linecolor": "white",
            "ticks": ""
           }
          },
          "title": {
           "x": 0.05
          },
          "xaxis": {
           "automargin": true,
           "gridcolor": "white",
           "linecolor": "white",
           "ticks": "",
           "title": {
            "standoff": 15
           },
           "zerolinecolor": "white",
           "zerolinewidth": 2
          },
          "yaxis": {
           "automargin": true,
           "gridcolor": "white",
           "linecolor": "white",
           "ticks": "",
           "title": {
            "standoff": 15
           },
           "zerolinecolor": "white",
           "zerolinewidth": 2
          }
         }
        },
        "xaxis": {
         "anchor": "y",
         "domain": [
          0,
          1
         ],
         "title": {
          "text": "iteration"
         }
        },
        "yaxis": {
         "anchor": "x",
         "domain": [
          0,
          1
         ],
         "title": {
          "text": "bestfitness"
         }
        }
       }
      },
      "text/html": [
       "<div>\n",
       "        \n",
       "        \n",
       "            <div id=\"c3adcd83-a66d-4100-9d32-383cca98e474\" class=\"plotly-graph-div\" style=\"height:525px; width:100%;\"></div>\n",
       "            <script type=\"text/javascript\">\n",
       "                require([\"plotly\"], function(Plotly) {\n",
       "                    window.PLOTLYENV=window.PLOTLYENV || {};\n",
       "                    \n",
       "                if (document.getElementById(\"c3adcd83-a66d-4100-9d32-383cca98e474\")) {\n",
       "                    Plotly.newPlot(\n",
       "                        'c3adcd83-a66d-4100-9d32-383cca98e474',\n",
       "                        [{\"hovertemplate\": \"simulation=0<br>iteration=%{x}<br>bestfitness=%{y}<extra></extra>\", \"legendgroup\": \"0\", \"line\": {\"color\": \"#636efa\", \"dash\": \"solid\"}, \"mode\": \"lines\", \"name\": \"0\", \"orientation\": \"v\", \"showlegend\": true, \"type\": \"scatter\", \"x\": [0, 1, 2, 3, 4, 5, 6, 7, 8, 9, 10, 11, 12, 13, 14, 15, 16, 17, 18, 19, 20, 21, 22, 23, 24, 25, 26, 27, 28, 29, 30, 31, 32, 33, 34, 35, 36, 37, 38, 39, 40, 41, 42, 43, 44, 45, 46, 47, 48, 49, 50, 51, 52, 53, 54, 55, 56, 57, 58, 59, 60, 61, 62, 63, 64, 65, 66], \"xaxis\": \"x\", \"y\": [94.0, 94.0, 94.0, 94.0, 94.0, 94.0, 94.0, 94.0, 94.0, 94.0, 94.0, 94.0, 94.0, 94.0, 94.0, 94.0, 94.0, 94.0, 94.0, 94.0, 94.0, 94.0, 94.0, 94.0, 52.0, 52.0, 52.0, 52.0, 52.0, 52.0, 43.0, 43.0, 43.0, 43.0, 43.0, 43.0, 43.0, 43.0, 43.0, 43.0, 43.0, 43.0, 43.0, 43.0, 43.0, 43.0, 43.0, 43.0, 43.0, 43.0, 43.0, 43.0, 43.0, 43.0, 43.0, 43.0, 43.0, 43.0, 43.0, 43.0, 43.0, 43.0, 43.0, 43.0, 43.0, 43.0, 43.0], \"yaxis\": \"y\"}, {\"hovertemplate\": \"simulation=1<br>iteration=%{x}<br>bestfitness=%{y}<extra></extra>\", \"legendgroup\": \"1\", \"line\": {\"color\": \"#EF553B\", \"dash\": \"solid\"}, \"mode\": \"lines\", \"name\": \"1\", \"orientation\": \"v\", \"showlegend\": true, \"type\": \"scatter\", \"x\": [0, 1, 2, 3, 4, 5, 6, 7, 8, 9, 10, 11, 12, 13, 14, 15, 16, 17, 18, 19, 20, 21, 22, 23, 24, 25, 26, 27, 28, 29, 30, 31, 32, 33, 34, 35, 36, 37, 38, 39, 40, 41, 42, 43, 44, 45, 46, 47, 48, 49, 50, 51, 52, 53, 54, 55, 56, 57, 58, 59], \"xaxis\": \"x\", \"y\": [715.0, 363.25, 363.25, 363.25, 363.25, 180.0, 180.0, 180.0, 180.0, 180.0, 180.0, 180.0, 180.0, 180.0, 180.0, 52.0, 52.0, 52.0, 52.0, 52.0, 52.0, 52.0, 52.0, 52.0, 52.0, 52.0, 52.0, 52.0, 28.0, 28.0, 28.0, 28.0, 28.0, 28.0, 28.0, 28.0, 28.0, 28.0, 28.0, 28.0, 28.0, 28.0, 28.0, 28.0, 28.0, 28.0, 4.0, 4.0, 4.0, 4.0, 4.0, 4.0, 4.0, 4.0, 4.0, 4.0, 4.0, 4.0, 4.0, 4.0], \"yaxis\": \"y\"}, {\"hovertemplate\": \"simulation=2<br>iteration=%{x}<br>bestfitness=%{y}<extra></extra>\", \"legendgroup\": \"2\", \"line\": {\"color\": \"#00cc96\", \"dash\": \"solid\"}, \"mode\": \"lines\", \"name\": \"2\", \"orientation\": \"v\", \"showlegend\": true, \"type\": \"scatter\", \"x\": [0, 1, 2, 3, 4, 5, 6, 7, 8, 9, 10, 11, 12, 13, 14, 15, 16, 17, 18, 19, 20, 21, 22, 23, 24, 25, 26, 27, 28, 29, 30, 31, 32, 33, 34, 35, 36, 37, 38, 39, 40, 41, 42, 43, 44, 45, 46, 47, 48, 49, 50, 51, 52, 53, 54, 55, 56, 57, 58, 59, 60, 61, 62, 63, 64, 65, 66, 67, 68, 69, 70, 71, 72, 73, 74, 75, 76, 77, 78, 79, 80, 81, 82, 83, 84], \"xaxis\": \"x\", \"y\": [238.67, 238.67, 238.67, 44.0, 44.0, 44.0, 44.0, 44.0, 44.0, 44.0, 44.0, 44.0, 44.0, 44.0, 44.0, 44.0, 44.0, 44.0, 44.0, 44.0, 44.0, 44.0, 44.0, 44.0, 44.0, 44.0, 44.0, 44.0, 44.0, 44.0, 44.0, 44.0, 44.0, 44.0, 44.0, 44.0, 44.0, 44.0, 44.0, 44.0, 44.0, 44.0, 44.0, 44.0, 44.0, 44.0, 44.0, 44.0, 44.0, 44.0, 44.0, 44.0, 44.0, 44.0, 44.0, 44.0, 44.0, 44.0, 44.0, 44.0, 44.0, 44.0, 44.0, 44.0, 44.0, 44.0, 44.0, 44.0, 44.0, 41.0, 41.0, 41.0, 41.0, 28.0, 25.0, 25.0, 25.0, 25.0, 25.0, 25.0, 25.0, 25.0, 25.0, 25.0, 25.0], \"yaxis\": \"y\"}, {\"hovertemplate\": \"simulation=3<br>iteration=%{x}<br>bestfitness=%{y}<extra></extra>\", \"legendgroup\": \"3\", \"line\": {\"color\": \"#ab63fa\", \"dash\": \"solid\"}, \"mode\": \"lines\", \"name\": \"3\", \"orientation\": \"v\", \"showlegend\": true, \"type\": \"scatter\", \"x\": [0, 1, 2, 3, 4, 5, 6, 7, 8, 9, 10, 11, 12, 13, 14, 15, 16, 17, 18, 19, 20, 21, 22, 23, 24, 25, 26, 27, 28, 29, 30, 31, 32, 33, 34, 35, 36, 37, 38, 39, 40, 41, 42, 43, 44, 45, 46, 47, 48, 49, 50, 51, 52, 53, 54, 55, 56, 57, 58, 59, 60, 61, 62, 63, 64, 65, 66, 67, 68, 69, 70, 71, 72, 73, 74, 75, 76, 77, 78, 79, 80, 81, 82, 83, 84, 85, 86, 87, 88, 89, 90, 91, 92, 93, 94, 95, 96, 97, 98, 99], \"xaxis\": \"x\", \"y\": [446.24, 446.24, 446.24, 446.24, 446.24, 446.24, 446.24, 446.24, 446.24, 446.24, 446.24, 446.24, 446.24, 141.0, 141.0, 141.0, 141.0, 141.0, 141.0, 141.0, 141.0, 84.0, 84.0, 84.0, 84.0, 84.0, 84.0, 84.0, 84.0, 84.0, 84.0, 84.0, 84.0, 84.0, 84.0, 84.0, 84.0, 84.0, 84.0, 84.0, 84.0, 84.0, 84.0, 84.0, 84.0, 84.0, 84.0, 84.0, 84.0, 84.0, 84.0, 84.0, 84.0, 84.0, 84.0, 84.0, 84.0, 84.0, 84.0, 84.0, 84.0, 84.0, 84.0, 84.0, 84.0, 84.0, 84.0, 84.0, 84.0, 84.0, 84.0, 84.0, 84.0, 84.0, 84.0, 84.0, 84.0, 84.0, 84.0, 84.0, 84.0, 84.0, 84.0, 84.0, 84.0, 84.0, 84.0, 84.0, 84.0, 84.0, 84.0, 84.0, 84.0, 84.0, 84.0, 84.0, 84.0, 79.83, 79.83, 79.83], \"yaxis\": \"y\"}, {\"hovertemplate\": \"simulation=4<br>iteration=%{x}<br>bestfitness=%{y}<extra></extra>\", \"legendgroup\": \"4\", \"line\": {\"color\": \"#FFA15A\", \"dash\": \"solid\"}, \"mode\": \"lines\", \"name\": \"4\", \"orientation\": \"v\", \"showlegend\": true, \"type\": \"scatter\", \"x\": [0, 1, 2, 3, 4, 5, 6, 7, 8, 9, 10, 11, 12, 13, 14, 15, 16, 17, 18, 19, 20, 21, 22, 23, 24, 25, 26, 27, 28, 29, 30, 31, 32, 33, 34, 35, 36, 37, 38, 39, 40, 41, 42, 43, 44, 45, 46, 47, 48, 49, 50, 51, 52, 53, 54, 55, 56, 57, 58, 59, 60, 61, 62, 63, 64, 65, 66, 67, 68, 69, 70, 71, 72, 73, 74, 75, 76, 77, 78, 79, 80, 81, 82, 83, 84, 85, 86, 87, 88, 89, 90, 91, 92, 93, 94, 95, 96, 97, 98, 99], \"xaxis\": \"x\", \"y\": [136.0, 136.0, 116.0, 116.0, 116.0, 116.0, 116.0, 116.0, 116.0, 116.0, 77.33, 77.33, 77.33, 77.33, 77.33, 77.33, 77.33, 77.33, 77.33, 77.33, 77.33, 77.33, 77.33, 77.33, 77.33, 77.33, 77.33, 77.33, 77.33, 77.33, 77.33, 77.33, 77.33, 77.33, 77.33, 77.33, 77.33, 77.33, 77.33, 77.33, 77.33, 77.33, 77.33, 77.33, 77.33, 77.33, 77.33, 77.33, 77.33, 77.33, 77.33, 77.33, 77.33, 77.33, 77.33, 77.33, 77.33, 77.33, 77.33, 77.33, 77.33, 77.33, 77.33, 77.33, 77.33, 77.33, 77.33, 77.33, 77.33, 77.33, 77.33, 77.33, 77.33, 77.33, 77.33, 72.0, 72.0, 72.0, 72.0, 72.0, 72.0, 72.0, 72.0, 72.0, 72.0, 72.0, 72.0, 72.0, 72.0, 72.0, 72.0, 72.0, 72.0, 68.0, 68.0, 68.0, 68.0, 68.0, 68.0, 68.0], \"yaxis\": \"y\"}, {\"hovertemplate\": \"simulation=5<br>iteration=%{x}<br>bestfitness=%{y}<extra></extra>\", \"legendgroup\": \"5\", \"line\": {\"color\": \"#19d3f3\", \"dash\": \"solid\"}, \"mode\": \"lines\", \"name\": \"5\", \"orientation\": \"v\", \"showlegend\": true, \"type\": \"scatter\", \"x\": [0, 1, 2, 3, 4, 5, 6, 7, 8, 9, 10, 11, 12, 13, 14, 15, 16, 17, 18, 19, 20, 21, 22, 23, 24, 25, 26, 27, 28, 29, 30, 31, 32, 33, 34, 35, 36, 37, 38, 39, 40, 41, 42, 43, 44, 45, 46, 47, 48, 49, 50, 51, 52, 53, 54, 55, 56, 57, 58, 59, 60, 61, 62, 63, 64, 65, 66, 67, 68, 69, 70, 71, 72, 73, 74, 75, 76, 77, 78, 79, 80, 81, 82, 83, 84, 85, 86, 87, 88, 89, 90, 91, 92, 93, 94, 95, 96, 97, 98, 99], \"xaxis\": \"x\", \"y\": [448.0, 448.0, 448.0, 404.0, 116.0, 116.0, 116.0, 116.0, 116.0, 116.0, 116.0, 116.0, 116.0, 116.0, 116.0, 116.0, 116.0, 116.0, 116.0, 116.0, 116.0, 116.0, 116.0, 116.0, 116.0, 116.0, 116.0, 116.0, 116.0, 116.0, 116.0, 116.0, 116.0, 116.0, 116.0, 116.0, 116.0, 116.0, 116.0, 116.0, 116.0, 116.0, 116.0, 116.0, 116.0, 116.0, 116.0, 116.0, 116.0, 116.0, 116.0, 116.0, 116.0, 116.0, 116.0, 116.0, 116.0, 116.0, 116.0, 116.0, 116.0, 116.0, 116.0, 116.0, 116.0, 116.0, 116.0, 116.0, 116.0, 116.0, 116.0, 116.0, 116.0, 116.0, 116.0, 116.0, 116.0, 116.0, 116.0, 116.0, 116.0, 116.0, 116.0, 116.0, 116.0, 116.0, 116.0, 116.0, 116.0, 116.0, 100.0, 100.0, 100.0, 100.0, 36.0, 36.0, 36.0, 36.0, 36.0, 36.0], \"yaxis\": \"y\"}, {\"hovertemplate\": \"simulation=6<br>iteration=%{x}<br>bestfitness=%{y}<extra></extra>\", \"legendgroup\": \"6\", \"line\": {\"color\": \"#FF6692\", \"dash\": \"solid\"}, \"mode\": \"lines\", \"name\": \"6\", \"orientation\": \"v\", \"showlegend\": true, \"type\": \"scatter\", \"x\": [0, 1, 2, 3, 4, 5, 6, 7, 8, 9, 10, 11, 12, 13, 14, 15, 16, 17, 18, 19, 20, 21, 22, 23, 24, 25, 26, 27, 28, 29, 30, 31, 32, 33, 34, 35, 36, 37, 38, 39, 40, 41, 42, 43], \"xaxis\": \"x\", \"y\": [274.5, 274.5, 274.5, 274.5, 274.5, 274.5, 274.5, 274.5, 274.5, 274.5, 274.5, 196.5, 196.5, 196.5, 196.5, 196.5, 196.5, 196.5, 196.5, 196.5, 196.5, 196.5, 196.5, 196.5, 196.5, 196.5, 196.5, 196.5, 196.5, 196.5, 196.5, 196.5, 196.5, 196.5, 196.5, 196.5, 196.5, 196.5, 196.5, 196.5, 196.5, 196.5, 196.5, 196.5], \"yaxis\": \"y\"}, {\"hovertemplate\": \"simulation=7<br>iteration=%{x}<br>bestfitness=%{y}<extra></extra>\", \"legendgroup\": \"7\", \"line\": {\"color\": \"#B6E880\", \"dash\": \"solid\"}, \"mode\": \"lines\", \"name\": \"7\", \"orientation\": \"v\", \"showlegend\": true, \"type\": \"scatter\", \"x\": [0, 1, 2, 3, 4, 5, 6, 7, 8, 9, 10, 11, 12, 13, 14, 15, 16, 17, 18, 19, 20, 21, 22, 23, 24, 25, 26, 27, 28, 29, 30, 31, 32, 33, 34, 35, 36], \"xaxis\": \"x\", \"y\": [554.0, 181.33, 181.33, 16.0, 16.0, 16.0, 16.0, 16.0, 16.0, 16.0, 16.0, 16.0, 16.0, 16.0, 16.0, 16.0, 16.0, 16.0, 16.0, 16.0, 16.0, 16.0, 8.0, 8.0, 8.0, 8.0, 8.0, 8.0, 8.0, 8.0, 8.0, 8.0, 4.0, 4.0, 4.0, 4.0, 0.0], \"yaxis\": \"y\"}],\n",
       "                        {\"legend\": {\"title\": {\"text\": \"simulation\"}, \"tracegroupgap\": 0}, \"margin\": {\"t\": 60}, \"template\": {\"data\": {\"bar\": [{\"error_x\": {\"color\": \"#2a3f5f\"}, \"error_y\": {\"color\": \"#2a3f5f\"}, \"marker\": {\"line\": {\"color\": \"#E5ECF6\", \"width\": 0.5}}, \"type\": \"bar\"}], \"barpolar\": [{\"marker\": {\"line\": {\"color\": \"#E5ECF6\", \"width\": 0.5}}, \"type\": \"barpolar\"}], \"carpet\": [{\"aaxis\": {\"endlinecolor\": \"#2a3f5f\", \"gridcolor\": \"white\", \"linecolor\": \"white\", \"minorgridcolor\": \"white\", \"startlinecolor\": \"#2a3f5f\"}, \"baxis\": {\"endlinecolor\": \"#2a3f5f\", \"gridcolor\": \"white\", \"linecolor\": \"white\", \"minorgridcolor\": \"white\", \"startlinecolor\": \"#2a3f5f\"}, \"type\": \"carpet\"}], \"choropleth\": [{\"colorbar\": {\"outlinewidth\": 0, \"ticks\": \"\"}, \"type\": \"choropleth\"}], \"contour\": [{\"colorbar\": {\"outlinewidth\": 0, \"ticks\": \"\"}, \"colorscale\": [[0.0, \"#0d0887\"], [0.1111111111111111, \"#46039f\"], [0.2222222222222222, \"#7201a8\"], [0.3333333333333333, \"#9c179e\"], [0.4444444444444444, \"#bd3786\"], [0.5555555555555556, \"#d8576b\"], [0.6666666666666666, \"#ed7953\"], [0.7777777777777778, \"#fb9f3a\"], [0.8888888888888888, \"#fdca26\"], [1.0, \"#f0f921\"]], \"type\": \"contour\"}], \"contourcarpet\": [{\"colorbar\": {\"outlinewidth\": 0, \"ticks\": \"\"}, \"type\": \"contourcarpet\"}], \"heatmap\": [{\"colorbar\": {\"outlinewidth\": 0, \"ticks\": \"\"}, \"colorscale\": [[0.0, \"#0d0887\"], [0.1111111111111111, \"#46039f\"], [0.2222222222222222, \"#7201a8\"], [0.3333333333333333, \"#9c179e\"], [0.4444444444444444, \"#bd3786\"], [0.5555555555555556, \"#d8576b\"], [0.6666666666666666, \"#ed7953\"], [0.7777777777777778, \"#fb9f3a\"], [0.8888888888888888, \"#fdca26\"], [1.0, \"#f0f921\"]], \"type\": \"heatmap\"}], \"heatmapgl\": [{\"colorbar\": {\"outlinewidth\": 0, \"ticks\": \"\"}, \"colorscale\": [[0.0, \"#0d0887\"], [0.1111111111111111, \"#46039f\"], [0.2222222222222222, \"#7201a8\"], [0.3333333333333333, \"#9c179e\"], [0.4444444444444444, \"#bd3786\"], [0.5555555555555556, \"#d8576b\"], [0.6666666666666666, \"#ed7953\"], [0.7777777777777778, \"#fb9f3a\"], [0.8888888888888888, \"#fdca26\"], [1.0, \"#f0f921\"]], \"type\": \"heatmapgl\"}], \"histogram\": [{\"marker\": {\"colorbar\": {\"outlinewidth\": 0, \"ticks\": \"\"}}, \"type\": \"histogram\"}], \"histogram2d\": [{\"colorbar\": {\"outlinewidth\": 0, \"ticks\": \"\"}, \"colorscale\": [[0.0, \"#0d0887\"], [0.1111111111111111, \"#46039f\"], [0.2222222222222222, \"#7201a8\"], [0.3333333333333333, \"#9c179e\"], [0.4444444444444444, \"#bd3786\"], [0.5555555555555556, \"#d8576b\"], [0.6666666666666666, \"#ed7953\"], [0.7777777777777778, \"#fb9f3a\"], [0.8888888888888888, \"#fdca26\"], [1.0, \"#f0f921\"]], \"type\": \"histogram2d\"}], \"histogram2dcontour\": [{\"colorbar\": {\"outlinewidth\": 0, \"ticks\": \"\"}, \"colorscale\": [[0.0, \"#0d0887\"], [0.1111111111111111, \"#46039f\"], [0.2222222222222222, \"#7201a8\"], [0.3333333333333333, \"#9c179e\"], [0.4444444444444444, \"#bd3786\"], [0.5555555555555556, \"#d8576b\"], [0.6666666666666666, \"#ed7953\"], [0.7777777777777778, \"#fb9f3a\"], [0.8888888888888888, \"#fdca26\"], [1.0, \"#f0f921\"]], \"type\": \"histogram2dcontour\"}], \"mesh3d\": [{\"colorbar\": {\"outlinewidth\": 0, \"ticks\": \"\"}, \"type\": \"mesh3d\"}], \"parcoords\": [{\"line\": {\"colorbar\": {\"outlinewidth\": 0, \"ticks\": \"\"}}, \"type\": \"parcoords\"}], \"pie\": [{\"automargin\": true, \"type\": \"pie\"}], \"scatter\": [{\"marker\": {\"colorbar\": {\"outlinewidth\": 0, \"ticks\": \"\"}}, \"type\": \"scatter\"}], \"scatter3d\": [{\"line\": {\"colorbar\": {\"outlinewidth\": 0, \"ticks\": \"\"}}, \"marker\": {\"colorbar\": {\"outlinewidth\": 0, \"ticks\": \"\"}}, \"type\": \"scatter3d\"}], \"scattercarpet\": [{\"marker\": {\"colorbar\": {\"outlinewidth\": 0, \"ticks\": \"\"}}, \"type\": \"scattercarpet\"}], \"scattergeo\": [{\"marker\": {\"colorbar\": {\"outlinewidth\": 0, \"ticks\": \"\"}}, \"type\": \"scattergeo\"}], \"scattergl\": [{\"marker\": {\"colorbar\": {\"outlinewidth\": 0, \"ticks\": \"\"}}, \"type\": \"scattergl\"}], \"scattermapbox\": [{\"marker\": {\"colorbar\": {\"outlinewidth\": 0, \"ticks\": \"\"}}, \"type\": \"scattermapbox\"}], \"scatterpolar\": [{\"marker\": {\"colorbar\": {\"outlinewidth\": 0, \"ticks\": \"\"}}, \"type\": \"scatterpolar\"}], \"scatterpolargl\": [{\"marker\": {\"colorbar\": {\"outlinewidth\": 0, \"ticks\": \"\"}}, \"type\": \"scatterpolargl\"}], \"scatterternary\": [{\"marker\": {\"colorbar\": {\"outlinewidth\": 0, \"ticks\": \"\"}}, \"type\": \"scatterternary\"}], \"surface\": [{\"colorbar\": {\"outlinewidth\": 0, \"ticks\": \"\"}, \"colorscale\": [[0.0, \"#0d0887\"], [0.1111111111111111, \"#46039f\"], [0.2222222222222222, \"#7201a8\"], [0.3333333333333333, \"#9c179e\"], [0.4444444444444444, \"#bd3786\"], [0.5555555555555556, \"#d8576b\"], [0.6666666666666666, \"#ed7953\"], [0.7777777777777778, \"#fb9f3a\"], [0.8888888888888888, \"#fdca26\"], [1.0, \"#f0f921\"]], \"type\": \"surface\"}], \"table\": [{\"cells\": {\"fill\": {\"color\": \"#EBF0F8\"}, \"line\": {\"color\": \"white\"}}, \"header\": {\"fill\": {\"color\": \"#C8D4E3\"}, \"line\": {\"color\": \"white\"}}, \"type\": \"table\"}]}, \"layout\": {\"annotationdefaults\": {\"arrowcolor\": \"#2a3f5f\", \"arrowhead\": 0, \"arrowwidth\": 1}, \"coloraxis\": {\"colorbar\": {\"outlinewidth\": 0, \"ticks\": \"\"}}, \"colorscale\": {\"diverging\": [[0, \"#8e0152\"], [0.1, \"#c51b7d\"], [0.2, \"#de77ae\"], [0.3, \"#f1b6da\"], [0.4, \"#fde0ef\"], [0.5, \"#f7f7f7\"], [0.6, \"#e6f5d0\"], [0.7, \"#b8e186\"], [0.8, \"#7fbc41\"], [0.9, \"#4d9221\"], [1, \"#276419\"]], \"sequential\": [[0.0, \"#0d0887\"], [0.1111111111111111, \"#46039f\"], [0.2222222222222222, \"#7201a8\"], [0.3333333333333333, \"#9c179e\"], [0.4444444444444444, \"#bd3786\"], [0.5555555555555556, \"#d8576b\"], [0.6666666666666666, \"#ed7953\"], [0.7777777777777778, \"#fb9f3a\"], [0.8888888888888888, \"#fdca26\"], [1.0, \"#f0f921\"]], \"sequentialminus\": [[0.0, \"#0d0887\"], [0.1111111111111111, \"#46039f\"], [0.2222222222222222, \"#7201a8\"], [0.3333333333333333, \"#9c179e\"], [0.4444444444444444, \"#bd3786\"], [0.5555555555555556, \"#d8576b\"], [0.6666666666666666, \"#ed7953\"], [0.7777777777777778, \"#fb9f3a\"], [0.8888888888888888, \"#fdca26\"], [1.0, \"#f0f921\"]]}, \"colorway\": [\"#636efa\", \"#EF553B\", \"#00cc96\", \"#ab63fa\", \"#FFA15A\", \"#19d3f3\", \"#FF6692\", \"#B6E880\", \"#FF97FF\", \"#FECB52\"], \"font\": {\"color\": \"#2a3f5f\"}, \"geo\": {\"bgcolor\": \"white\", \"lakecolor\": \"white\", \"landcolor\": \"#E5ECF6\", \"showlakes\": true, \"showland\": true, \"subunitcolor\": \"white\"}, \"hoverlabel\": {\"align\": \"left\"}, \"hovermode\": \"closest\", \"mapbox\": {\"style\": \"light\"}, \"paper_bgcolor\": \"white\", \"plot_bgcolor\": \"#E5ECF6\", \"polar\": {\"angularaxis\": {\"gridcolor\": \"white\", \"linecolor\": \"white\", \"ticks\": \"\"}, \"bgcolor\": \"#E5ECF6\", \"radialaxis\": {\"gridcolor\": \"white\", \"linecolor\": \"white\", \"ticks\": \"\"}}, \"scene\": {\"xaxis\": {\"backgroundcolor\": \"#E5ECF6\", \"gridcolor\": \"white\", \"gridwidth\": 2, \"linecolor\": \"white\", \"showbackground\": true, \"ticks\": \"\", \"zerolinecolor\": \"white\"}, \"yaxis\": {\"backgroundcolor\": \"#E5ECF6\", \"gridcolor\": \"white\", \"gridwidth\": 2, \"linecolor\": \"white\", \"showbackground\": true, \"ticks\": \"\", \"zerolinecolor\": \"white\"}, \"zaxis\": {\"backgroundcolor\": \"#E5ECF6\", \"gridcolor\": \"white\", \"gridwidth\": 2, \"linecolor\": \"white\", \"showbackground\": true, \"ticks\": \"\", \"zerolinecolor\": \"white\"}}, \"shapedefaults\": {\"line\": {\"color\": \"#2a3f5f\"}}, \"ternary\": {\"aaxis\": {\"gridcolor\": \"white\", \"linecolor\": \"white\", \"ticks\": \"\"}, \"baxis\": {\"gridcolor\": \"white\", \"linecolor\": \"white\", \"ticks\": \"\"}, \"bgcolor\": \"#E5ECF6\", \"caxis\": {\"gridcolor\": \"white\", \"linecolor\": \"white\", \"ticks\": \"\"}}, \"title\": {\"x\": 0.05}, \"xaxis\": {\"automargin\": true, \"gridcolor\": \"white\", \"linecolor\": \"white\", \"ticks\": \"\", \"title\": {\"standoff\": 15}, \"zerolinecolor\": \"white\", \"zerolinewidth\": 2}, \"yaxis\": {\"automargin\": true, \"gridcolor\": \"white\", \"linecolor\": \"white\", \"ticks\": \"\", \"title\": {\"standoff\": 15}, \"zerolinecolor\": \"white\", \"zerolinewidth\": 2}}}, \"xaxis\": {\"anchor\": \"y\", \"domain\": [0.0, 1.0], \"title\": {\"text\": \"iteration\"}}, \"yaxis\": {\"anchor\": \"x\", \"domain\": [0.0, 1.0], \"title\": {\"text\": \"bestfitness\"}}},\n",
       "                        {\"responsive\": true}\n",
       "                    ).then(function(){\n",
       "                            \n",
       "var gd = document.getElementById('c3adcd83-a66d-4100-9d32-383cca98e474');\n",
       "var x = new MutationObserver(function (mutations, observer) {{\n",
       "        var display = window.getComputedStyle(gd).display;\n",
       "        if (!display || display === 'none') {{\n",
       "            console.log([gd, 'removed!']);\n",
       "            Plotly.purge(gd);\n",
       "            observer.disconnect();\n",
       "        }}\n",
       "}});\n",
       "\n",
       "// Listen for the removal of the full notebook cells\n",
       "var notebookContainer = gd.closest('#notebook-container');\n",
       "if (notebookContainer) {{\n",
       "    x.observe(notebookContainer, {childList: true});\n",
       "}}\n",
       "\n",
       "// Listen for the clearing of the current output cell\n",
       "var outputEl = gd.closest('.output');\n",
       "if (outputEl) {{\n",
       "    x.observe(outputEl, {childList: true});\n",
       "}}\n",
       "\n",
       "                        })\n",
       "                };\n",
       "                });\n",
       "            </script>\n",
       "        </div>"
      ]
     },
     "metadata": {},
     "output_type": "display_data"
    }
   ],
   "source": [
    "GA.result_plot()"
   ]
  },
  {
   "cell_type": "code",
   "execution_count": 46,
   "metadata": {},
   "outputs": [
    {
     "data": {
      "text/html": [
       "<div>\n",
       "<style scoped>\n",
       "    .dataframe tbody tr th:only-of-type {\n",
       "        vertical-align: middle;\n",
       "    }\n",
       "\n",
       "    .dataframe tbody tr th {\n",
       "        vertical-align: top;\n",
       "    }\n",
       "\n",
       "    .dataframe thead th {\n",
       "        text-align: right;\n",
       "    }\n",
       "</style>\n",
       "<table border=\"1\" class=\"dataframe\">\n",
       "  <thead>\n",
       "    <tr style=\"text-align: right;\">\n",
       "      <th></th>\n",
       "      <th>simulation</th>\n",
       "      <th>iteration</th>\n",
       "      <th>individual</th>\n",
       "    </tr>\n",
       "  </thead>\n",
       "  <tbody>\n",
       "    <tr>\n",
       "      <th>592</th>\n",
       "      <td>7</td>\n",
       "      <td>36</td>\n",
       "      <td>[1.0, 3.0, 1.0, 2.0, 0.0, 2.0, 0.0]</td>\n",
       "    </tr>\n",
       "  </tbody>\n",
       "</table>\n",
       "</div>"
      ],
      "text/plain": [
       "     simulation  iteration                           individual\n",
       "592           7         36  [1.0, 3.0, 1.0, 2.0, 0.0, 2.0, 0.0]"
      ]
     },
     "metadata": {},
     "output_type": "display_data"
    },
    {
     "name": "stdout",
     "output_type": "stream",
     "text": [
      "Fitness:0.0 \t Value: 852.0\n"
     ]
    },
    {
     "data": {
      "application/vnd.plotly.v1+json": {
       "config": {
        "plotlyServerURL": "https://plot.ly"
       },
       "data": [
        {
         "hovertemplate": "simulation=0<br>iteration=%{x}<br>bestfitness=%{y}<extra></extra>",
         "ids": [
          0,
          1,
          2,
          3,
          4,
          5,
          6,
          7,
          8,
          9,
          10,
          11,
          12,
          13,
          14,
          15,
          16,
          17,
          18,
          19,
          20,
          21,
          22,
          23,
          24,
          25,
          26,
          27,
          28,
          29,
          30,
          31,
          32,
          33,
          34,
          35,
          36,
          37,
          38,
          39,
          40,
          41,
          42,
          43,
          44,
          45,
          46,
          47,
          48,
          49,
          50,
          51,
          52,
          53,
          54,
          55,
          56,
          57,
          58,
          59,
          60,
          61,
          62,
          63,
          64,
          65,
          66
         ],
         "legendgroup": "",
         "line": {
          "color": "#636efa",
          "dash": "solid"
         },
         "mode": "lines",
         "name": "",
         "orientation": "v",
         "showlegend": false,
         "type": "scatter",
         "x": [
          0,
          1,
          2,
          3,
          4,
          5,
          6,
          7,
          8,
          9,
          10,
          11,
          12,
          13,
          14,
          15,
          16,
          17,
          18,
          19,
          20,
          21,
          22,
          23,
          24,
          25,
          26,
          27,
          28,
          29,
          30,
          31,
          32,
          33,
          34,
          35,
          36,
          37,
          38,
          39,
          40,
          41,
          42,
          43,
          44,
          45,
          46,
          47,
          48,
          49,
          50,
          51,
          52,
          53,
          54,
          55,
          56,
          57,
          58,
          59,
          60,
          61,
          62,
          63,
          64,
          65,
          66
         ],
         "xaxis": "x",
         "y": [
          94,
          94,
          94,
          94,
          94,
          94,
          94,
          94,
          94,
          94,
          94,
          94,
          94,
          94,
          94,
          94,
          94,
          94,
          94,
          94,
          94,
          94,
          94,
          94,
          52,
          52,
          52,
          52,
          52,
          52,
          43,
          43,
          43,
          43,
          43,
          43,
          43,
          43,
          43,
          43,
          43,
          43,
          43,
          43,
          43,
          43,
          43,
          43,
          43,
          43,
          43,
          43,
          43,
          43,
          43,
          43,
          43,
          43,
          43,
          43,
          43,
          43,
          43,
          43,
          43,
          43,
          43
         ],
         "yaxis": "y"
        }
       ],
       "frames": [
        {
         "data": [
          {
           "hovertemplate": "simulation=0<br>iteration=%{x}<br>bestfitness=%{y}<extra></extra>",
           "ids": [
            0,
            1,
            2,
            3,
            4,
            5,
            6,
            7,
            8,
            9,
            10,
            11,
            12,
            13,
            14,
            15,
            16,
            17,
            18,
            19,
            20,
            21,
            22,
            23,
            24,
            25,
            26,
            27,
            28,
            29,
            30,
            31,
            32,
            33,
            34,
            35,
            36,
            37,
            38,
            39,
            40,
            41,
            42,
            43,
            44,
            45,
            46,
            47,
            48,
            49,
            50,
            51,
            52,
            53,
            54,
            55,
            56,
            57,
            58,
            59,
            60,
            61,
            62,
            63,
            64,
            65,
            66
           ],
           "legendgroup": "",
           "line": {
            "color": "#636efa",
            "dash": "solid"
           },
           "mode": "lines",
           "name": "",
           "orientation": "v",
           "showlegend": false,
           "type": "scatter",
           "x": [
            0,
            1,
            2,
            3,
            4,
            5,
            6,
            7,
            8,
            9,
            10,
            11,
            12,
            13,
            14,
            15,
            16,
            17,
            18,
            19,
            20,
            21,
            22,
            23,
            24,
            25,
            26,
            27,
            28,
            29,
            30,
            31,
            32,
            33,
            34,
            35,
            36,
            37,
            38,
            39,
            40,
            41,
            42,
            43,
            44,
            45,
            46,
            47,
            48,
            49,
            50,
            51,
            52,
            53,
            54,
            55,
            56,
            57,
            58,
            59,
            60,
            61,
            62,
            63,
            64,
            65,
            66
           ],
           "xaxis": "x",
           "y": [
            94,
            94,
            94,
            94,
            94,
            94,
            94,
            94,
            94,
            94,
            94,
            94,
            94,
            94,
            94,
            94,
            94,
            94,
            94,
            94,
            94,
            94,
            94,
            94,
            52,
            52,
            52,
            52,
            52,
            52,
            43,
            43,
            43,
            43,
            43,
            43,
            43,
            43,
            43,
            43,
            43,
            43,
            43,
            43,
            43,
            43,
            43,
            43,
            43,
            43,
            43,
            43,
            43,
            43,
            43,
            43,
            43,
            43,
            43,
            43,
            43,
            43,
            43,
            43,
            43,
            43,
            43
           ],
           "yaxis": "y"
          }
         ],
         "name": "0"
        },
        {
         "data": [
          {
           "hovertemplate": "simulation=1<br>iteration=%{x}<br>bestfitness=%{y}<extra></extra>",
           "ids": [
            0,
            1,
            2,
            3,
            4,
            5,
            6,
            7,
            8,
            9,
            10,
            11,
            12,
            13,
            14,
            15,
            16,
            17,
            18,
            19,
            20,
            21,
            22,
            23,
            24,
            25,
            26,
            27,
            28,
            29,
            30,
            31,
            32,
            33,
            34,
            35,
            36,
            37,
            38,
            39,
            40,
            41,
            42,
            43,
            44,
            45,
            46,
            47,
            48,
            49,
            50,
            51,
            52,
            53,
            54,
            55,
            56,
            57,
            58,
            59
           ],
           "legendgroup": "",
           "line": {
            "color": "#636efa",
            "dash": "solid"
           },
           "mode": "lines",
           "name": "",
           "orientation": "v",
           "showlegend": false,
           "type": "scatter",
           "x": [
            0,
            1,
            2,
            3,
            4,
            5,
            6,
            7,
            8,
            9,
            10,
            11,
            12,
            13,
            14,
            15,
            16,
            17,
            18,
            19,
            20,
            21,
            22,
            23,
            24,
            25,
            26,
            27,
            28,
            29,
            30,
            31,
            32,
            33,
            34,
            35,
            36,
            37,
            38,
            39,
            40,
            41,
            42,
            43,
            44,
            45,
            46,
            47,
            48,
            49,
            50,
            51,
            52,
            53,
            54,
            55,
            56,
            57,
            58,
            59
           ],
           "xaxis": "x",
           "y": [
            715,
            363.25,
            363.25,
            363.25,
            363.25,
            180,
            180,
            180,
            180,
            180,
            180,
            180,
            180,
            180,
            180,
            52,
            52,
            52,
            52,
            52,
            52,
            52,
            52,
            52,
            52,
            52,
            52,
            52,
            28,
            28,
            28,
            28,
            28,
            28,
            28,
            28,
            28,
            28,
            28,
            28,
            28,
            28,
            28,
            28,
            28,
            28,
            4,
            4,
            4,
            4,
            4,
            4,
            4,
            4,
            4,
            4,
            4,
            4,
            4,
            4
           ],
           "yaxis": "y"
          }
         ],
         "name": "1"
        },
        {
         "data": [
          {
           "hovertemplate": "simulation=2<br>iteration=%{x}<br>bestfitness=%{y}<extra></extra>",
           "ids": [
            0,
            1,
            2,
            3,
            4,
            5,
            6,
            7,
            8,
            9,
            10,
            11,
            12,
            13,
            14,
            15,
            16,
            17,
            18,
            19,
            20,
            21,
            22,
            23,
            24,
            25,
            26,
            27,
            28,
            29,
            30,
            31,
            32,
            33,
            34,
            35,
            36,
            37,
            38,
            39,
            40,
            41,
            42,
            43,
            44,
            45,
            46,
            47,
            48,
            49,
            50,
            51,
            52,
            53,
            54,
            55,
            56,
            57,
            58,
            59,
            60,
            61,
            62,
            63,
            64,
            65,
            66,
            67,
            68,
            69,
            70,
            71,
            72,
            73,
            74,
            75,
            76,
            77,
            78,
            79,
            80,
            81,
            82,
            83,
            84
           ],
           "legendgroup": "",
           "line": {
            "color": "#636efa",
            "dash": "solid"
           },
           "mode": "lines",
           "name": "",
           "orientation": "v",
           "showlegend": false,
           "type": "scatter",
           "x": [
            0,
            1,
            2,
            3,
            4,
            5,
            6,
            7,
            8,
            9,
            10,
            11,
            12,
            13,
            14,
            15,
            16,
            17,
            18,
            19,
            20,
            21,
            22,
            23,
            24,
            25,
            26,
            27,
            28,
            29,
            30,
            31,
            32,
            33,
            34,
            35,
            36,
            37,
            38,
            39,
            40,
            41,
            42,
            43,
            44,
            45,
            46,
            47,
            48,
            49,
            50,
            51,
            52,
            53,
            54,
            55,
            56,
            57,
            58,
            59,
            60,
            61,
            62,
            63,
            64,
            65,
            66,
            67,
            68,
            69,
            70,
            71,
            72,
            73,
            74,
            75,
            76,
            77,
            78,
            79,
            80,
            81,
            82,
            83,
            84
           ],
           "xaxis": "x",
           "y": [
            238.67,
            238.67,
            238.67,
            44,
            44,
            44,
            44,
            44,
            44,
            44,
            44,
            44,
            44,
            44,
            44,
            44,
            44,
            44,
            44,
            44,
            44,
            44,
            44,
            44,
            44,
            44,
            44,
            44,
            44,
            44,
            44,
            44,
            44,
            44,
            44,
            44,
            44,
            44,
            44,
            44,
            44,
            44,
            44,
            44,
            44,
            44,
            44,
            44,
            44,
            44,
            44,
            44,
            44,
            44,
            44,
            44,
            44,
            44,
            44,
            44,
            44,
            44,
            44,
            44,
            44,
            44,
            44,
            44,
            44,
            41,
            41,
            41,
            41,
            28,
            25,
            25,
            25,
            25,
            25,
            25,
            25,
            25,
            25,
            25,
            25
           ],
           "yaxis": "y"
          }
         ],
         "name": "2"
        },
        {
         "data": [
          {
           "hovertemplate": "simulation=3<br>iteration=%{x}<br>bestfitness=%{y}<extra></extra>",
           "ids": [
            0,
            1,
            2,
            3,
            4,
            5,
            6,
            7,
            8,
            9,
            10,
            11,
            12,
            13,
            14,
            15,
            16,
            17,
            18,
            19,
            20,
            21,
            22,
            23,
            24,
            25,
            26,
            27,
            28,
            29,
            30,
            31,
            32,
            33,
            34,
            35,
            36,
            37,
            38,
            39,
            40,
            41,
            42,
            43,
            44,
            45,
            46,
            47,
            48,
            49,
            50,
            51,
            52,
            53,
            54,
            55,
            56,
            57,
            58,
            59,
            60,
            61,
            62,
            63,
            64,
            65,
            66,
            67,
            68,
            69,
            70,
            71,
            72,
            73,
            74,
            75,
            76,
            77,
            78,
            79,
            80,
            81,
            82,
            83,
            84,
            85,
            86,
            87,
            88,
            89,
            90,
            91,
            92,
            93,
            94,
            95,
            96,
            97,
            98,
            99
           ],
           "legendgroup": "",
           "line": {
            "color": "#636efa",
            "dash": "solid"
           },
           "mode": "lines",
           "name": "",
           "orientation": "v",
           "showlegend": false,
           "type": "scatter",
           "x": [
            0,
            1,
            2,
            3,
            4,
            5,
            6,
            7,
            8,
            9,
            10,
            11,
            12,
            13,
            14,
            15,
            16,
            17,
            18,
            19,
            20,
            21,
            22,
            23,
            24,
            25,
            26,
            27,
            28,
            29,
            30,
            31,
            32,
            33,
            34,
            35,
            36,
            37,
            38,
            39,
            40,
            41,
            42,
            43,
            44,
            45,
            46,
            47,
            48,
            49,
            50,
            51,
            52,
            53,
            54,
            55,
            56,
            57,
            58,
            59,
            60,
            61,
            62,
            63,
            64,
            65,
            66,
            67,
            68,
            69,
            70,
            71,
            72,
            73,
            74,
            75,
            76,
            77,
            78,
            79,
            80,
            81,
            82,
            83,
            84,
            85,
            86,
            87,
            88,
            89,
            90,
            91,
            92,
            93,
            94,
            95,
            96,
            97,
            98,
            99
           ],
           "xaxis": "x",
           "y": [
            446.24,
            446.24,
            446.24,
            446.24,
            446.24,
            446.24,
            446.24,
            446.24,
            446.24,
            446.24,
            446.24,
            446.24,
            446.24,
            141,
            141,
            141,
            141,
            141,
            141,
            141,
            141,
            84,
            84,
            84,
            84,
            84,
            84,
            84,
            84,
            84,
            84,
            84,
            84,
            84,
            84,
            84,
            84,
            84,
            84,
            84,
            84,
            84,
            84,
            84,
            84,
            84,
            84,
            84,
            84,
            84,
            84,
            84,
            84,
            84,
            84,
            84,
            84,
            84,
            84,
            84,
            84,
            84,
            84,
            84,
            84,
            84,
            84,
            84,
            84,
            84,
            84,
            84,
            84,
            84,
            84,
            84,
            84,
            84,
            84,
            84,
            84,
            84,
            84,
            84,
            84,
            84,
            84,
            84,
            84,
            84,
            84,
            84,
            84,
            84,
            84,
            84,
            84,
            79.83,
            79.83,
            79.83
           ],
           "yaxis": "y"
          }
         ],
         "name": "3"
        },
        {
         "data": [
          {
           "hovertemplate": "simulation=4<br>iteration=%{x}<br>bestfitness=%{y}<extra></extra>",
           "ids": [
            0,
            1,
            2,
            3,
            4,
            5,
            6,
            7,
            8,
            9,
            10,
            11,
            12,
            13,
            14,
            15,
            16,
            17,
            18,
            19,
            20,
            21,
            22,
            23,
            24,
            25,
            26,
            27,
            28,
            29,
            30,
            31,
            32,
            33,
            34,
            35,
            36,
            37,
            38,
            39,
            40,
            41,
            42,
            43,
            44,
            45,
            46,
            47,
            48,
            49,
            50,
            51,
            52,
            53,
            54,
            55,
            56,
            57,
            58,
            59,
            60,
            61,
            62,
            63,
            64,
            65,
            66,
            67,
            68,
            69,
            70,
            71,
            72,
            73,
            74,
            75,
            76,
            77,
            78,
            79,
            80,
            81,
            82,
            83,
            84,
            85,
            86,
            87,
            88,
            89,
            90,
            91,
            92,
            93,
            94,
            95,
            96,
            97,
            98,
            99
           ],
           "legendgroup": "",
           "line": {
            "color": "#636efa",
            "dash": "solid"
           },
           "mode": "lines",
           "name": "",
           "orientation": "v",
           "showlegend": false,
           "type": "scatter",
           "x": [
            0,
            1,
            2,
            3,
            4,
            5,
            6,
            7,
            8,
            9,
            10,
            11,
            12,
            13,
            14,
            15,
            16,
            17,
            18,
            19,
            20,
            21,
            22,
            23,
            24,
            25,
            26,
            27,
            28,
            29,
            30,
            31,
            32,
            33,
            34,
            35,
            36,
            37,
            38,
            39,
            40,
            41,
            42,
            43,
            44,
            45,
            46,
            47,
            48,
            49,
            50,
            51,
            52,
            53,
            54,
            55,
            56,
            57,
            58,
            59,
            60,
            61,
            62,
            63,
            64,
            65,
            66,
            67,
            68,
            69,
            70,
            71,
            72,
            73,
            74,
            75,
            76,
            77,
            78,
            79,
            80,
            81,
            82,
            83,
            84,
            85,
            86,
            87,
            88,
            89,
            90,
            91,
            92,
            93,
            94,
            95,
            96,
            97,
            98,
            99
           ],
           "xaxis": "x",
           "y": [
            136,
            136,
            116,
            116,
            116,
            116,
            116,
            116,
            116,
            116,
            77.33,
            77.33,
            77.33,
            77.33,
            77.33,
            77.33,
            77.33,
            77.33,
            77.33,
            77.33,
            77.33,
            77.33,
            77.33,
            77.33,
            77.33,
            77.33,
            77.33,
            77.33,
            77.33,
            77.33,
            77.33,
            77.33,
            77.33,
            77.33,
            77.33,
            77.33,
            77.33,
            77.33,
            77.33,
            77.33,
            77.33,
            77.33,
            77.33,
            77.33,
            77.33,
            77.33,
            77.33,
            77.33,
            77.33,
            77.33,
            77.33,
            77.33,
            77.33,
            77.33,
            77.33,
            77.33,
            77.33,
            77.33,
            77.33,
            77.33,
            77.33,
            77.33,
            77.33,
            77.33,
            77.33,
            77.33,
            77.33,
            77.33,
            77.33,
            77.33,
            77.33,
            77.33,
            77.33,
            77.33,
            77.33,
            72,
            72,
            72,
            72,
            72,
            72,
            72,
            72,
            72,
            72,
            72,
            72,
            72,
            72,
            72,
            72,
            72,
            72,
            68,
            68,
            68,
            68,
            68,
            68,
            68
           ],
           "yaxis": "y"
          }
         ],
         "name": "4"
        },
        {
         "data": [
          {
           "hovertemplate": "simulation=5<br>iteration=%{x}<br>bestfitness=%{y}<extra></extra>",
           "ids": [
            0,
            1,
            2,
            3,
            4,
            5,
            6,
            7,
            8,
            9,
            10,
            11,
            12,
            13,
            14,
            15,
            16,
            17,
            18,
            19,
            20,
            21,
            22,
            23,
            24,
            25,
            26,
            27,
            28,
            29,
            30,
            31,
            32,
            33,
            34,
            35,
            36,
            37,
            38,
            39,
            40,
            41,
            42,
            43,
            44,
            45,
            46,
            47,
            48,
            49,
            50,
            51,
            52,
            53,
            54,
            55,
            56,
            57,
            58,
            59,
            60,
            61,
            62,
            63,
            64,
            65,
            66,
            67,
            68,
            69,
            70,
            71,
            72,
            73,
            74,
            75,
            76,
            77,
            78,
            79,
            80,
            81,
            82,
            83,
            84,
            85,
            86,
            87,
            88,
            89,
            90,
            91,
            92,
            93,
            94,
            95,
            96,
            97,
            98,
            99
           ],
           "legendgroup": "",
           "line": {
            "color": "#636efa",
            "dash": "solid"
           },
           "mode": "lines",
           "name": "",
           "orientation": "v",
           "showlegend": false,
           "type": "scatter",
           "x": [
            0,
            1,
            2,
            3,
            4,
            5,
            6,
            7,
            8,
            9,
            10,
            11,
            12,
            13,
            14,
            15,
            16,
            17,
            18,
            19,
            20,
            21,
            22,
            23,
            24,
            25,
            26,
            27,
            28,
            29,
            30,
            31,
            32,
            33,
            34,
            35,
            36,
            37,
            38,
            39,
            40,
            41,
            42,
            43,
            44,
            45,
            46,
            47,
            48,
            49,
            50,
            51,
            52,
            53,
            54,
            55,
            56,
            57,
            58,
            59,
            60,
            61,
            62,
            63,
            64,
            65,
            66,
            67,
            68,
            69,
            70,
            71,
            72,
            73,
            74,
            75,
            76,
            77,
            78,
            79,
            80,
            81,
            82,
            83,
            84,
            85,
            86,
            87,
            88,
            89,
            90,
            91,
            92,
            93,
            94,
            95,
            96,
            97,
            98,
            99
           ],
           "xaxis": "x",
           "y": [
            448,
            448,
            448,
            404,
            116,
            116,
            116,
            116,
            116,
            116,
            116,
            116,
            116,
            116,
            116,
            116,
            116,
            116,
            116,
            116,
            116,
            116,
            116,
            116,
            116,
            116,
            116,
            116,
            116,
            116,
            116,
            116,
            116,
            116,
            116,
            116,
            116,
            116,
            116,
            116,
            116,
            116,
            116,
            116,
            116,
            116,
            116,
            116,
            116,
            116,
            116,
            116,
            116,
            116,
            116,
            116,
            116,
            116,
            116,
            116,
            116,
            116,
            116,
            116,
            116,
            116,
            116,
            116,
            116,
            116,
            116,
            116,
            116,
            116,
            116,
            116,
            116,
            116,
            116,
            116,
            116,
            116,
            116,
            116,
            116,
            116,
            116,
            116,
            116,
            116,
            100,
            100,
            100,
            100,
            36,
            36,
            36,
            36,
            36,
            36
           ],
           "yaxis": "y"
          }
         ],
         "name": "5"
        },
        {
         "data": [
          {
           "hovertemplate": "simulation=6<br>iteration=%{x}<br>bestfitness=%{y}<extra></extra>",
           "ids": [
            0,
            1,
            2,
            3,
            4,
            5,
            6,
            7,
            8,
            9,
            10,
            11,
            12,
            13,
            14,
            15,
            16,
            17,
            18,
            19,
            20,
            21,
            22,
            23,
            24,
            25,
            26,
            27,
            28,
            29,
            30,
            31,
            32,
            33,
            34,
            35,
            36,
            37,
            38,
            39,
            40,
            41,
            42,
            43
           ],
           "legendgroup": "",
           "line": {
            "color": "#636efa",
            "dash": "solid"
           },
           "mode": "lines",
           "name": "",
           "orientation": "v",
           "showlegend": false,
           "type": "scatter",
           "x": [
            0,
            1,
            2,
            3,
            4,
            5,
            6,
            7,
            8,
            9,
            10,
            11,
            12,
            13,
            14,
            15,
            16,
            17,
            18,
            19,
            20,
            21,
            22,
            23,
            24,
            25,
            26,
            27,
            28,
            29,
            30,
            31,
            32,
            33,
            34,
            35,
            36,
            37,
            38,
            39,
            40,
            41,
            42,
            43
           ],
           "xaxis": "x",
           "y": [
            274.5,
            274.5,
            274.5,
            274.5,
            274.5,
            274.5,
            274.5,
            274.5,
            274.5,
            274.5,
            274.5,
            196.5,
            196.5,
            196.5,
            196.5,
            196.5,
            196.5,
            196.5,
            196.5,
            196.5,
            196.5,
            196.5,
            196.5,
            196.5,
            196.5,
            196.5,
            196.5,
            196.5,
            196.5,
            196.5,
            196.5,
            196.5,
            196.5,
            196.5,
            196.5,
            196.5,
            196.5,
            196.5,
            196.5,
            196.5,
            196.5,
            196.5,
            196.5,
            196.5
           ],
           "yaxis": "y"
          }
         ],
         "name": "6"
        },
        {
         "data": [
          {
           "hovertemplate": "simulation=7<br>iteration=%{x}<br>bestfitness=%{y}<extra></extra>",
           "ids": [
            0,
            1,
            2,
            3,
            4,
            5,
            6,
            7,
            8,
            9,
            10,
            11,
            12,
            13,
            14,
            15,
            16,
            17,
            18,
            19,
            20,
            21,
            22,
            23,
            24,
            25,
            26,
            27,
            28,
            29,
            30,
            31,
            32,
            33,
            34,
            35,
            36
           ],
           "legendgroup": "",
           "line": {
            "color": "#636efa",
            "dash": "solid"
           },
           "mode": "lines",
           "name": "",
           "orientation": "v",
           "showlegend": false,
           "type": "scatter",
           "x": [
            0,
            1,
            2,
            3,
            4,
            5,
            6,
            7,
            8,
            9,
            10,
            11,
            12,
            13,
            14,
            15,
            16,
            17,
            18,
            19,
            20,
            21,
            22,
            23,
            24,
            25,
            26,
            27,
            28,
            29,
            30,
            31,
            32,
            33,
            34,
            35,
            36
           ],
           "xaxis": "x",
           "y": [
            554,
            181.33,
            181.33,
            16,
            16,
            16,
            16,
            16,
            16,
            16,
            16,
            16,
            16,
            16,
            16,
            16,
            16,
            16,
            16,
            16,
            16,
            16,
            8,
            8,
            8,
            8,
            8,
            8,
            8,
            8,
            8,
            8,
            4,
            4,
            4,
            4,
            0
           ],
           "yaxis": "y"
          }
         ],
         "name": "7"
        }
       ],
       "layout": {
        "legend": {
         "tracegroupgap": 0
        },
        "sliders": [
         {
          "active": 0,
          "currentvalue": {
           "prefix": "simulation="
          },
          "len": 0.9,
          "pad": {
           "b": 10,
           "t": 60
          },
          "steps": [
           {
            "args": [
             [
              "0"
             ],
             {
              "frame": {
               "duration": 0,
               "redraw": false
              },
              "fromcurrent": true,
              "mode": "immediate",
              "transition": {
               "duration": 0,
               "easing": "linear"
              }
             }
            ],
            "label": "0",
            "method": "animate"
           },
           {
            "args": [
             [
              "1"
             ],
             {
              "frame": {
               "duration": 0,
               "redraw": false
              },
              "fromcurrent": true,
              "mode": "immediate",
              "transition": {
               "duration": 0,
               "easing": "linear"
              }
             }
            ],
            "label": "1",
            "method": "animate"
           },
           {
            "args": [
             [
              "2"
             ],
             {
              "frame": {
               "duration": 0,
               "redraw": false
              },
              "fromcurrent": true,
              "mode": "immediate",
              "transition": {
               "duration": 0,
               "easing": "linear"
              }
             }
            ],
            "label": "2",
            "method": "animate"
           },
           {
            "args": [
             [
              "3"
             ],
             {
              "frame": {
               "duration": 0,
               "redraw": false
              },
              "fromcurrent": true,
              "mode": "immediate",
              "transition": {
               "duration": 0,
               "easing": "linear"
              }
             }
            ],
            "label": "3",
            "method": "animate"
           },
           {
            "args": [
             [
              "4"
             ],
             {
              "frame": {
               "duration": 0,
               "redraw": false
              },
              "fromcurrent": true,
              "mode": "immediate",
              "transition": {
               "duration": 0,
               "easing": "linear"
              }
             }
            ],
            "label": "4",
            "method": "animate"
           },
           {
            "args": [
             [
              "5"
             ],
             {
              "frame": {
               "duration": 0,
               "redraw": false
              },
              "fromcurrent": true,
              "mode": "immediate",
              "transition": {
               "duration": 0,
               "easing": "linear"
              }
             }
            ],
            "label": "5",
            "method": "animate"
           },
           {
            "args": [
             [
              "6"
             ],
             {
              "frame": {
               "duration": 0,
               "redraw": false
              },
              "fromcurrent": true,
              "mode": "immediate",
              "transition": {
               "duration": 0,
               "easing": "linear"
              }
             }
            ],
            "label": "6",
            "method": "animate"
           },
           {
            "args": [
             [
              "7"
             ],
             {
              "frame": {
               "duration": 0,
               "redraw": false
              },
              "fromcurrent": true,
              "mode": "immediate",
              "transition": {
               "duration": 0,
               "easing": "linear"
              }
             }
            ],
            "label": "7",
            "method": "animate"
           }
          ],
          "x": 0.1,
          "xanchor": "left",
          "y": 0,
          "yanchor": "top"
         }
        ],
        "template": {
         "data": {
          "bar": [
           {
            "error_x": {
             "color": "#2a3f5f"
            },
            "error_y": {
             "color": "#2a3f5f"
            },
            "marker": {
             "line": {
              "color": "#E5ECF6",
              "width": 0.5
             }
            },
            "type": "bar"
           }
          ],
          "barpolar": [
           {
            "marker": {
             "line": {
              "color": "#E5ECF6",
              "width": 0.5
             }
            },
            "type": "barpolar"
           }
          ],
          "carpet": [
           {
            "aaxis": {
             "endlinecolor": "#2a3f5f",
             "gridcolor": "white",
             "linecolor": "white",
             "minorgridcolor": "white",
             "startlinecolor": "#2a3f5f"
            },
            "baxis": {
             "endlinecolor": "#2a3f5f",
             "gridcolor": "white",
             "linecolor": "white",
             "minorgridcolor": "white",
             "startlinecolor": "#2a3f5f"
            },
            "type": "carpet"
           }
          ],
          "choropleth": [
           {
            "colorbar": {
             "outlinewidth": 0,
             "ticks": ""
            },
            "type": "choropleth"
           }
          ],
          "contour": [
           {
            "colorbar": {
             "outlinewidth": 0,
             "ticks": ""
            },
            "colorscale": [
             [
              0,
              "#0d0887"
             ],
             [
              0.1111111111111111,
              "#46039f"
             ],
             [
              0.2222222222222222,
              "#7201a8"
             ],
             [
              0.3333333333333333,
              "#9c179e"
             ],
             [
              0.4444444444444444,
              "#bd3786"
             ],
             [
              0.5555555555555556,
              "#d8576b"
             ],
             [
              0.6666666666666666,
              "#ed7953"
             ],
             [
              0.7777777777777778,
              "#fb9f3a"
             ],
             [
              0.8888888888888888,
              "#fdca26"
             ],
             [
              1,
              "#f0f921"
             ]
            ],
            "type": "contour"
           }
          ],
          "contourcarpet": [
           {
            "colorbar": {
             "outlinewidth": 0,
             "ticks": ""
            },
            "type": "contourcarpet"
           }
          ],
          "heatmap": [
           {
            "colorbar": {
             "outlinewidth": 0,
             "ticks": ""
            },
            "colorscale": [
             [
              0,
              "#0d0887"
             ],
             [
              0.1111111111111111,
              "#46039f"
             ],
             [
              0.2222222222222222,
              "#7201a8"
             ],
             [
              0.3333333333333333,
              "#9c179e"
             ],
             [
              0.4444444444444444,
              "#bd3786"
             ],
             [
              0.5555555555555556,
              "#d8576b"
             ],
             [
              0.6666666666666666,
              "#ed7953"
             ],
             [
              0.7777777777777778,
              "#fb9f3a"
             ],
             [
              0.8888888888888888,
              "#fdca26"
             ],
             [
              1,
              "#f0f921"
             ]
            ],
            "type": "heatmap"
           }
          ],
          "heatmapgl": [
           {
            "colorbar": {
             "outlinewidth": 0,
             "ticks": ""
            },
            "colorscale": [
             [
              0,
              "#0d0887"
             ],
             [
              0.1111111111111111,
              "#46039f"
             ],
             [
              0.2222222222222222,
              "#7201a8"
             ],
             [
              0.3333333333333333,
              "#9c179e"
             ],
             [
              0.4444444444444444,
              "#bd3786"
             ],
             [
              0.5555555555555556,
              "#d8576b"
             ],
             [
              0.6666666666666666,
              "#ed7953"
             ],
             [
              0.7777777777777778,
              "#fb9f3a"
             ],
             [
              0.8888888888888888,
              "#fdca26"
             ],
             [
              1,
              "#f0f921"
             ]
            ],
            "type": "heatmapgl"
           }
          ],
          "histogram": [
           {
            "marker": {
             "colorbar": {
              "outlinewidth": 0,
              "ticks": ""
             }
            },
            "type": "histogram"
           }
          ],
          "histogram2d": [
           {
            "colorbar": {
             "outlinewidth": 0,
             "ticks": ""
            },
            "colorscale": [
             [
              0,
              "#0d0887"
             ],
             [
              0.1111111111111111,
              "#46039f"
             ],
             [
              0.2222222222222222,
              "#7201a8"
             ],
             [
              0.3333333333333333,
              "#9c179e"
             ],
             [
              0.4444444444444444,
              "#bd3786"
             ],
             [
              0.5555555555555556,
              "#d8576b"
             ],
             [
              0.6666666666666666,
              "#ed7953"
             ],
             [
              0.7777777777777778,
              "#fb9f3a"
             ],
             [
              0.8888888888888888,
              "#fdca26"
             ],
             [
              1,
              "#f0f921"
             ]
            ],
            "type": "histogram2d"
           }
          ],
          "histogram2dcontour": [
           {
            "colorbar": {
             "outlinewidth": 0,
             "ticks": ""
            },
            "colorscale": [
             [
              0,
              "#0d0887"
             ],
             [
              0.1111111111111111,
              "#46039f"
             ],
             [
              0.2222222222222222,
              "#7201a8"
             ],
             [
              0.3333333333333333,
              "#9c179e"
             ],
             [
              0.4444444444444444,
              "#bd3786"
             ],
             [
              0.5555555555555556,
              "#d8576b"
             ],
             [
              0.6666666666666666,
              "#ed7953"
             ],
             [
              0.7777777777777778,
              "#fb9f3a"
             ],
             [
              0.8888888888888888,
              "#fdca26"
             ],
             [
              1,
              "#f0f921"
             ]
            ],
            "type": "histogram2dcontour"
           }
          ],
          "mesh3d": [
           {
            "colorbar": {
             "outlinewidth": 0,
             "ticks": ""
            },
            "type": "mesh3d"
           }
          ],
          "parcoords": [
           {
            "line": {
             "colorbar": {
              "outlinewidth": 0,
              "ticks": ""
             }
            },
            "type": "parcoords"
           }
          ],
          "pie": [
           {
            "automargin": true,
            "type": "pie"
           }
          ],
          "scatter": [
           {
            "marker": {
             "colorbar": {
              "outlinewidth": 0,
              "ticks": ""
             }
            },
            "type": "scatter"
           }
          ],
          "scatter3d": [
           {
            "line": {
             "colorbar": {
              "outlinewidth": 0,
              "ticks": ""
             }
            },
            "marker": {
             "colorbar": {
              "outlinewidth": 0,
              "ticks": ""
             }
            },
            "type": "scatter3d"
           }
          ],
          "scattercarpet": [
           {
            "marker": {
             "colorbar": {
              "outlinewidth": 0,
              "ticks": ""
             }
            },
            "type": "scattercarpet"
           }
          ],
          "scattergeo": [
           {
            "marker": {
             "colorbar": {
              "outlinewidth": 0,
              "ticks": ""
             }
            },
            "type": "scattergeo"
           }
          ],
          "scattergl": [
           {
            "marker": {
             "colorbar": {
              "outlinewidth": 0,
              "ticks": ""
             }
            },
            "type": "scattergl"
           }
          ],
          "scattermapbox": [
           {
            "marker": {
             "colorbar": {
              "outlinewidth": 0,
              "ticks": ""
             }
            },
            "type": "scattermapbox"
           }
          ],
          "scatterpolar": [
           {
            "marker": {
             "colorbar": {
              "outlinewidth": 0,
              "ticks": ""
             }
            },
            "type": "scatterpolar"
           }
          ],
          "scatterpolargl": [
           {
            "marker": {
             "colorbar": {
              "outlinewidth": 0,
              "ticks": ""
             }
            },
            "type": "scatterpolargl"
           }
          ],
          "scatterternary": [
           {
            "marker": {
             "colorbar": {
              "outlinewidth": 0,
              "ticks": ""
             }
            },
            "type": "scatterternary"
           }
          ],
          "surface": [
           {
            "colorbar": {
             "outlinewidth": 0,
             "ticks": ""
            },
            "colorscale": [
             [
              0,
              "#0d0887"
             ],
             [
              0.1111111111111111,
              "#46039f"
             ],
             [
              0.2222222222222222,
              "#7201a8"
             ],
             [
              0.3333333333333333,
              "#9c179e"
             ],
             [
              0.4444444444444444,
              "#bd3786"
             ],
             [
              0.5555555555555556,
              "#d8576b"
             ],
             [
              0.6666666666666666,
              "#ed7953"
             ],
             [
              0.7777777777777778,
              "#fb9f3a"
             ],
             [
              0.8888888888888888,
              "#fdca26"
             ],
             [
              1,
              "#f0f921"
             ]
            ],
            "type": "surface"
           }
          ],
          "table": [
           {
            "cells": {
             "fill": {
              "color": "#EBF0F8"
             },
             "line": {
              "color": "white"
             }
            },
            "header": {
             "fill": {
              "color": "#C8D4E3"
             },
             "line": {
              "color": "white"
             }
            },
            "type": "table"
           }
          ]
         },
         "layout": {
          "annotationdefaults": {
           "arrowcolor": "#2a3f5f",
           "arrowhead": 0,
           "arrowwidth": 1
          },
          "coloraxis": {
           "colorbar": {
            "outlinewidth": 0,
            "ticks": ""
           }
          },
          "colorscale": {
           "diverging": [
            [
             0,
             "#8e0152"
            ],
            [
             0.1,
             "#c51b7d"
            ],
            [
             0.2,
             "#de77ae"
            ],
            [
             0.3,
             "#f1b6da"
            ],
            [
             0.4,
             "#fde0ef"
            ],
            [
             0.5,
             "#f7f7f7"
            ],
            [
             0.6,
             "#e6f5d0"
            ],
            [
             0.7,
             "#b8e186"
            ],
            [
             0.8,
             "#7fbc41"
            ],
            [
             0.9,
             "#4d9221"
            ],
            [
             1,
             "#276419"
            ]
           ],
           "sequential": [
            [
             0,
             "#0d0887"
            ],
            [
             0.1111111111111111,
             "#46039f"
            ],
            [
             0.2222222222222222,
             "#7201a8"
            ],
            [
             0.3333333333333333,
             "#9c179e"
            ],
            [
             0.4444444444444444,
             "#bd3786"
            ],
            [
             0.5555555555555556,
             "#d8576b"
            ],
            [
             0.6666666666666666,
             "#ed7953"
            ],
            [
             0.7777777777777778,
             "#fb9f3a"
            ],
            [
             0.8888888888888888,
             "#fdca26"
            ],
            [
             1,
             "#f0f921"
            ]
           ],
           "sequentialminus": [
            [
             0,
             "#0d0887"
            ],
            [
             0.1111111111111111,
             "#46039f"
            ],
            [
             0.2222222222222222,
             "#7201a8"
            ],
            [
             0.3333333333333333,
             "#9c179e"
            ],
            [
             0.4444444444444444,
             "#bd3786"
            ],
            [
             0.5555555555555556,
             "#d8576b"
            ],
            [
             0.6666666666666666,
             "#ed7953"
            ],
            [
             0.7777777777777778,
             "#fb9f3a"
            ],
            [
             0.8888888888888888,
             "#fdca26"
            ],
            [
             1,
             "#f0f921"
            ]
           ]
          },
          "colorway": [
           "#636efa",
           "#EF553B",
           "#00cc96",
           "#ab63fa",
           "#FFA15A",
           "#19d3f3",
           "#FF6692",
           "#B6E880",
           "#FF97FF",
           "#FECB52"
          ],
          "font": {
           "color": "#2a3f5f"
          },
          "geo": {
           "bgcolor": "white",
           "lakecolor": "white",
           "landcolor": "#E5ECF6",
           "showlakes": true,
           "showland": true,
           "subunitcolor": "white"
          },
          "hoverlabel": {
           "align": "left"
          },
          "hovermode": "closest",
          "mapbox": {
           "style": "light"
          },
          "paper_bgcolor": "white",
          "plot_bgcolor": "#E5ECF6",
          "polar": {
           "angularaxis": {
            "gridcolor": "white",
            "linecolor": "white",
            "ticks": ""
           },
           "bgcolor": "#E5ECF6",
           "radialaxis": {
            "gridcolor": "white",
            "linecolor": "white",
            "ticks": ""
           }
          },
          "scene": {
           "xaxis": {
            "backgroundcolor": "#E5ECF6",
            "gridcolor": "white",
            "gridwidth": 2,
            "linecolor": "white",
            "showbackground": true,
            "ticks": "",
            "zerolinecolor": "white"
           },
           "yaxis": {
            "backgroundcolor": "#E5ECF6",
            "gridcolor": "white",
            "gridwidth": 2,
            "linecolor": "white",
            "showbackground": true,
            "ticks": "",
            "zerolinecolor": "white"
           },
           "zaxis": {
            "backgroundcolor": "#E5ECF6",
            "gridcolor": "white",
            "gridwidth": 2,
            "linecolor": "white",
            "showbackground": true,
            "ticks": "",
            "zerolinecolor": "white"
           }
          },
          "shapedefaults": {
           "line": {
            "color": "#2a3f5f"
           }
          },
          "ternary": {
           "aaxis": {
            "gridcolor": "white",
            "linecolor": "white",
            "ticks": ""
           },
           "baxis": {
            "gridcolor": "white",
            "linecolor": "white",
            "ticks": ""
           },
           "bgcolor": "#E5ECF6",
           "caxis": {
            "gridcolor": "white",
            "linecolor": "white",
            "ticks": ""
           }
          },
          "title": {
           "x": 0.05
          },
          "xaxis": {
           "automargin": true,
           "gridcolor": "white",
           "linecolor": "white",
           "ticks": "",
           "title": {
            "standoff": 15
           },
           "zerolinecolor": "white",
           "zerolinewidth": 2
          },
          "yaxis": {
           "automargin": true,
           "gridcolor": "white",
           "linecolor": "white",
           "ticks": "",
           "title": {
            "standoff": 15
           },
           "zerolinecolor": "white",
           "zerolinewidth": 2
          }
         }
        },
        "title": {
         "text": "Best fitness"
        },
        "updatemenus": [
         {
          "buttons": [
           {
            "args": [
             null,
             {
              "frame": {
               "duration": 500,
               "redraw": false
              },
              "fromcurrent": true,
              "mode": "immediate",
              "transition": {
               "duration": 500,
               "easing": "linear"
              }
             }
            ],
            "label": "&#9654;",
            "method": "animate"
           },
           {
            "args": [
             [
              null
             ],
             {
              "frame": {
               "duration": 0,
               "redraw": false
              },
              "fromcurrent": true,
              "mode": "immediate",
              "transition": {
               "duration": 0,
               "easing": "linear"
              }
             }
            ],
            "label": "&#9724;",
            "method": "animate"
           }
          ],
          "direction": "left",
          "pad": {
           "r": 10,
           "t": 70
          },
          "showactive": false,
          "type": "buttons",
          "x": 0.1,
          "xanchor": "right",
          "y": 0,
          "yanchor": "top"
         }
        ],
        "xaxis": {
         "anchor": "y",
         "domain": [
          0,
          1
         ],
         "range": [
          0,
          100
         ],
         "title": {
          "text": "iteration"
         }
        },
        "yaxis": {
         "anchor": "x",
         "domain": [
          0,
          1
         ],
         "range": [
          0,
          715
         ],
         "title": {
          "text": "bestfitness"
         }
        }
       }
      },
      "text/html": [
       "<div>\n",
       "        \n",
       "        \n",
       "            <div id=\"53bca85a-4ce2-438e-8bc9-509d2d8869f4\" class=\"plotly-graph-div\" style=\"height:525px; width:100%;\"></div>\n",
       "            <script type=\"text/javascript\">\n",
       "                require([\"plotly\"], function(Plotly) {\n",
       "                    window.PLOTLYENV=window.PLOTLYENV || {};\n",
       "                    \n",
       "                if (document.getElementById(\"53bca85a-4ce2-438e-8bc9-509d2d8869f4\")) {\n",
       "                    Plotly.newPlot(\n",
       "                        '53bca85a-4ce2-438e-8bc9-509d2d8869f4',\n",
       "                        [{\"hovertemplate\": \"simulation=0<br>iteration=%{x}<br>bestfitness=%{y}<extra></extra>\", \"ids\": [0, 1, 2, 3, 4, 5, 6, 7, 8, 9, 10, 11, 12, 13, 14, 15, 16, 17, 18, 19, 20, 21, 22, 23, 24, 25, 26, 27, 28, 29, 30, 31, 32, 33, 34, 35, 36, 37, 38, 39, 40, 41, 42, 43, 44, 45, 46, 47, 48, 49, 50, 51, 52, 53, 54, 55, 56, 57, 58, 59, 60, 61, 62, 63, 64, 65, 66], \"legendgroup\": \"\", \"line\": {\"color\": \"#636efa\", \"dash\": \"solid\"}, \"mode\": \"lines\", \"name\": \"\", \"orientation\": \"v\", \"showlegend\": false, \"type\": \"scatter\", \"x\": [0, 1, 2, 3, 4, 5, 6, 7, 8, 9, 10, 11, 12, 13, 14, 15, 16, 17, 18, 19, 20, 21, 22, 23, 24, 25, 26, 27, 28, 29, 30, 31, 32, 33, 34, 35, 36, 37, 38, 39, 40, 41, 42, 43, 44, 45, 46, 47, 48, 49, 50, 51, 52, 53, 54, 55, 56, 57, 58, 59, 60, 61, 62, 63, 64, 65, 66], \"xaxis\": \"x\", \"y\": [94.0, 94.0, 94.0, 94.0, 94.0, 94.0, 94.0, 94.0, 94.0, 94.0, 94.0, 94.0, 94.0, 94.0, 94.0, 94.0, 94.0, 94.0, 94.0, 94.0, 94.0, 94.0, 94.0, 94.0, 52.0, 52.0, 52.0, 52.0, 52.0, 52.0, 43.0, 43.0, 43.0, 43.0, 43.0, 43.0, 43.0, 43.0, 43.0, 43.0, 43.0, 43.0, 43.0, 43.0, 43.0, 43.0, 43.0, 43.0, 43.0, 43.0, 43.0, 43.0, 43.0, 43.0, 43.0, 43.0, 43.0, 43.0, 43.0, 43.0, 43.0, 43.0, 43.0, 43.0, 43.0, 43.0, 43.0], \"yaxis\": \"y\"}],\n",
       "                        {\"legend\": {\"tracegroupgap\": 0}, \"sliders\": [{\"active\": 0, \"currentvalue\": {\"prefix\": \"simulation=\"}, \"len\": 0.9, \"pad\": {\"b\": 10, \"t\": 60}, \"steps\": [{\"args\": [[\"0\"], {\"frame\": {\"duration\": 0, \"redraw\": false}, \"fromcurrent\": true, \"mode\": \"immediate\", \"transition\": {\"duration\": 0, \"easing\": \"linear\"}}], \"label\": \"0\", \"method\": \"animate\"}, {\"args\": [[\"1\"], {\"frame\": {\"duration\": 0, \"redraw\": false}, \"fromcurrent\": true, \"mode\": \"immediate\", \"transition\": {\"duration\": 0, \"easing\": \"linear\"}}], \"label\": \"1\", \"method\": \"animate\"}, {\"args\": [[\"2\"], {\"frame\": {\"duration\": 0, \"redraw\": false}, \"fromcurrent\": true, \"mode\": \"immediate\", \"transition\": {\"duration\": 0, \"easing\": \"linear\"}}], \"label\": \"2\", \"method\": \"animate\"}, {\"args\": [[\"3\"], {\"frame\": {\"duration\": 0, \"redraw\": false}, \"fromcurrent\": true, \"mode\": \"immediate\", \"transition\": {\"duration\": 0, \"easing\": \"linear\"}}], \"label\": \"3\", \"method\": \"animate\"}, {\"args\": [[\"4\"], {\"frame\": {\"duration\": 0, \"redraw\": false}, \"fromcurrent\": true, \"mode\": \"immediate\", \"transition\": {\"duration\": 0, \"easing\": \"linear\"}}], \"label\": \"4\", \"method\": \"animate\"}, {\"args\": [[\"5\"], {\"frame\": {\"duration\": 0, \"redraw\": false}, \"fromcurrent\": true, \"mode\": \"immediate\", \"transition\": {\"duration\": 0, \"easing\": \"linear\"}}], \"label\": \"5\", \"method\": \"animate\"}, {\"args\": [[\"6\"], {\"frame\": {\"duration\": 0, \"redraw\": false}, \"fromcurrent\": true, \"mode\": \"immediate\", \"transition\": {\"duration\": 0, \"easing\": \"linear\"}}], \"label\": \"6\", \"method\": \"animate\"}, {\"args\": [[\"7\"], {\"frame\": {\"duration\": 0, \"redraw\": false}, \"fromcurrent\": true, \"mode\": \"immediate\", \"transition\": {\"duration\": 0, \"easing\": \"linear\"}}], \"label\": \"7\", \"method\": \"animate\"}], \"x\": 0.1, \"xanchor\": \"left\", \"y\": 0, \"yanchor\": \"top\"}], \"template\": {\"data\": {\"bar\": [{\"error_x\": {\"color\": \"#2a3f5f\"}, \"error_y\": {\"color\": \"#2a3f5f\"}, \"marker\": {\"line\": {\"color\": \"#E5ECF6\", \"width\": 0.5}}, \"type\": \"bar\"}], \"barpolar\": [{\"marker\": {\"line\": {\"color\": \"#E5ECF6\", \"width\": 0.5}}, \"type\": \"barpolar\"}], \"carpet\": [{\"aaxis\": {\"endlinecolor\": \"#2a3f5f\", \"gridcolor\": \"white\", \"linecolor\": \"white\", \"minorgridcolor\": \"white\", \"startlinecolor\": \"#2a3f5f\"}, \"baxis\": {\"endlinecolor\": \"#2a3f5f\", \"gridcolor\": \"white\", \"linecolor\": \"white\", \"minorgridcolor\": \"white\", \"startlinecolor\": \"#2a3f5f\"}, \"type\": \"carpet\"}], \"choropleth\": [{\"colorbar\": {\"outlinewidth\": 0, \"ticks\": \"\"}, \"type\": \"choropleth\"}], \"contour\": [{\"colorbar\": {\"outlinewidth\": 0, \"ticks\": \"\"}, \"colorscale\": [[0.0, \"#0d0887\"], [0.1111111111111111, \"#46039f\"], [0.2222222222222222, \"#7201a8\"], [0.3333333333333333, \"#9c179e\"], [0.4444444444444444, \"#bd3786\"], [0.5555555555555556, \"#d8576b\"], [0.6666666666666666, \"#ed7953\"], [0.7777777777777778, \"#fb9f3a\"], [0.8888888888888888, \"#fdca26\"], [1.0, \"#f0f921\"]], \"type\": \"contour\"}], \"contourcarpet\": [{\"colorbar\": {\"outlinewidth\": 0, \"ticks\": \"\"}, \"type\": \"contourcarpet\"}], \"heatmap\": [{\"colorbar\": {\"outlinewidth\": 0, \"ticks\": \"\"}, \"colorscale\": [[0.0, \"#0d0887\"], [0.1111111111111111, \"#46039f\"], [0.2222222222222222, \"#7201a8\"], [0.3333333333333333, \"#9c179e\"], [0.4444444444444444, \"#bd3786\"], [0.5555555555555556, \"#d8576b\"], [0.6666666666666666, \"#ed7953\"], [0.7777777777777778, \"#fb9f3a\"], [0.8888888888888888, \"#fdca26\"], [1.0, \"#f0f921\"]], \"type\": \"heatmap\"}], \"heatmapgl\": [{\"colorbar\": {\"outlinewidth\": 0, \"ticks\": \"\"}, \"colorscale\": [[0.0, \"#0d0887\"], [0.1111111111111111, \"#46039f\"], [0.2222222222222222, \"#7201a8\"], [0.3333333333333333, \"#9c179e\"], [0.4444444444444444, \"#bd3786\"], [0.5555555555555556, \"#d8576b\"], [0.6666666666666666, \"#ed7953\"], [0.7777777777777778, \"#fb9f3a\"], [0.8888888888888888, \"#fdca26\"], [1.0, \"#f0f921\"]], \"type\": \"heatmapgl\"}], \"histogram\": [{\"marker\": {\"colorbar\": {\"outlinewidth\": 0, \"ticks\": \"\"}}, \"type\": \"histogram\"}], \"histogram2d\": [{\"colorbar\": {\"outlinewidth\": 0, \"ticks\": \"\"}, \"colorscale\": [[0.0, \"#0d0887\"], [0.1111111111111111, \"#46039f\"], [0.2222222222222222, \"#7201a8\"], [0.3333333333333333, \"#9c179e\"], [0.4444444444444444, \"#bd3786\"], [0.5555555555555556, \"#d8576b\"], [0.6666666666666666, \"#ed7953\"], [0.7777777777777778, \"#fb9f3a\"], [0.8888888888888888, \"#fdca26\"], [1.0, \"#f0f921\"]], \"type\": \"histogram2d\"}], \"histogram2dcontour\": [{\"colorbar\": {\"outlinewidth\": 0, \"ticks\": \"\"}, \"colorscale\": [[0.0, \"#0d0887\"], [0.1111111111111111, \"#46039f\"], [0.2222222222222222, \"#7201a8\"], [0.3333333333333333, \"#9c179e\"], [0.4444444444444444, \"#bd3786\"], [0.5555555555555556, \"#d8576b\"], [0.6666666666666666, \"#ed7953\"], [0.7777777777777778, \"#fb9f3a\"], [0.8888888888888888, \"#fdca26\"], [1.0, \"#f0f921\"]], \"type\": \"histogram2dcontour\"}], \"mesh3d\": [{\"colorbar\": {\"outlinewidth\": 0, \"ticks\": \"\"}, \"type\": \"mesh3d\"}], \"parcoords\": [{\"line\": {\"colorbar\": {\"outlinewidth\": 0, \"ticks\": \"\"}}, \"type\": \"parcoords\"}], \"pie\": [{\"automargin\": true, \"type\": \"pie\"}], \"scatter\": [{\"marker\": {\"colorbar\": {\"outlinewidth\": 0, \"ticks\": \"\"}}, \"type\": \"scatter\"}], \"scatter3d\": [{\"line\": {\"colorbar\": {\"outlinewidth\": 0, \"ticks\": \"\"}}, \"marker\": {\"colorbar\": {\"outlinewidth\": 0, \"ticks\": \"\"}}, \"type\": \"scatter3d\"}], \"scattercarpet\": [{\"marker\": {\"colorbar\": {\"outlinewidth\": 0, \"ticks\": \"\"}}, \"type\": \"scattercarpet\"}], \"scattergeo\": [{\"marker\": {\"colorbar\": {\"outlinewidth\": 0, \"ticks\": \"\"}}, \"type\": \"scattergeo\"}], \"scattergl\": [{\"marker\": {\"colorbar\": {\"outlinewidth\": 0, \"ticks\": \"\"}}, \"type\": \"scattergl\"}], \"scattermapbox\": [{\"marker\": {\"colorbar\": {\"outlinewidth\": 0, \"ticks\": \"\"}}, \"type\": \"scattermapbox\"}], \"scatterpolar\": [{\"marker\": {\"colorbar\": {\"outlinewidth\": 0, \"ticks\": \"\"}}, \"type\": \"scatterpolar\"}], \"scatterpolargl\": [{\"marker\": {\"colorbar\": {\"outlinewidth\": 0, \"ticks\": \"\"}}, \"type\": \"scatterpolargl\"}], \"scatterternary\": [{\"marker\": {\"colorbar\": {\"outlinewidth\": 0, \"ticks\": \"\"}}, \"type\": \"scatterternary\"}], \"surface\": [{\"colorbar\": {\"outlinewidth\": 0, \"ticks\": \"\"}, \"colorscale\": [[0.0, \"#0d0887\"], [0.1111111111111111, \"#46039f\"], [0.2222222222222222, \"#7201a8\"], [0.3333333333333333, \"#9c179e\"], [0.4444444444444444, \"#bd3786\"], [0.5555555555555556, \"#d8576b\"], [0.6666666666666666, \"#ed7953\"], [0.7777777777777778, \"#fb9f3a\"], [0.8888888888888888, \"#fdca26\"], [1.0, \"#f0f921\"]], \"type\": \"surface\"}], \"table\": [{\"cells\": {\"fill\": {\"color\": \"#EBF0F8\"}, \"line\": {\"color\": \"white\"}}, \"header\": {\"fill\": {\"color\": \"#C8D4E3\"}, \"line\": {\"color\": \"white\"}}, \"type\": \"table\"}]}, \"layout\": {\"annotationdefaults\": {\"arrowcolor\": \"#2a3f5f\", \"arrowhead\": 0, \"arrowwidth\": 1}, \"coloraxis\": {\"colorbar\": {\"outlinewidth\": 0, \"ticks\": \"\"}}, \"colorscale\": {\"diverging\": [[0, \"#8e0152\"], [0.1, \"#c51b7d\"], [0.2, \"#de77ae\"], [0.3, \"#f1b6da\"], [0.4, \"#fde0ef\"], [0.5, \"#f7f7f7\"], [0.6, \"#e6f5d0\"], [0.7, \"#b8e186\"], [0.8, \"#7fbc41\"], [0.9, \"#4d9221\"], [1, \"#276419\"]], \"sequential\": [[0.0, \"#0d0887\"], [0.1111111111111111, \"#46039f\"], [0.2222222222222222, \"#7201a8\"], [0.3333333333333333, \"#9c179e\"], [0.4444444444444444, \"#bd3786\"], [0.5555555555555556, \"#d8576b\"], [0.6666666666666666, \"#ed7953\"], [0.7777777777777778, \"#fb9f3a\"], [0.8888888888888888, \"#fdca26\"], [1.0, \"#f0f921\"]], \"sequentialminus\": [[0.0, \"#0d0887\"], [0.1111111111111111, \"#46039f\"], [0.2222222222222222, \"#7201a8\"], [0.3333333333333333, \"#9c179e\"], [0.4444444444444444, \"#bd3786\"], [0.5555555555555556, \"#d8576b\"], [0.6666666666666666, \"#ed7953\"], [0.7777777777777778, \"#fb9f3a\"], [0.8888888888888888, \"#fdca26\"], [1.0, \"#f0f921\"]]}, \"colorway\": [\"#636efa\", \"#EF553B\", \"#00cc96\", \"#ab63fa\", \"#FFA15A\", \"#19d3f3\", \"#FF6692\", \"#B6E880\", \"#FF97FF\", \"#FECB52\"], \"font\": {\"color\": \"#2a3f5f\"}, \"geo\": {\"bgcolor\": \"white\", \"lakecolor\": \"white\", \"landcolor\": \"#E5ECF6\", \"showlakes\": true, \"showland\": true, \"subunitcolor\": \"white\"}, \"hoverlabel\": {\"align\": \"left\"}, \"hovermode\": \"closest\", \"mapbox\": {\"style\": \"light\"}, \"paper_bgcolor\": \"white\", \"plot_bgcolor\": \"#E5ECF6\", \"polar\": {\"angularaxis\": {\"gridcolor\": \"white\", \"linecolor\": \"white\", \"ticks\": \"\"}, \"bgcolor\": \"#E5ECF6\", \"radialaxis\": {\"gridcolor\": \"white\", \"linecolor\": \"white\", \"ticks\": \"\"}}, \"scene\": {\"xaxis\": {\"backgroundcolor\": \"#E5ECF6\", \"gridcolor\": \"white\", \"gridwidth\": 2, \"linecolor\": \"white\", \"showbackground\": true, \"ticks\": \"\", \"zerolinecolor\": \"white\"}, \"yaxis\": {\"backgroundcolor\": \"#E5ECF6\", \"gridcolor\": \"white\", \"gridwidth\": 2, \"linecolor\": \"white\", \"showbackground\": true, \"ticks\": \"\", \"zerolinecolor\": \"white\"}, \"zaxis\": {\"backgroundcolor\": \"#E5ECF6\", \"gridcolor\": \"white\", \"gridwidth\": 2, \"linecolor\": \"white\", \"showbackground\": true, \"ticks\": \"\", \"zerolinecolor\": \"white\"}}, \"shapedefaults\": {\"line\": {\"color\": \"#2a3f5f\"}}, \"ternary\": {\"aaxis\": {\"gridcolor\": \"white\", \"linecolor\": \"white\", \"ticks\": \"\"}, \"baxis\": {\"gridcolor\": \"white\", \"linecolor\": \"white\", \"ticks\": \"\"}, \"bgcolor\": \"#E5ECF6\", \"caxis\": {\"gridcolor\": \"white\", \"linecolor\": \"white\", \"ticks\": \"\"}}, \"title\": {\"x\": 0.05}, \"xaxis\": {\"automargin\": true, \"gridcolor\": \"white\", \"linecolor\": \"white\", \"ticks\": \"\", \"title\": {\"standoff\": 15}, \"zerolinecolor\": \"white\", \"zerolinewidth\": 2}, \"yaxis\": {\"automargin\": true, \"gridcolor\": \"white\", \"linecolor\": \"white\", \"ticks\": \"\", \"title\": {\"standoff\": 15}, \"zerolinecolor\": \"white\", \"zerolinewidth\": 2}}}, \"title\": {\"text\": \"Best fitness\"}, \"updatemenus\": [{\"buttons\": [{\"args\": [null, {\"frame\": {\"duration\": 500, \"redraw\": false}, \"fromcurrent\": true, \"mode\": \"immediate\", \"transition\": {\"duration\": 500, \"easing\": \"linear\"}}], \"label\": \"&#9654;\", \"method\": \"animate\"}, {\"args\": [[null], {\"frame\": {\"duration\": 0, \"redraw\": false}, \"fromcurrent\": true, \"mode\": \"immediate\", \"transition\": {\"duration\": 0, \"easing\": \"linear\"}}], \"label\": \"&#9724;\", \"method\": \"animate\"}], \"direction\": \"left\", \"pad\": {\"r\": 10, \"t\": 70}, \"showactive\": false, \"type\": \"buttons\", \"x\": 0.1, \"xanchor\": \"right\", \"y\": 0, \"yanchor\": \"top\"}], \"xaxis\": {\"anchor\": \"y\", \"domain\": [0.0, 1.0], \"range\": [0, 100], \"title\": {\"text\": \"iteration\"}}, \"yaxis\": {\"anchor\": \"x\", \"domain\": [0.0, 1.0], \"range\": [0.0, 715.0], \"title\": {\"text\": \"bestfitness\"}}},\n",
       "                        {\"responsive\": true}\n",
       "                    ).then(function(){\n",
       "                            Plotly.addFrames('53bca85a-4ce2-438e-8bc9-509d2d8869f4', [{\"data\": [{\"hovertemplate\": \"simulation=0<br>iteration=%{x}<br>bestfitness=%{y}<extra></extra>\", \"ids\": [0, 1, 2, 3, 4, 5, 6, 7, 8, 9, 10, 11, 12, 13, 14, 15, 16, 17, 18, 19, 20, 21, 22, 23, 24, 25, 26, 27, 28, 29, 30, 31, 32, 33, 34, 35, 36, 37, 38, 39, 40, 41, 42, 43, 44, 45, 46, 47, 48, 49, 50, 51, 52, 53, 54, 55, 56, 57, 58, 59, 60, 61, 62, 63, 64, 65, 66], \"legendgroup\": \"\", \"line\": {\"color\": \"#636efa\", \"dash\": \"solid\"}, \"mode\": \"lines\", \"name\": \"\", \"orientation\": \"v\", \"showlegend\": false, \"x\": [0, 1, 2, 3, 4, 5, 6, 7, 8, 9, 10, 11, 12, 13, 14, 15, 16, 17, 18, 19, 20, 21, 22, 23, 24, 25, 26, 27, 28, 29, 30, 31, 32, 33, 34, 35, 36, 37, 38, 39, 40, 41, 42, 43, 44, 45, 46, 47, 48, 49, 50, 51, 52, 53, 54, 55, 56, 57, 58, 59, 60, 61, 62, 63, 64, 65, 66], \"xaxis\": \"x\", \"y\": [94.0, 94.0, 94.0, 94.0, 94.0, 94.0, 94.0, 94.0, 94.0, 94.0, 94.0, 94.0, 94.0, 94.0, 94.0, 94.0, 94.0, 94.0, 94.0, 94.0, 94.0, 94.0, 94.0, 94.0, 52.0, 52.0, 52.0, 52.0, 52.0, 52.0, 43.0, 43.0, 43.0, 43.0, 43.0, 43.0, 43.0, 43.0, 43.0, 43.0, 43.0, 43.0, 43.0, 43.0, 43.0, 43.0, 43.0, 43.0, 43.0, 43.0, 43.0, 43.0, 43.0, 43.0, 43.0, 43.0, 43.0, 43.0, 43.0, 43.0, 43.0, 43.0, 43.0, 43.0, 43.0, 43.0, 43.0], \"yaxis\": \"y\", \"type\": \"scatter\"}], \"name\": \"0\"}, {\"data\": [{\"hovertemplate\": \"simulation=1<br>iteration=%{x}<br>bestfitness=%{y}<extra></extra>\", \"ids\": [0, 1, 2, 3, 4, 5, 6, 7, 8, 9, 10, 11, 12, 13, 14, 15, 16, 17, 18, 19, 20, 21, 22, 23, 24, 25, 26, 27, 28, 29, 30, 31, 32, 33, 34, 35, 36, 37, 38, 39, 40, 41, 42, 43, 44, 45, 46, 47, 48, 49, 50, 51, 52, 53, 54, 55, 56, 57, 58, 59], \"legendgroup\": \"\", \"line\": {\"color\": \"#636efa\", \"dash\": \"solid\"}, \"mode\": \"lines\", \"name\": \"\", \"orientation\": \"v\", \"showlegend\": false, \"x\": [0, 1, 2, 3, 4, 5, 6, 7, 8, 9, 10, 11, 12, 13, 14, 15, 16, 17, 18, 19, 20, 21, 22, 23, 24, 25, 26, 27, 28, 29, 30, 31, 32, 33, 34, 35, 36, 37, 38, 39, 40, 41, 42, 43, 44, 45, 46, 47, 48, 49, 50, 51, 52, 53, 54, 55, 56, 57, 58, 59], \"xaxis\": \"x\", \"y\": [715.0, 363.25, 363.25, 363.25, 363.25, 180.0, 180.0, 180.0, 180.0, 180.0, 180.0, 180.0, 180.0, 180.0, 180.0, 52.0, 52.0, 52.0, 52.0, 52.0, 52.0, 52.0, 52.0, 52.0, 52.0, 52.0, 52.0, 52.0, 28.0, 28.0, 28.0, 28.0, 28.0, 28.0, 28.0, 28.0, 28.0, 28.0, 28.0, 28.0, 28.0, 28.0, 28.0, 28.0, 28.0, 28.0, 4.0, 4.0, 4.0, 4.0, 4.0, 4.0, 4.0, 4.0, 4.0, 4.0, 4.0, 4.0, 4.0, 4.0], \"yaxis\": \"y\", \"type\": \"scatter\"}], \"name\": \"1\"}, {\"data\": [{\"hovertemplate\": \"simulation=2<br>iteration=%{x}<br>bestfitness=%{y}<extra></extra>\", \"ids\": [0, 1, 2, 3, 4, 5, 6, 7, 8, 9, 10, 11, 12, 13, 14, 15, 16, 17, 18, 19, 20, 21, 22, 23, 24, 25, 26, 27, 28, 29, 30, 31, 32, 33, 34, 35, 36, 37, 38, 39, 40, 41, 42, 43, 44, 45, 46, 47, 48, 49, 50, 51, 52, 53, 54, 55, 56, 57, 58, 59, 60, 61, 62, 63, 64, 65, 66, 67, 68, 69, 70, 71, 72, 73, 74, 75, 76, 77, 78, 79, 80, 81, 82, 83, 84], \"legendgroup\": \"\", \"line\": {\"color\": \"#636efa\", \"dash\": \"solid\"}, \"mode\": \"lines\", \"name\": \"\", \"orientation\": \"v\", \"showlegend\": false, \"x\": [0, 1, 2, 3, 4, 5, 6, 7, 8, 9, 10, 11, 12, 13, 14, 15, 16, 17, 18, 19, 20, 21, 22, 23, 24, 25, 26, 27, 28, 29, 30, 31, 32, 33, 34, 35, 36, 37, 38, 39, 40, 41, 42, 43, 44, 45, 46, 47, 48, 49, 50, 51, 52, 53, 54, 55, 56, 57, 58, 59, 60, 61, 62, 63, 64, 65, 66, 67, 68, 69, 70, 71, 72, 73, 74, 75, 76, 77, 78, 79, 80, 81, 82, 83, 84], \"xaxis\": \"x\", \"y\": [238.67, 238.67, 238.67, 44.0, 44.0, 44.0, 44.0, 44.0, 44.0, 44.0, 44.0, 44.0, 44.0, 44.0, 44.0, 44.0, 44.0, 44.0, 44.0, 44.0, 44.0, 44.0, 44.0, 44.0, 44.0, 44.0, 44.0, 44.0, 44.0, 44.0, 44.0, 44.0, 44.0, 44.0, 44.0, 44.0, 44.0, 44.0, 44.0, 44.0, 44.0, 44.0, 44.0, 44.0, 44.0, 44.0, 44.0, 44.0, 44.0, 44.0, 44.0, 44.0, 44.0, 44.0, 44.0, 44.0, 44.0, 44.0, 44.0, 44.0, 44.0, 44.0, 44.0, 44.0, 44.0, 44.0, 44.0, 44.0, 44.0, 41.0, 41.0, 41.0, 41.0, 28.0, 25.0, 25.0, 25.0, 25.0, 25.0, 25.0, 25.0, 25.0, 25.0, 25.0, 25.0], \"yaxis\": \"y\", \"type\": \"scatter\"}], \"name\": \"2\"}, {\"data\": [{\"hovertemplate\": \"simulation=3<br>iteration=%{x}<br>bestfitness=%{y}<extra></extra>\", \"ids\": [0, 1, 2, 3, 4, 5, 6, 7, 8, 9, 10, 11, 12, 13, 14, 15, 16, 17, 18, 19, 20, 21, 22, 23, 24, 25, 26, 27, 28, 29, 30, 31, 32, 33, 34, 35, 36, 37, 38, 39, 40, 41, 42, 43, 44, 45, 46, 47, 48, 49, 50, 51, 52, 53, 54, 55, 56, 57, 58, 59, 60, 61, 62, 63, 64, 65, 66, 67, 68, 69, 70, 71, 72, 73, 74, 75, 76, 77, 78, 79, 80, 81, 82, 83, 84, 85, 86, 87, 88, 89, 90, 91, 92, 93, 94, 95, 96, 97, 98, 99], \"legendgroup\": \"\", \"line\": {\"color\": \"#636efa\", \"dash\": \"solid\"}, \"mode\": \"lines\", \"name\": \"\", \"orientation\": \"v\", \"showlegend\": false, \"x\": [0, 1, 2, 3, 4, 5, 6, 7, 8, 9, 10, 11, 12, 13, 14, 15, 16, 17, 18, 19, 20, 21, 22, 23, 24, 25, 26, 27, 28, 29, 30, 31, 32, 33, 34, 35, 36, 37, 38, 39, 40, 41, 42, 43, 44, 45, 46, 47, 48, 49, 50, 51, 52, 53, 54, 55, 56, 57, 58, 59, 60, 61, 62, 63, 64, 65, 66, 67, 68, 69, 70, 71, 72, 73, 74, 75, 76, 77, 78, 79, 80, 81, 82, 83, 84, 85, 86, 87, 88, 89, 90, 91, 92, 93, 94, 95, 96, 97, 98, 99], \"xaxis\": \"x\", \"y\": [446.24, 446.24, 446.24, 446.24, 446.24, 446.24, 446.24, 446.24, 446.24, 446.24, 446.24, 446.24, 446.24, 141.0, 141.0, 141.0, 141.0, 141.0, 141.0, 141.0, 141.0, 84.0, 84.0, 84.0, 84.0, 84.0, 84.0, 84.0, 84.0, 84.0, 84.0, 84.0, 84.0, 84.0, 84.0, 84.0, 84.0, 84.0, 84.0, 84.0, 84.0, 84.0, 84.0, 84.0, 84.0, 84.0, 84.0, 84.0, 84.0, 84.0, 84.0, 84.0, 84.0, 84.0, 84.0, 84.0, 84.0, 84.0, 84.0, 84.0, 84.0, 84.0, 84.0, 84.0, 84.0, 84.0, 84.0, 84.0, 84.0, 84.0, 84.0, 84.0, 84.0, 84.0, 84.0, 84.0, 84.0, 84.0, 84.0, 84.0, 84.0, 84.0, 84.0, 84.0, 84.0, 84.0, 84.0, 84.0, 84.0, 84.0, 84.0, 84.0, 84.0, 84.0, 84.0, 84.0, 84.0, 79.83, 79.83, 79.83], \"yaxis\": \"y\", \"type\": \"scatter\"}], \"name\": \"3\"}, {\"data\": [{\"hovertemplate\": \"simulation=4<br>iteration=%{x}<br>bestfitness=%{y}<extra></extra>\", \"ids\": [0, 1, 2, 3, 4, 5, 6, 7, 8, 9, 10, 11, 12, 13, 14, 15, 16, 17, 18, 19, 20, 21, 22, 23, 24, 25, 26, 27, 28, 29, 30, 31, 32, 33, 34, 35, 36, 37, 38, 39, 40, 41, 42, 43, 44, 45, 46, 47, 48, 49, 50, 51, 52, 53, 54, 55, 56, 57, 58, 59, 60, 61, 62, 63, 64, 65, 66, 67, 68, 69, 70, 71, 72, 73, 74, 75, 76, 77, 78, 79, 80, 81, 82, 83, 84, 85, 86, 87, 88, 89, 90, 91, 92, 93, 94, 95, 96, 97, 98, 99], \"legendgroup\": \"\", \"line\": {\"color\": \"#636efa\", \"dash\": \"solid\"}, \"mode\": \"lines\", \"name\": \"\", \"orientation\": \"v\", \"showlegend\": false, \"x\": [0, 1, 2, 3, 4, 5, 6, 7, 8, 9, 10, 11, 12, 13, 14, 15, 16, 17, 18, 19, 20, 21, 22, 23, 24, 25, 26, 27, 28, 29, 30, 31, 32, 33, 34, 35, 36, 37, 38, 39, 40, 41, 42, 43, 44, 45, 46, 47, 48, 49, 50, 51, 52, 53, 54, 55, 56, 57, 58, 59, 60, 61, 62, 63, 64, 65, 66, 67, 68, 69, 70, 71, 72, 73, 74, 75, 76, 77, 78, 79, 80, 81, 82, 83, 84, 85, 86, 87, 88, 89, 90, 91, 92, 93, 94, 95, 96, 97, 98, 99], \"xaxis\": \"x\", \"y\": [136.0, 136.0, 116.0, 116.0, 116.0, 116.0, 116.0, 116.0, 116.0, 116.0, 77.33, 77.33, 77.33, 77.33, 77.33, 77.33, 77.33, 77.33, 77.33, 77.33, 77.33, 77.33, 77.33, 77.33, 77.33, 77.33, 77.33, 77.33, 77.33, 77.33, 77.33, 77.33, 77.33, 77.33, 77.33, 77.33, 77.33, 77.33, 77.33, 77.33, 77.33, 77.33, 77.33, 77.33, 77.33, 77.33, 77.33, 77.33, 77.33, 77.33, 77.33, 77.33, 77.33, 77.33, 77.33, 77.33, 77.33, 77.33, 77.33, 77.33, 77.33, 77.33, 77.33, 77.33, 77.33, 77.33, 77.33, 77.33, 77.33, 77.33, 77.33, 77.33, 77.33, 77.33, 77.33, 72.0, 72.0, 72.0, 72.0, 72.0, 72.0, 72.0, 72.0, 72.0, 72.0, 72.0, 72.0, 72.0, 72.0, 72.0, 72.0, 72.0, 72.0, 68.0, 68.0, 68.0, 68.0, 68.0, 68.0, 68.0], \"yaxis\": \"y\", \"type\": \"scatter\"}], \"name\": \"4\"}, {\"data\": [{\"hovertemplate\": \"simulation=5<br>iteration=%{x}<br>bestfitness=%{y}<extra></extra>\", \"ids\": [0, 1, 2, 3, 4, 5, 6, 7, 8, 9, 10, 11, 12, 13, 14, 15, 16, 17, 18, 19, 20, 21, 22, 23, 24, 25, 26, 27, 28, 29, 30, 31, 32, 33, 34, 35, 36, 37, 38, 39, 40, 41, 42, 43, 44, 45, 46, 47, 48, 49, 50, 51, 52, 53, 54, 55, 56, 57, 58, 59, 60, 61, 62, 63, 64, 65, 66, 67, 68, 69, 70, 71, 72, 73, 74, 75, 76, 77, 78, 79, 80, 81, 82, 83, 84, 85, 86, 87, 88, 89, 90, 91, 92, 93, 94, 95, 96, 97, 98, 99], \"legendgroup\": \"\", \"line\": {\"color\": \"#636efa\", \"dash\": \"solid\"}, \"mode\": \"lines\", \"name\": \"\", \"orientation\": \"v\", \"showlegend\": false, \"x\": [0, 1, 2, 3, 4, 5, 6, 7, 8, 9, 10, 11, 12, 13, 14, 15, 16, 17, 18, 19, 20, 21, 22, 23, 24, 25, 26, 27, 28, 29, 30, 31, 32, 33, 34, 35, 36, 37, 38, 39, 40, 41, 42, 43, 44, 45, 46, 47, 48, 49, 50, 51, 52, 53, 54, 55, 56, 57, 58, 59, 60, 61, 62, 63, 64, 65, 66, 67, 68, 69, 70, 71, 72, 73, 74, 75, 76, 77, 78, 79, 80, 81, 82, 83, 84, 85, 86, 87, 88, 89, 90, 91, 92, 93, 94, 95, 96, 97, 98, 99], \"xaxis\": \"x\", \"y\": [448.0, 448.0, 448.0, 404.0, 116.0, 116.0, 116.0, 116.0, 116.0, 116.0, 116.0, 116.0, 116.0, 116.0, 116.0, 116.0, 116.0, 116.0, 116.0, 116.0, 116.0, 116.0, 116.0, 116.0, 116.0, 116.0, 116.0, 116.0, 116.0, 116.0, 116.0, 116.0, 116.0, 116.0, 116.0, 116.0, 116.0, 116.0, 116.0, 116.0, 116.0, 116.0, 116.0, 116.0, 116.0, 116.0, 116.0, 116.0, 116.0, 116.0, 116.0, 116.0, 116.0, 116.0, 116.0, 116.0, 116.0, 116.0, 116.0, 116.0, 116.0, 116.0, 116.0, 116.0, 116.0, 116.0, 116.0, 116.0, 116.0, 116.0, 116.0, 116.0, 116.0, 116.0, 116.0, 116.0, 116.0, 116.0, 116.0, 116.0, 116.0, 116.0, 116.0, 116.0, 116.0, 116.0, 116.0, 116.0, 116.0, 116.0, 100.0, 100.0, 100.0, 100.0, 36.0, 36.0, 36.0, 36.0, 36.0, 36.0], \"yaxis\": \"y\", \"type\": \"scatter\"}], \"name\": \"5\"}, {\"data\": [{\"hovertemplate\": \"simulation=6<br>iteration=%{x}<br>bestfitness=%{y}<extra></extra>\", \"ids\": [0, 1, 2, 3, 4, 5, 6, 7, 8, 9, 10, 11, 12, 13, 14, 15, 16, 17, 18, 19, 20, 21, 22, 23, 24, 25, 26, 27, 28, 29, 30, 31, 32, 33, 34, 35, 36, 37, 38, 39, 40, 41, 42, 43], \"legendgroup\": \"\", \"line\": {\"color\": \"#636efa\", \"dash\": \"solid\"}, \"mode\": \"lines\", \"name\": \"\", \"orientation\": \"v\", \"showlegend\": false, \"x\": [0, 1, 2, 3, 4, 5, 6, 7, 8, 9, 10, 11, 12, 13, 14, 15, 16, 17, 18, 19, 20, 21, 22, 23, 24, 25, 26, 27, 28, 29, 30, 31, 32, 33, 34, 35, 36, 37, 38, 39, 40, 41, 42, 43], \"xaxis\": \"x\", \"y\": [274.5, 274.5, 274.5, 274.5, 274.5, 274.5, 274.5, 274.5, 274.5, 274.5, 274.5, 196.5, 196.5, 196.5, 196.5, 196.5, 196.5, 196.5, 196.5, 196.5, 196.5, 196.5, 196.5, 196.5, 196.5, 196.5, 196.5, 196.5, 196.5, 196.5, 196.5, 196.5, 196.5, 196.5, 196.5, 196.5, 196.5, 196.5, 196.5, 196.5, 196.5, 196.5, 196.5, 196.5], \"yaxis\": \"y\", \"type\": \"scatter\"}], \"name\": \"6\"}, {\"data\": [{\"hovertemplate\": \"simulation=7<br>iteration=%{x}<br>bestfitness=%{y}<extra></extra>\", \"ids\": [0, 1, 2, 3, 4, 5, 6, 7, 8, 9, 10, 11, 12, 13, 14, 15, 16, 17, 18, 19, 20, 21, 22, 23, 24, 25, 26, 27, 28, 29, 30, 31, 32, 33, 34, 35, 36], \"legendgroup\": \"\", \"line\": {\"color\": \"#636efa\", \"dash\": \"solid\"}, \"mode\": \"lines\", \"name\": \"\", \"orientation\": \"v\", \"showlegend\": false, \"x\": [0, 1, 2, 3, 4, 5, 6, 7, 8, 9, 10, 11, 12, 13, 14, 15, 16, 17, 18, 19, 20, 21, 22, 23, 24, 25, 26, 27, 28, 29, 30, 31, 32, 33, 34, 35, 36], \"xaxis\": \"x\", \"y\": [554.0, 181.33, 181.33, 16.0, 16.0, 16.0, 16.0, 16.0, 16.0, 16.0, 16.0, 16.0, 16.0, 16.0, 16.0, 16.0, 16.0, 16.0, 16.0, 16.0, 16.0, 16.0, 8.0, 8.0, 8.0, 8.0, 8.0, 8.0, 8.0, 8.0, 8.0, 8.0, 4.0, 4.0, 4.0, 4.0, 0.0], \"yaxis\": \"y\", \"type\": \"scatter\"}], \"name\": \"7\"}]);\n",
       "                        }).then(function(){\n",
       "                            \n",
       "var gd = document.getElementById('53bca85a-4ce2-438e-8bc9-509d2d8869f4');\n",
       "var x = new MutationObserver(function (mutations, observer) {{\n",
       "        var display = window.getComputedStyle(gd).display;\n",
       "        if (!display || display === 'none') {{\n",
       "            console.log([gd, 'removed!']);\n",
       "            Plotly.purge(gd);\n",
       "            observer.disconnect();\n",
       "        }}\n",
       "}});\n",
       "\n",
       "// Listen for the removal of the full notebook cells\n",
       "var notebookContainer = gd.closest('#notebook-container');\n",
       "if (notebookContainer) {{\n",
       "    x.observe(notebookContainer, {childList: true});\n",
       "}}\n",
       "\n",
       "// Listen for the clearing of the current output cell\n",
       "var outputEl = gd.closest('.output');\n",
       "if (outputEl) {{\n",
       "    x.observe(outputEl, {childList: true});\n",
       "}}\n",
       "\n",
       "                        })\n",
       "                };\n",
       "                });\n",
       "            </script>\n",
       "        </div>"
      ]
     },
     "metadata": {},
     "output_type": "display_data"
    }
   ],
   "source": [
    "GA.result_plot(interactive=True)"
   ]
  },
  {
   "cell_type": "markdown",
   "metadata": {},
   "source": [
    "# Convergence plots:"
   ]
  },
  {
   "cell_type": "code",
   "execution_count": 47,
   "metadata": {},
   "outputs": [
    {
     "data": {
      "application/vnd.plotly.v1+json": {
       "config": {
        "plotlyServerURL": "https://plot.ly"
       },
       "data": [
        {
         "hovertemplate": "simulation=0<br>iteration=%{x}<br>m*=%{y}<extra></extra>",
         "legendgroup": "0",
         "line": {
          "color": "#636efa",
          "dash": "solid"
         },
         "mode": "lines",
         "name": "0",
         "orientation": "v",
         "showlegend": true,
         "type": "scatter",
         "x": [
          0,
          1,
          2,
          3,
          4,
          5,
          6,
          7,
          8,
          9,
          10,
          11,
          12,
          13,
          14,
          15,
          16,
          17,
          18,
          19,
          20,
          21,
          22,
          23,
          24,
          25,
          26,
          27,
          28,
          29,
          30,
          31,
          32,
          33,
          34,
          35,
          36,
          37,
          38,
          39,
          40,
          41,
          42,
          43,
          44,
          45,
          46,
          47,
          48,
          49,
          50,
          51,
          52,
          53,
          54,
          55,
          56,
          57,
          58,
          59,
          60,
          61,
          62,
          63,
          64,
          65,
          66
         ],
         "xaxis": "x",
         "y": [
          94,
          94,
          94,
          94,
          94,
          94,
          94,
          94,
          94,
          94,
          94,
          94,
          94,
          94,
          94,
          94,
          94,
          94,
          94,
          94,
          94,
          94,
          94,
          94,
          92.32,
          90.76923076923077,
          89.33333333333333,
          88,
          86.75862068965517,
          85.6,
          84.2258064516129,
          82.9375,
          81.72727272727273,
          80.58823529411765,
          79.51428571428572,
          78.5,
          77.54054054054055,
          76.63157894736842,
          75.76923076923077,
          74.95,
          74.17073170731707,
          73.42857142857143,
          72.72093023255815,
          72.04545454545455,
          71.4,
          70.78260869565217,
          70.19148936170212,
          69.625,
          69.08163265306122,
          68.56,
          68.05882352941177,
          67.57692307692308,
          67.11320754716981,
          66.66666666666667,
          66.23636363636363,
          65.82142857142857,
          65.42105263157895,
          65.03448275862068,
          64.66101694915254,
          64.3,
          63.950819672131146,
          63.61290322580645,
          63.285714285714285,
          62.96875,
          62.66153846153846,
          62.36363636363637,
          62.07462686567164
         ],
         "yaxis": "y"
        },
        {
         "hovertemplate": "simulation=1<br>iteration=%{x}<br>m*=%{y}<extra></extra>",
         "legendgroup": "1",
         "line": {
          "color": "#EF553B",
          "dash": "solid"
         },
         "mode": "lines",
         "name": "1",
         "orientation": "v",
         "showlegend": true,
         "type": "scatter",
         "x": [
          0,
          1,
          2,
          3,
          4,
          5,
          6,
          7,
          8,
          9,
          10,
          11,
          12,
          13,
          14,
          15,
          16,
          17,
          18,
          19,
          20,
          21,
          22,
          23,
          24,
          25,
          26,
          27,
          28,
          29,
          30,
          31,
          32,
          33,
          34,
          35,
          36,
          37,
          38,
          39,
          40,
          41,
          42,
          43,
          44,
          45,
          46,
          47,
          48,
          49,
          50,
          51,
          52,
          53,
          54,
          55,
          56,
          57,
          58,
          59
         ],
         "xaxis": "x",
         "y": [
          715,
          539.125,
          480.5,
          451.1875,
          433.6,
          391.3333333333333,
          361.14285714285717,
          338.5,
          320.8888888888889,
          306.8,
          295.27272727272725,
          285.6666666666667,
          277.53846153846155,
          270.57142857142856,
          264.53333333333336,
          251.25,
          239.52941176470588,
          229.11111111111111,
          219.78947368421052,
          211.4,
          203.8095238095238,
          196.9090909090909,
          190.6086956521739,
          184.83333333333334,
          179.52,
          174.6153846153846,
          170.07407407407408,
          165.85714285714286,
          161.10344827586206,
          156.66666666666666,
          152.51612903225808,
          148.625,
          144.96969696969697,
          141.52941176470588,
          138.28571428571428,
          135.22222222222223,
          132.32432432432432,
          129.57894736842104,
          126.97435897435898,
          124.5,
          122.14634146341463,
          119.9047619047619,
          117.76744186046511,
          115.72727272727273,
          113.77777777777777,
          111.91304347826087,
          109.61702127659575,
          107.41666666666667,
          105.3061224489796,
          103.28,
          101.33333333333333,
          99.46153846153847,
          97.66037735849056,
          95.92592592592592,
          94.25454545454545,
          92.64285714285714,
          91.08771929824562,
          89.58620689655173,
          88.13559322033899,
          86.73333333333333
         ],
         "yaxis": "y"
        },
        {
         "hovertemplate": "simulation=2<br>iteration=%{x}<br>m*=%{y}<extra></extra>",
         "legendgroup": "2",
         "line": {
          "color": "#00cc96",
          "dash": "solid"
         },
         "mode": "lines",
         "name": "2",
         "orientation": "v",
         "showlegend": true,
         "type": "scatter",
         "x": [
          0,
          1,
          2,
          3,
          4,
          5,
          6,
          7,
          8,
          9,
          10,
          11,
          12,
          13,
          14,
          15,
          16,
          17,
          18,
          19,
          20,
          21,
          22,
          23,
          24,
          25,
          26,
          27,
          28,
          29,
          30,
          31,
          32,
          33,
          34,
          35,
          36,
          37,
          38,
          39,
          40,
          41,
          42,
          43,
          44,
          45,
          46,
          47,
          48,
          49,
          50,
          51,
          52,
          53,
          54,
          55,
          56,
          57,
          58,
          59,
          60,
          61,
          62,
          63,
          64,
          65,
          66,
          67,
          68,
          69,
          70,
          71,
          72,
          73,
          74,
          75,
          76,
          77,
          78,
          79,
          80,
          81,
          82,
          83,
          84
         ],
         "xaxis": "x",
         "y": [
          238.67,
          238.67,
          238.67,
          190.0025,
          160.802,
          141.335,
          127.42999999999999,
          117.00125,
          108.89,
          102.401,
          97.09181818181818,
          92.6675,
          88.92384615384616,
          85.715,
          82.934,
          80.500625,
          78.35352941176471,
          76.445,
          74.73736842105264,
          73.2005,
          71.81,
          70.54590909090909,
          69.39173913043479,
          68.33375,
          67.3604,
          66.46192307692307,
          65.63,
          64.8575,
          64.13827586206897,
          63.467,
          62.83903225806451,
          62.2503125,
          61.697272727272725,
          61.17676470588236,
          60.68600000000001,
          60.222500000000004,
          59.78405405405406,
          59.36868421052632,
          58.97461538461539,
          58.60025,
          58.24414634146342,
          57.90500000000001,
          57.58162790697675,
          57.27295454545455,
          56.978,
          56.69586956521739,
          56.42574468085107,
          56.166875000000005,
          55.91857142857143,
          55.680200000000006,
          55.45117647058824,
          55.23096153846154,
          55.01905660377359,
          54.815000000000005,
          54.61836363636364,
          54.42875,
          54.24578947368421,
          54.06913793103449,
          53.89847457627119,
          53.73350000000001,
          53.57393442622951,
          53.41951612903226,
          53.27,
          53.12515625,
          52.98476923076923,
          52.848636363636366,
          52.71656716417911,
          52.58838235294118,
          52.463913043478264,
          52.30014285714286,
          52.14098591549296,
          51.986250000000005,
          51.83575342465754,
          51.513648648648655,
          51.160133333333334,
          50.81592105263158,
          50.48064935064935,
          50.15397435897436,
          49.83556962025317,
          49.525125,
          49.22234567901235,
          48.9269512195122,
          48.638674698795185,
          48.357261904761906,
          48.082470588235296
         ],
         "yaxis": "y"
        },
        {
         "hovertemplate": "simulation=3<br>iteration=%{x}<br>m*=%{y}<extra></extra>",
         "legendgroup": "3",
         "line": {
          "color": "#ab63fa",
          "dash": "solid"
         },
         "mode": "lines",
         "name": "3",
         "orientation": "v",
         "showlegend": true,
         "type": "scatter",
         "x": [
          0,
          1,
          2,
          3,
          4,
          5,
          6,
          7,
          8,
          9,
          10,
          11,
          12,
          13,
          14,
          15,
          16,
          17,
          18,
          19,
          20,
          21,
          22,
          23,
          24,
          25,
          26,
          27,
          28,
          29,
          30,
          31,
          32,
          33,
          34,
          35,
          36,
          37,
          38,
          39,
          40,
          41,
          42,
          43,
          44,
          45,
          46,
          47,
          48,
          49,
          50,
          51,
          52,
          53,
          54,
          55,
          56,
          57,
          58,
          59,
          60,
          61,
          62,
          63,
          64,
          65,
          66,
          67,
          68,
          69,
          70,
          71,
          72,
          73,
          74,
          75,
          76,
          77,
          78,
          79,
          80,
          81,
          82,
          83,
          84,
          85,
          86,
          87,
          88,
          89,
          90,
          91,
          92,
          93,
          94,
          95,
          96,
          97,
          98,
          99
         ],
         "xaxis": "x",
         "y": [
          446.24,
          446.24,
          446.24,
          446.24,
          446.23999999999995,
          446.23999999999995,
          446.2399999999999,
          446.2399999999999,
          446.2399999999999,
          446.2399999999999,
          446.23999999999984,
          446.23999999999984,
          446.23999999999984,
          424.4371428571427,
          405.5413333333332,
          389.0074999999999,
          374.41882352941167,
          361.451111111111,
          349.84842105263147,
          339.4059999999999,
          329.95809523809515,
          318.77818181818174,
          308.57043478260863,
          299.21333333333325,
          290.6047999999999,
          282.65846153846144,
          275.30074074074065,
          268.46857142857135,
          262.1075862068965,
          256.1706666666666,
          250.61677419354834,
          245.40999999999994,
          240.51878787878783,
          235.915294117647,
          231.5748571428571,
          227.4755555555555,
          223.5978378378378,
          219.92421052631576,
          216.43897435897432,
          213.128,
          209.97853658536582,
          206.9790476190476,
          204.11906976744183,
          201.3890909090909,
          198.7804444444444,
          196.28521739130431,
          193.89617021276592,
          191.60666666666665,
          189.41061224489795,
          187.30239999999998,
          185.27686274509801,
          183.32923076923075,
          181.45509433962263,
          179.65037037037035,
          177.91127272727272,
          176.2342857142857,
          174.61614035087717,
          173.05379310344827,
          171.544406779661,
          170.08533333333332,
          168.67409836065573,
          167.30838709677417,
          165.98603174603173,
          164.70499999999998,
          163.4633846153846,
          162.25939393939393,
          161.09134328358206,
          159.9576470588235,
          158.8568115942029,
          157.78742857142856,
          156.74816901408448,
          155.73777777777775,
          154.75506849315067,
          153.7989189189189,
          152.86826666666664,
          151.9621052631579,
          151.0794805194805,
          150.21948717948717,
          149.3812658227848,
          148.564,
          147.7669135802469,
          146.9892682926829,
          146.23036144578313,
          145.4895238095238,
          144.76611764705882,
          144.05953488372091,
          143.36919540229883,
          142.69454545454545,
          142.03505617977527,
          141.3902222222222,
          140.75956043956043,
          140.14260869565217,
          139.5389247311828,
          138.94808510638296,
          138.36968421052632,
          137.8033333333333,
          137.24865979381443,
          136.66275510204082,
          136.08868686868686,
          135.52609999999999
         ],
         "yaxis": "y"
        },
        {
         "hovertemplate": "simulation=4<br>iteration=%{x}<br>m*=%{y}<extra></extra>",
         "legendgroup": "4",
         "line": {
          "color": "#FFA15A",
          "dash": "solid"
         },
         "mode": "lines",
         "name": "4",
         "orientation": "v",
         "showlegend": true,
         "type": "scatter",
         "x": [
          0,
          1,
          2,
          3,
          4,
          5,
          6,
          7,
          8,
          9,
          10,
          11,
          12,
          13,
          14,
          15,
          16,
          17,
          18,
          19,
          20,
          21,
          22,
          23,
          24,
          25,
          26,
          27,
          28,
          29,
          30,
          31,
          32,
          33,
          34,
          35,
          36,
          37,
          38,
          39,
          40,
          41,
          42,
          43,
          44,
          45,
          46,
          47,
          48,
          49,
          50,
          51,
          52,
          53,
          54,
          55,
          56,
          57,
          58,
          59,
          60,
          61,
          62,
          63,
          64,
          65,
          66,
          67,
          68,
          69,
          70,
          71,
          72,
          73,
          74,
          75,
          76,
          77,
          78,
          79,
          80,
          81,
          82,
          83,
          84,
          85,
          86,
          87,
          88,
          89,
          90,
          91,
          92,
          93,
          94,
          95,
          96,
          97,
          98,
          99
         ],
         "xaxis": "x",
         "y": [
          136,
          136,
          129.33333333333334,
          126,
          124,
          122.66666666666667,
          121.71428571428571,
          121,
          120.44444444444444,
          120,
          116.12090909090908,
          112.88833333333332,
          110.15307692307691,
          107.80857142857141,
          105.77666666666664,
          103.99874999999997,
          102.42999999999996,
          101.03555555555552,
          99.78789473684208,
          98.66499999999996,
          97.64904761904758,
          96.72545454545451,
          95.88217391304343,
          95.10916666666662,
          94.39799999999995,
          93.74153846153841,
          93.13370370370366,
          92.56928571428567,
          92.04379310344822,
          91.55333333333328,
          91.09451612903221,
          90.66437499999995,
          90.26030303030298,
          89.87999999999995,
          89.52142857142852,
          89.18277777777773,
          88.86243243243239,
          88.558947368421,
          88.27102564102559,
          87.99749999999995,
          87.73731707317067,
          87.48952380952376,
          87.25325581395343,
          87.02772727272722,
          86.81222222222216,
          86.60608695652168,
          86.40872340425526,
          86.21958333333328,
          86.03816326530607,
          85.86399999999995,
          85.6966666666666,
          85.53576923076918,
          85.38094339622636,
          85.23185185185179,
          85.08818181818175,
          84.94964285714279,
          84.81596491228065,
          84.68689655172408,
          84.56220338983044,
          84.4416666666666,
          84.32508196721305,
          84.21225806451606,
          84.1030158730158,
          83.99718749999994,
          83.89461538461532,
          83.79515151515146,
          83.69865671641784,
          83.60499999999993,
          83.51405797101442,
          83.42571428571422,
          83.33985915492951,
          83.25638888888882,
          83.17520547945199,
          83.09621621621615,
          83.01933333333326,
          82.8743421052631,
          82.73311688311682,
          82.59551282051277,
          82.46139240506324,
          82.33062499999994,
          82.20308641975303,
          82.07865853658531,
          81.9572289156626,
          81.83869047619042,
          81.72294117647053,
          81.60988372093017,
          81.49942528735627,
          81.39147727272722,
          81.28595505617972,
          81.18277777777773,
          81.08186813186808,
          80.983152173913,
          80.8865591397849,
          80.74946808510633,
          80.61526315789469,
          80.48385416666662,
          80.35515463917521,
          80.229081632653,
          80.10555555555551,
          79.98449999999995
         ],
         "yaxis": "y"
        },
        {
         "hovertemplate": "simulation=5<br>iteration=%{x}<br>m*=%{y}<extra></extra>",
         "legendgroup": "5",
         "line": {
          "color": "#19d3f3",
          "dash": "solid"
         },
         "mode": "lines",
         "name": "5",
         "orientation": "v",
         "showlegend": true,
         "type": "scatter",
         "x": [
          0,
          1,
          2,
          3,
          4,
          5,
          6,
          7,
          8,
          9,
          10,
          11,
          12,
          13,
          14,
          15,
          16,
          17,
          18,
          19,
          20,
          21,
          22,
          23,
          24,
          25,
          26,
          27,
          28,
          29,
          30,
          31,
          32,
          33,
          34,
          35,
          36,
          37,
          38,
          39,
          40,
          41,
          42,
          43,
          44,
          45,
          46,
          47,
          48,
          49,
          50,
          51,
          52,
          53,
          54,
          55,
          56,
          57,
          58,
          59,
          60,
          61,
          62,
          63,
          64,
          65,
          66,
          67,
          68,
          69,
          70,
          71,
          72,
          73,
          74,
          75,
          76,
          77,
          78,
          79,
          80,
          81,
          82,
          83,
          84,
          85,
          86,
          87,
          88,
          89,
          90,
          91,
          92,
          93,
          94,
          95,
          96,
          97,
          98,
          99
         ],
         "xaxis": "x",
         "y": [
          448,
          448,
          448,
          437,
          372.8,
          330,
          299.42857142857144,
          276.5,
          258.6666666666667,
          244.4,
          232.72727272727272,
          223,
          214.76923076923077,
          207.71428571428572,
          201.6,
          196.25,
          191.52941176470588,
          187.33333333333334,
          183.57894736842104,
          180.2,
          177.14285714285714,
          174.36363636363637,
          171.82608695652175,
          169.5,
          167.36,
          165.3846153846154,
          163.55555555555554,
          161.85714285714286,
          160.27586206896552,
          158.8,
          157.41935483870967,
          156.125,
          154.9090909090909,
          153.76470588235293,
          152.68571428571428,
          151.66666666666666,
          150.7027027027027,
          149.78947368421052,
          148.92307692307693,
          148.1,
          147.3170731707317,
          146.57142857142858,
          145.86046511627907,
          145.1818181818182,
          144.53333333333333,
          143.91304347826087,
          143.31914893617022,
          142.75,
          142.20408163265307,
          141.68,
          141.1764705882353,
          140.69230769230768,
          140.22641509433961,
          139.77777777777777,
          139.34545454545454,
          138.92857142857142,
          138.52631578947367,
          138.13793103448276,
          137.76271186440678,
          137.4,
          137.04918032786884,
          136.70967741935485,
          136.38095238095238,
          136.0625,
          135.75384615384615,
          135.45454545454547,
          135.16417910447763,
          134.88235294117646,
          134.6086956521739,
          134.34285714285716,
          134.08450704225353,
          133.83333333333334,
          133.58904109589042,
          133.35135135135135,
          133.12,
          132.89473684210526,
          132.67532467532467,
          132.46153846153845,
          132.25316455696202,
          132.05,
          131.85185185185185,
          131.65853658536585,
          131.46987951807228,
          131.28571428571428,
          131.10588235294117,
          130.93023255813952,
          130.75862068965517,
          130.5909090909091,
          130.42696629213484,
          130.26666666666668,
          129.93406593406593,
          129.6086956521739,
          129.29032258064515,
          128.9787234042553,
          128,
          127.04166666666667,
          126.10309278350516,
          125.18367346938776,
          124.28282828282828,
          123.4
         ],
         "yaxis": "y"
        },
        {
         "hovertemplate": "simulation=6<br>iteration=%{x}<br>m*=%{y}<extra></extra>",
         "legendgroup": "6",
         "line": {
          "color": "#FF6692",
          "dash": "solid"
         },
         "mode": "lines",
         "name": "6",
         "orientation": "v",
         "showlegend": true,
         "type": "scatter",
         "x": [
          0,
          1,
          2,
          3,
          4,
          5,
          6,
          7,
          8,
          9,
          10,
          11,
          12,
          13,
          14,
          15,
          16,
          17,
          18,
          19,
          20,
          21,
          22,
          23,
          24,
          25,
          26,
          27,
          28,
          29,
          30,
          31,
          32,
          33,
          34,
          35,
          36,
          37,
          38,
          39,
          40,
          41,
          42,
          43
         ],
         "xaxis": "x",
         "y": [
          274.5,
          274.5,
          274.5,
          274.5,
          274.5,
          274.5,
          274.5,
          274.5,
          274.5,
          274.5,
          274.5,
          268,
          262.5,
          257.7857142857143,
          253.7,
          250.125,
          246.97058823529412,
          244.16666666666666,
          241.6578947368421,
          239.4,
          237.35714285714286,
          235.5,
          233.80434782608697,
          232.25,
          230.82,
          229.5,
          228.27777777777777,
          227.14285714285714,
          226.08620689655172,
          225.1,
          224.17741935483872,
          223.3125,
          222.5,
          221.73529411764707,
          221.0142857142857,
          220.33333333333334,
          219.6891891891892,
          219.07894736842104,
          218.5,
          217.95,
          217.4268292682927,
          216.92857142857142,
          216.45348837209303,
          216
         ],
         "yaxis": "y"
        },
        {
         "hovertemplate": "simulation=7<br>iteration=%{x}<br>m*=%{y}<extra></extra>",
         "legendgroup": "7",
         "line": {
          "color": "#B6E880",
          "dash": "solid"
         },
         "mode": "lines",
         "name": "7",
         "orientation": "v",
         "showlegend": true,
         "type": "scatter",
         "x": [
          0,
          1,
          2,
          3,
          4,
          5,
          6,
          7,
          8,
          9,
          10,
          11,
          12,
          13,
          14,
          15,
          16,
          17,
          18,
          19,
          20,
          21,
          22,
          23,
          24,
          25,
          26,
          27,
          28,
          29,
          30,
          31,
          32,
          33,
          34,
          35,
          36
         ],
         "xaxis": "x",
         "y": [
          554,
          367.665,
          305.55333333333334,
          233.16500000000002,
          189.73200000000003,
          160.77666666666667,
          140.09428571428572,
          124.58250000000001,
          112.51777777777778,
          102.86600000000001,
          94.96909090909092,
          88.38833333333334,
          82.82000000000001,
          78.04714285714286,
          73.91066666666667,
          70.29125,
          67.09764705882354,
          64.25888888888889,
          61.718947368421055,
          59.43300000000001,
          57.364761904761906,
          55.48454545454546,
          53.42,
          51.5275,
          49.7864,
          48.17923076923077,
          46.69111111111111,
          45.309285714285714,
          44.02275862068966,
          42.822,
          41.69870967741936,
          40.645625,
          39.53515151515152,
          38.49,
          37.50457142857143,
          36.57388888888889,
          35.58540540540541
         ],
         "yaxis": "y"
        }
       ],
       "layout": {
        "legend": {
         "title": {
          "text": "simulation"
         },
         "tracegroupgap": 0
        },
        "template": {
         "data": {
          "bar": [
           {
            "error_x": {
             "color": "#2a3f5f"
            },
            "error_y": {
             "color": "#2a3f5f"
            },
            "marker": {
             "line": {
              "color": "#E5ECF6",
              "width": 0.5
             }
            },
            "type": "bar"
           }
          ],
          "barpolar": [
           {
            "marker": {
             "line": {
              "color": "#E5ECF6",
              "width": 0.5
             }
            },
            "type": "barpolar"
           }
          ],
          "carpet": [
           {
            "aaxis": {
             "endlinecolor": "#2a3f5f",
             "gridcolor": "white",
             "linecolor": "white",
             "minorgridcolor": "white",
             "startlinecolor": "#2a3f5f"
            },
            "baxis": {
             "endlinecolor": "#2a3f5f",
             "gridcolor": "white",
             "linecolor": "white",
             "minorgridcolor": "white",
             "startlinecolor": "#2a3f5f"
            },
            "type": "carpet"
           }
          ],
          "choropleth": [
           {
            "colorbar": {
             "outlinewidth": 0,
             "ticks": ""
            },
            "type": "choropleth"
           }
          ],
          "contour": [
           {
            "colorbar": {
             "outlinewidth": 0,
             "ticks": ""
            },
            "colorscale": [
             [
              0,
              "#0d0887"
             ],
             [
              0.1111111111111111,
              "#46039f"
             ],
             [
              0.2222222222222222,
              "#7201a8"
             ],
             [
              0.3333333333333333,
              "#9c179e"
             ],
             [
              0.4444444444444444,
              "#bd3786"
             ],
             [
              0.5555555555555556,
              "#d8576b"
             ],
             [
              0.6666666666666666,
              "#ed7953"
             ],
             [
              0.7777777777777778,
              "#fb9f3a"
             ],
             [
              0.8888888888888888,
              "#fdca26"
             ],
             [
              1,
              "#f0f921"
             ]
            ],
            "type": "contour"
           }
          ],
          "contourcarpet": [
           {
            "colorbar": {
             "outlinewidth": 0,
             "ticks": ""
            },
            "type": "contourcarpet"
           }
          ],
          "heatmap": [
           {
            "colorbar": {
             "outlinewidth": 0,
             "ticks": ""
            },
            "colorscale": [
             [
              0,
              "#0d0887"
             ],
             [
              0.1111111111111111,
              "#46039f"
             ],
             [
              0.2222222222222222,
              "#7201a8"
             ],
             [
              0.3333333333333333,
              "#9c179e"
             ],
             [
              0.4444444444444444,
              "#bd3786"
             ],
             [
              0.5555555555555556,
              "#d8576b"
             ],
             [
              0.6666666666666666,
              "#ed7953"
             ],
             [
              0.7777777777777778,
              "#fb9f3a"
             ],
             [
              0.8888888888888888,
              "#fdca26"
             ],
             [
              1,
              "#f0f921"
             ]
            ],
            "type": "heatmap"
           }
          ],
          "heatmapgl": [
           {
            "colorbar": {
             "outlinewidth": 0,
             "ticks": ""
            },
            "colorscale": [
             [
              0,
              "#0d0887"
             ],
             [
              0.1111111111111111,
              "#46039f"
             ],
             [
              0.2222222222222222,
              "#7201a8"
             ],
             [
              0.3333333333333333,
              "#9c179e"
             ],
             [
              0.4444444444444444,
              "#bd3786"
             ],
             [
              0.5555555555555556,
              "#d8576b"
             ],
             [
              0.6666666666666666,
              "#ed7953"
             ],
             [
              0.7777777777777778,
              "#fb9f3a"
             ],
             [
              0.8888888888888888,
              "#fdca26"
             ],
             [
              1,
              "#f0f921"
             ]
            ],
            "type": "heatmapgl"
           }
          ],
          "histogram": [
           {
            "marker": {
             "colorbar": {
              "outlinewidth": 0,
              "ticks": ""
             }
            },
            "type": "histogram"
           }
          ],
          "histogram2d": [
           {
            "colorbar": {
             "outlinewidth": 0,
             "ticks": ""
            },
            "colorscale": [
             [
              0,
              "#0d0887"
             ],
             [
              0.1111111111111111,
              "#46039f"
             ],
             [
              0.2222222222222222,
              "#7201a8"
             ],
             [
              0.3333333333333333,
              "#9c179e"
             ],
             [
              0.4444444444444444,
              "#bd3786"
             ],
             [
              0.5555555555555556,
              "#d8576b"
             ],
             [
              0.6666666666666666,
              "#ed7953"
             ],
             [
              0.7777777777777778,
              "#fb9f3a"
             ],
             [
              0.8888888888888888,
              "#fdca26"
             ],
             [
              1,
              "#f0f921"
             ]
            ],
            "type": "histogram2d"
           }
          ],
          "histogram2dcontour": [
           {
            "colorbar": {
             "outlinewidth": 0,
             "ticks": ""
            },
            "colorscale": [
             [
              0,
              "#0d0887"
             ],
             [
              0.1111111111111111,
              "#46039f"
             ],
             [
              0.2222222222222222,
              "#7201a8"
             ],
             [
              0.3333333333333333,
              "#9c179e"
             ],
             [
              0.4444444444444444,
              "#bd3786"
             ],
             [
              0.5555555555555556,
              "#d8576b"
             ],
             [
              0.6666666666666666,
              "#ed7953"
             ],
             [
              0.7777777777777778,
              "#fb9f3a"
             ],
             [
              0.8888888888888888,
              "#fdca26"
             ],
             [
              1,
              "#f0f921"
             ]
            ],
            "type": "histogram2dcontour"
           }
          ],
          "mesh3d": [
           {
            "colorbar": {
             "outlinewidth": 0,
             "ticks": ""
            },
            "type": "mesh3d"
           }
          ],
          "parcoords": [
           {
            "line": {
             "colorbar": {
              "outlinewidth": 0,
              "ticks": ""
             }
            },
            "type": "parcoords"
           }
          ],
          "pie": [
           {
            "automargin": true,
            "type": "pie"
           }
          ],
          "scatter": [
           {
            "marker": {
             "colorbar": {
              "outlinewidth": 0,
              "ticks": ""
             }
            },
            "type": "scatter"
           }
          ],
          "scatter3d": [
           {
            "line": {
             "colorbar": {
              "outlinewidth": 0,
              "ticks": ""
             }
            },
            "marker": {
             "colorbar": {
              "outlinewidth": 0,
              "ticks": ""
             }
            },
            "type": "scatter3d"
           }
          ],
          "scattercarpet": [
           {
            "marker": {
             "colorbar": {
              "outlinewidth": 0,
              "ticks": ""
             }
            },
            "type": "scattercarpet"
           }
          ],
          "scattergeo": [
           {
            "marker": {
             "colorbar": {
              "outlinewidth": 0,
              "ticks": ""
             }
            },
            "type": "scattergeo"
           }
          ],
          "scattergl": [
           {
            "marker": {
             "colorbar": {
              "outlinewidth": 0,
              "ticks": ""
             }
            },
            "type": "scattergl"
           }
          ],
          "scattermapbox": [
           {
            "marker": {
             "colorbar": {
              "outlinewidth": 0,
              "ticks": ""
             }
            },
            "type": "scattermapbox"
           }
          ],
          "scatterpolar": [
           {
            "marker": {
             "colorbar": {
              "outlinewidth": 0,
              "ticks": ""
             }
            },
            "type": "scatterpolar"
           }
          ],
          "scatterpolargl": [
           {
            "marker": {
             "colorbar": {
              "outlinewidth": 0,
              "ticks": ""
             }
            },
            "type": "scatterpolargl"
           }
          ],
          "scatterternary": [
           {
            "marker": {
             "colorbar": {
              "outlinewidth": 0,
              "ticks": ""
             }
            },
            "type": "scatterternary"
           }
          ],
          "surface": [
           {
            "colorbar": {
             "outlinewidth": 0,
             "ticks": ""
            },
            "colorscale": [
             [
              0,
              "#0d0887"
             ],
             [
              0.1111111111111111,
              "#46039f"
             ],
             [
              0.2222222222222222,
              "#7201a8"
             ],
             [
              0.3333333333333333,
              "#9c179e"
             ],
             [
              0.4444444444444444,
              "#bd3786"
             ],
             [
              0.5555555555555556,
              "#d8576b"
             ],
             [
              0.6666666666666666,
              "#ed7953"
             ],
             [
              0.7777777777777778,
              "#fb9f3a"
             ],
             [
              0.8888888888888888,
              "#fdca26"
             ],
             [
              1,
              "#f0f921"
             ]
            ],
            "type": "surface"
           }
          ],
          "table": [
           {
            "cells": {
             "fill": {
              "color": "#EBF0F8"
             },
             "line": {
              "color": "white"
             }
            },
            "header": {
             "fill": {
              "color": "#C8D4E3"
             },
             "line": {
              "color": "white"
             }
            },
            "type": "table"
           }
          ]
         },
         "layout": {
          "annotationdefaults": {
           "arrowcolor": "#2a3f5f",
           "arrowhead": 0,
           "arrowwidth": 1
          },
          "coloraxis": {
           "colorbar": {
            "outlinewidth": 0,
            "ticks": ""
           }
          },
          "colorscale": {
           "diverging": [
            [
             0,
             "#8e0152"
            ],
            [
             0.1,
             "#c51b7d"
            ],
            [
             0.2,
             "#de77ae"
            ],
            [
             0.3,
             "#f1b6da"
            ],
            [
             0.4,
             "#fde0ef"
            ],
            [
             0.5,
             "#f7f7f7"
            ],
            [
             0.6,
             "#e6f5d0"
            ],
            [
             0.7,
             "#b8e186"
            ],
            [
             0.8,
             "#7fbc41"
            ],
            [
             0.9,
             "#4d9221"
            ],
            [
             1,
             "#276419"
            ]
           ],
           "sequential": [
            [
             0,
             "#0d0887"
            ],
            [
             0.1111111111111111,
             "#46039f"
            ],
            [
             0.2222222222222222,
             "#7201a8"
            ],
            [
             0.3333333333333333,
             "#9c179e"
            ],
            [
             0.4444444444444444,
             "#bd3786"
            ],
            [
             0.5555555555555556,
             "#d8576b"
            ],
            [
             0.6666666666666666,
             "#ed7953"
            ],
            [
             0.7777777777777778,
             "#fb9f3a"
            ],
            [
             0.8888888888888888,
             "#fdca26"
            ],
            [
             1,
             "#f0f921"
            ]
           ],
           "sequentialminus": [
            [
             0,
             "#0d0887"
            ],
            [
             0.1111111111111111,
             "#46039f"
            ],
            [
             0.2222222222222222,
             "#7201a8"
            ],
            [
             0.3333333333333333,
             "#9c179e"
            ],
            [
             0.4444444444444444,
             "#bd3786"
            ],
            [
             0.5555555555555556,
             "#d8576b"
            ],
            [
             0.6666666666666666,
             "#ed7953"
            ],
            [
             0.7777777777777778,
             "#fb9f3a"
            ],
            [
             0.8888888888888888,
             "#fdca26"
            ],
            [
             1,
             "#f0f921"
            ]
           ]
          },
          "colorway": [
           "#636efa",
           "#EF553B",
           "#00cc96",
           "#ab63fa",
           "#FFA15A",
           "#19d3f3",
           "#FF6692",
           "#B6E880",
           "#FF97FF",
           "#FECB52"
          ],
          "font": {
           "color": "#2a3f5f"
          },
          "geo": {
           "bgcolor": "white",
           "lakecolor": "white",
           "landcolor": "#E5ECF6",
           "showlakes": true,
           "showland": true,
           "subunitcolor": "white"
          },
          "hoverlabel": {
           "align": "left"
          },
          "hovermode": "closest",
          "mapbox": {
           "style": "light"
          },
          "paper_bgcolor": "white",
          "plot_bgcolor": "#E5ECF6",
          "polar": {
           "angularaxis": {
            "gridcolor": "white",
            "linecolor": "white",
            "ticks": ""
           },
           "bgcolor": "#E5ECF6",
           "radialaxis": {
            "gridcolor": "white",
            "linecolor": "white",
            "ticks": ""
           }
          },
          "scene": {
           "xaxis": {
            "backgroundcolor": "#E5ECF6",
            "gridcolor": "white",
            "gridwidth": 2,
            "linecolor": "white",
            "showbackground": true,
            "ticks": "",
            "zerolinecolor": "white"
           },
           "yaxis": {
            "backgroundcolor": "#E5ECF6",
            "gridcolor": "white",
            "gridwidth": 2,
            "linecolor": "white",
            "showbackground": true,
            "ticks": "",
            "zerolinecolor": "white"
           },
           "zaxis": {
            "backgroundcolor": "#E5ECF6",
            "gridcolor": "white",
            "gridwidth": 2,
            "linecolor": "white",
            "showbackground": true,
            "ticks": "",
            "zerolinecolor": "white"
           }
          },
          "shapedefaults": {
           "line": {
            "color": "#2a3f5f"
           }
          },
          "ternary": {
           "aaxis": {
            "gridcolor": "white",
            "linecolor": "white",
            "ticks": ""
           },
           "baxis": {
            "gridcolor": "white",
            "linecolor": "white",
            "ticks": ""
           },
           "bgcolor": "#E5ECF6",
           "caxis": {
            "gridcolor": "white",
            "linecolor": "white",
            "ticks": ""
           }
          },
          "title": {
           "x": 0.05
          },
          "xaxis": {
           "automargin": true,
           "gridcolor": "white",
           "linecolor": "white",
           "ticks": "",
           "title": {
            "standoff": 15
           },
           "zerolinecolor": "white",
           "zerolinewidth": 2
          },
          "yaxis": {
           "automargin": true,
           "gridcolor": "white",
           "linecolor": "white",
           "ticks": "",
           "title": {
            "standoff": 15
           },
           "zerolinecolor": "white",
           "zerolinewidth": 2
          }
         }
        },
        "title": {
         "text": "Offline measure"
        },
        "xaxis": {
         "anchor": "y",
         "domain": [
          0,
          1
         ],
         "title": {
          "text": "iteration"
         }
        },
        "yaxis": {
         "anchor": "x",
         "domain": [
          0,
          1
         ],
         "title": {
          "text": "m*"
         }
        }
       }
      },
      "text/html": [
       "<div>\n",
       "        \n",
       "        \n",
       "            <div id=\"d8a9faf5-01bf-49e8-a436-87912f9062e3\" class=\"plotly-graph-div\" style=\"height:525px; width:100%;\"></div>\n",
       "            <script type=\"text/javascript\">\n",
       "                require([\"plotly\"], function(Plotly) {\n",
       "                    window.PLOTLYENV=window.PLOTLYENV || {};\n",
       "                    \n",
       "                if (document.getElementById(\"d8a9faf5-01bf-49e8-a436-87912f9062e3\")) {\n",
       "                    Plotly.newPlot(\n",
       "                        'd8a9faf5-01bf-49e8-a436-87912f9062e3',\n",
       "                        [{\"hovertemplate\": \"simulation=0<br>iteration=%{x}<br>m*=%{y}<extra></extra>\", \"legendgroup\": \"0\", \"line\": {\"color\": \"#636efa\", \"dash\": \"solid\"}, \"mode\": \"lines\", \"name\": \"0\", \"orientation\": \"v\", \"showlegend\": true, \"type\": \"scatter\", \"x\": [0, 1, 2, 3, 4, 5, 6, 7, 8, 9, 10, 11, 12, 13, 14, 15, 16, 17, 18, 19, 20, 21, 22, 23, 24, 25, 26, 27, 28, 29, 30, 31, 32, 33, 34, 35, 36, 37, 38, 39, 40, 41, 42, 43, 44, 45, 46, 47, 48, 49, 50, 51, 52, 53, 54, 55, 56, 57, 58, 59, 60, 61, 62, 63, 64, 65, 66], \"xaxis\": \"x\", \"y\": [94.0, 94.0, 94.0, 94.0, 94.0, 94.0, 94.0, 94.0, 94.0, 94.0, 94.0, 94.0, 94.0, 94.0, 94.0, 94.0, 94.0, 94.0, 94.0, 94.0, 94.0, 94.0, 94.0, 94.0, 92.32, 90.76923076923077, 89.33333333333333, 88.0, 86.75862068965517, 85.6, 84.2258064516129, 82.9375, 81.72727272727273, 80.58823529411765, 79.51428571428572, 78.5, 77.54054054054055, 76.63157894736842, 75.76923076923077, 74.95, 74.17073170731707, 73.42857142857143, 72.72093023255815, 72.04545454545455, 71.4, 70.78260869565217, 70.19148936170212, 69.625, 69.08163265306122, 68.56, 68.05882352941177, 67.57692307692308, 67.11320754716981, 66.66666666666667, 66.23636363636363, 65.82142857142857, 65.42105263157895, 65.03448275862068, 64.66101694915254, 64.3, 63.950819672131146, 63.61290322580645, 63.285714285714285, 62.96875, 62.66153846153846, 62.36363636363637, 62.07462686567164], \"yaxis\": \"y\"}, {\"hovertemplate\": \"simulation=1<br>iteration=%{x}<br>m*=%{y}<extra></extra>\", \"legendgroup\": \"1\", \"line\": {\"color\": \"#EF553B\", \"dash\": \"solid\"}, \"mode\": \"lines\", \"name\": \"1\", \"orientation\": \"v\", \"showlegend\": true, \"type\": \"scatter\", \"x\": [0, 1, 2, 3, 4, 5, 6, 7, 8, 9, 10, 11, 12, 13, 14, 15, 16, 17, 18, 19, 20, 21, 22, 23, 24, 25, 26, 27, 28, 29, 30, 31, 32, 33, 34, 35, 36, 37, 38, 39, 40, 41, 42, 43, 44, 45, 46, 47, 48, 49, 50, 51, 52, 53, 54, 55, 56, 57, 58, 59], \"xaxis\": \"x\", \"y\": [715.0, 539.125, 480.5, 451.1875, 433.6, 391.3333333333333, 361.14285714285717, 338.5, 320.8888888888889, 306.8, 295.27272727272725, 285.6666666666667, 277.53846153846155, 270.57142857142856, 264.53333333333336, 251.25, 239.52941176470588, 229.11111111111111, 219.78947368421052, 211.4, 203.8095238095238, 196.9090909090909, 190.6086956521739, 184.83333333333334, 179.52, 174.6153846153846, 170.07407407407408, 165.85714285714286, 161.10344827586206, 156.66666666666666, 152.51612903225808, 148.625, 144.96969696969697, 141.52941176470588, 138.28571428571428, 135.22222222222223, 132.32432432432432, 129.57894736842104, 126.97435897435898, 124.5, 122.14634146341463, 119.9047619047619, 117.76744186046511, 115.72727272727273, 113.77777777777777, 111.91304347826087, 109.61702127659575, 107.41666666666667, 105.3061224489796, 103.28, 101.33333333333333, 99.46153846153847, 97.66037735849056, 95.92592592592592, 94.25454545454545, 92.64285714285714, 91.08771929824562, 89.58620689655173, 88.13559322033899, 86.73333333333333], \"yaxis\": \"y\"}, {\"hovertemplate\": \"simulation=2<br>iteration=%{x}<br>m*=%{y}<extra></extra>\", \"legendgroup\": \"2\", \"line\": {\"color\": \"#00cc96\", \"dash\": \"solid\"}, \"mode\": \"lines\", \"name\": \"2\", \"orientation\": \"v\", \"showlegend\": true, \"type\": \"scatter\", \"x\": [0, 1, 2, 3, 4, 5, 6, 7, 8, 9, 10, 11, 12, 13, 14, 15, 16, 17, 18, 19, 20, 21, 22, 23, 24, 25, 26, 27, 28, 29, 30, 31, 32, 33, 34, 35, 36, 37, 38, 39, 40, 41, 42, 43, 44, 45, 46, 47, 48, 49, 50, 51, 52, 53, 54, 55, 56, 57, 58, 59, 60, 61, 62, 63, 64, 65, 66, 67, 68, 69, 70, 71, 72, 73, 74, 75, 76, 77, 78, 79, 80, 81, 82, 83, 84], \"xaxis\": \"x\", \"y\": [238.67, 238.67, 238.67, 190.0025, 160.802, 141.335, 127.42999999999999, 117.00125, 108.89, 102.401, 97.09181818181818, 92.6675, 88.92384615384616, 85.715, 82.934, 80.500625, 78.35352941176471, 76.445, 74.73736842105264, 73.2005, 71.81, 70.54590909090909, 69.39173913043479, 68.33375, 67.3604, 66.46192307692307, 65.63, 64.8575, 64.13827586206897, 63.467, 62.83903225806451, 62.2503125, 61.697272727272725, 61.17676470588236, 60.68600000000001, 60.222500000000004, 59.78405405405406, 59.36868421052632, 58.97461538461539, 58.60025, 58.24414634146342, 57.90500000000001, 57.58162790697675, 57.27295454545455, 56.978, 56.69586956521739, 56.42574468085107, 56.166875000000005, 55.91857142857143, 55.680200000000006, 55.45117647058824, 55.23096153846154, 55.01905660377359, 54.815000000000005, 54.61836363636364, 54.42875, 54.24578947368421, 54.06913793103449, 53.89847457627119, 53.73350000000001, 53.57393442622951, 53.41951612903226, 53.27, 53.12515625, 52.98476923076923, 52.848636363636366, 52.71656716417911, 52.58838235294118, 52.463913043478264, 52.30014285714286, 52.14098591549296, 51.986250000000005, 51.83575342465754, 51.513648648648655, 51.160133333333334, 50.81592105263158, 50.48064935064935, 50.15397435897436, 49.83556962025317, 49.525125, 49.22234567901235, 48.9269512195122, 48.638674698795185, 48.357261904761906, 48.082470588235296], \"yaxis\": \"y\"}, {\"hovertemplate\": \"simulation=3<br>iteration=%{x}<br>m*=%{y}<extra></extra>\", \"legendgroup\": \"3\", \"line\": {\"color\": \"#ab63fa\", \"dash\": \"solid\"}, \"mode\": \"lines\", \"name\": \"3\", \"orientation\": \"v\", \"showlegend\": true, \"type\": \"scatter\", \"x\": [0, 1, 2, 3, 4, 5, 6, 7, 8, 9, 10, 11, 12, 13, 14, 15, 16, 17, 18, 19, 20, 21, 22, 23, 24, 25, 26, 27, 28, 29, 30, 31, 32, 33, 34, 35, 36, 37, 38, 39, 40, 41, 42, 43, 44, 45, 46, 47, 48, 49, 50, 51, 52, 53, 54, 55, 56, 57, 58, 59, 60, 61, 62, 63, 64, 65, 66, 67, 68, 69, 70, 71, 72, 73, 74, 75, 76, 77, 78, 79, 80, 81, 82, 83, 84, 85, 86, 87, 88, 89, 90, 91, 92, 93, 94, 95, 96, 97, 98, 99], \"xaxis\": \"x\", \"y\": [446.24, 446.24, 446.24, 446.24, 446.23999999999995, 446.23999999999995, 446.2399999999999, 446.2399999999999, 446.2399999999999, 446.2399999999999, 446.23999999999984, 446.23999999999984, 446.23999999999984, 424.4371428571427, 405.5413333333332, 389.0074999999999, 374.41882352941167, 361.451111111111, 349.84842105263147, 339.4059999999999, 329.95809523809515, 318.77818181818174, 308.57043478260863, 299.21333333333325, 290.6047999999999, 282.65846153846144, 275.30074074074065, 268.46857142857135, 262.1075862068965, 256.1706666666666, 250.61677419354834, 245.40999999999994, 240.51878787878783, 235.915294117647, 231.5748571428571, 227.4755555555555, 223.5978378378378, 219.92421052631576, 216.43897435897432, 213.128, 209.97853658536582, 206.9790476190476, 204.11906976744183, 201.3890909090909, 198.7804444444444, 196.28521739130431, 193.89617021276592, 191.60666666666665, 189.41061224489795, 187.30239999999998, 185.27686274509801, 183.32923076923075, 181.45509433962263, 179.65037037037035, 177.91127272727272, 176.2342857142857, 174.61614035087717, 173.05379310344827, 171.544406779661, 170.08533333333332, 168.67409836065573, 167.30838709677417, 165.98603174603173, 164.70499999999998, 163.4633846153846, 162.25939393939393, 161.09134328358206, 159.9576470588235, 158.8568115942029, 157.78742857142856, 156.74816901408448, 155.73777777777775, 154.75506849315067, 153.7989189189189, 152.86826666666664, 151.9621052631579, 151.0794805194805, 150.21948717948717, 149.3812658227848, 148.564, 147.7669135802469, 146.9892682926829, 146.23036144578313, 145.4895238095238, 144.76611764705882, 144.05953488372091, 143.36919540229883, 142.69454545454545, 142.03505617977527, 141.3902222222222, 140.75956043956043, 140.14260869565217, 139.5389247311828, 138.94808510638296, 138.36968421052632, 137.8033333333333, 137.24865979381443, 136.66275510204082, 136.08868686868686, 135.52609999999999], \"yaxis\": \"y\"}, {\"hovertemplate\": \"simulation=4<br>iteration=%{x}<br>m*=%{y}<extra></extra>\", \"legendgroup\": \"4\", \"line\": {\"color\": \"#FFA15A\", \"dash\": \"solid\"}, \"mode\": \"lines\", \"name\": \"4\", \"orientation\": \"v\", \"showlegend\": true, \"type\": \"scatter\", \"x\": [0, 1, 2, 3, 4, 5, 6, 7, 8, 9, 10, 11, 12, 13, 14, 15, 16, 17, 18, 19, 20, 21, 22, 23, 24, 25, 26, 27, 28, 29, 30, 31, 32, 33, 34, 35, 36, 37, 38, 39, 40, 41, 42, 43, 44, 45, 46, 47, 48, 49, 50, 51, 52, 53, 54, 55, 56, 57, 58, 59, 60, 61, 62, 63, 64, 65, 66, 67, 68, 69, 70, 71, 72, 73, 74, 75, 76, 77, 78, 79, 80, 81, 82, 83, 84, 85, 86, 87, 88, 89, 90, 91, 92, 93, 94, 95, 96, 97, 98, 99], \"xaxis\": \"x\", \"y\": [136.0, 136.0, 129.33333333333334, 126.0, 124.0, 122.66666666666667, 121.71428571428571, 121.0, 120.44444444444444, 120.0, 116.12090909090908, 112.88833333333332, 110.15307692307691, 107.80857142857141, 105.77666666666664, 103.99874999999997, 102.42999999999996, 101.03555555555552, 99.78789473684208, 98.66499999999996, 97.64904761904758, 96.72545454545451, 95.88217391304343, 95.10916666666662, 94.39799999999995, 93.74153846153841, 93.13370370370366, 92.56928571428567, 92.04379310344822, 91.55333333333328, 91.09451612903221, 90.66437499999995, 90.26030303030298, 89.87999999999995, 89.52142857142852, 89.18277777777773, 88.86243243243239, 88.558947368421, 88.27102564102559, 87.99749999999995, 87.73731707317067, 87.48952380952376, 87.25325581395343, 87.02772727272722, 86.81222222222216, 86.60608695652168, 86.40872340425526, 86.21958333333328, 86.03816326530607, 85.86399999999995, 85.6966666666666, 85.53576923076918, 85.38094339622636, 85.23185185185179, 85.08818181818175, 84.94964285714279, 84.81596491228065, 84.68689655172408, 84.56220338983044, 84.4416666666666, 84.32508196721305, 84.21225806451606, 84.1030158730158, 83.99718749999994, 83.89461538461532, 83.79515151515146, 83.69865671641784, 83.60499999999993, 83.51405797101442, 83.42571428571422, 83.33985915492951, 83.25638888888882, 83.17520547945199, 83.09621621621615, 83.01933333333326, 82.8743421052631, 82.73311688311682, 82.59551282051277, 82.46139240506324, 82.33062499999994, 82.20308641975303, 82.07865853658531, 81.9572289156626, 81.83869047619042, 81.72294117647053, 81.60988372093017, 81.49942528735627, 81.39147727272722, 81.28595505617972, 81.18277777777773, 81.08186813186808, 80.983152173913, 80.8865591397849, 80.74946808510633, 80.61526315789469, 80.48385416666662, 80.35515463917521, 80.229081632653, 80.10555555555551, 79.98449999999995], \"yaxis\": \"y\"}, {\"hovertemplate\": \"simulation=5<br>iteration=%{x}<br>m*=%{y}<extra></extra>\", \"legendgroup\": \"5\", \"line\": {\"color\": \"#19d3f3\", \"dash\": \"solid\"}, \"mode\": \"lines\", \"name\": \"5\", \"orientation\": \"v\", \"showlegend\": true, \"type\": \"scatter\", \"x\": [0, 1, 2, 3, 4, 5, 6, 7, 8, 9, 10, 11, 12, 13, 14, 15, 16, 17, 18, 19, 20, 21, 22, 23, 24, 25, 26, 27, 28, 29, 30, 31, 32, 33, 34, 35, 36, 37, 38, 39, 40, 41, 42, 43, 44, 45, 46, 47, 48, 49, 50, 51, 52, 53, 54, 55, 56, 57, 58, 59, 60, 61, 62, 63, 64, 65, 66, 67, 68, 69, 70, 71, 72, 73, 74, 75, 76, 77, 78, 79, 80, 81, 82, 83, 84, 85, 86, 87, 88, 89, 90, 91, 92, 93, 94, 95, 96, 97, 98, 99], \"xaxis\": \"x\", \"y\": [448.0, 448.0, 448.0, 437.0, 372.8, 330.0, 299.42857142857144, 276.5, 258.6666666666667, 244.4, 232.72727272727272, 223.0, 214.76923076923077, 207.71428571428572, 201.6, 196.25, 191.52941176470588, 187.33333333333334, 183.57894736842104, 180.2, 177.14285714285714, 174.36363636363637, 171.82608695652175, 169.5, 167.36, 165.3846153846154, 163.55555555555554, 161.85714285714286, 160.27586206896552, 158.8, 157.41935483870967, 156.125, 154.9090909090909, 153.76470588235293, 152.68571428571428, 151.66666666666666, 150.7027027027027, 149.78947368421052, 148.92307692307693, 148.1, 147.3170731707317, 146.57142857142858, 145.86046511627907, 145.1818181818182, 144.53333333333333, 143.91304347826087, 143.31914893617022, 142.75, 142.20408163265307, 141.68, 141.1764705882353, 140.69230769230768, 140.22641509433961, 139.77777777777777, 139.34545454545454, 138.92857142857142, 138.52631578947367, 138.13793103448276, 137.76271186440678, 137.4, 137.04918032786884, 136.70967741935485, 136.38095238095238, 136.0625, 135.75384615384615, 135.45454545454547, 135.16417910447763, 134.88235294117646, 134.6086956521739, 134.34285714285716, 134.08450704225353, 133.83333333333334, 133.58904109589042, 133.35135135135135, 133.12, 132.89473684210526, 132.67532467532467, 132.46153846153845, 132.25316455696202, 132.05, 131.85185185185185, 131.65853658536585, 131.46987951807228, 131.28571428571428, 131.10588235294117, 130.93023255813952, 130.75862068965517, 130.5909090909091, 130.42696629213484, 130.26666666666668, 129.93406593406593, 129.6086956521739, 129.29032258064515, 128.9787234042553, 128.0, 127.04166666666667, 126.10309278350516, 125.18367346938776, 124.28282828282828, 123.4], \"yaxis\": \"y\"}, {\"hovertemplate\": \"simulation=6<br>iteration=%{x}<br>m*=%{y}<extra></extra>\", \"legendgroup\": \"6\", \"line\": {\"color\": \"#FF6692\", \"dash\": \"solid\"}, \"mode\": \"lines\", \"name\": \"6\", \"orientation\": \"v\", \"showlegend\": true, \"type\": \"scatter\", \"x\": [0, 1, 2, 3, 4, 5, 6, 7, 8, 9, 10, 11, 12, 13, 14, 15, 16, 17, 18, 19, 20, 21, 22, 23, 24, 25, 26, 27, 28, 29, 30, 31, 32, 33, 34, 35, 36, 37, 38, 39, 40, 41, 42, 43], \"xaxis\": \"x\", \"y\": [274.5, 274.5, 274.5, 274.5, 274.5, 274.5, 274.5, 274.5, 274.5, 274.5, 274.5, 268.0, 262.5, 257.7857142857143, 253.7, 250.125, 246.97058823529412, 244.16666666666666, 241.6578947368421, 239.4, 237.35714285714286, 235.5, 233.80434782608697, 232.25, 230.82, 229.5, 228.27777777777777, 227.14285714285714, 226.08620689655172, 225.1, 224.17741935483872, 223.3125, 222.5, 221.73529411764707, 221.0142857142857, 220.33333333333334, 219.6891891891892, 219.07894736842104, 218.5, 217.95, 217.4268292682927, 216.92857142857142, 216.45348837209303, 216.0], \"yaxis\": \"y\"}, {\"hovertemplate\": \"simulation=7<br>iteration=%{x}<br>m*=%{y}<extra></extra>\", \"legendgroup\": \"7\", \"line\": {\"color\": \"#B6E880\", \"dash\": \"solid\"}, \"mode\": \"lines\", \"name\": \"7\", \"orientation\": \"v\", \"showlegend\": true, \"type\": \"scatter\", \"x\": [0, 1, 2, 3, 4, 5, 6, 7, 8, 9, 10, 11, 12, 13, 14, 15, 16, 17, 18, 19, 20, 21, 22, 23, 24, 25, 26, 27, 28, 29, 30, 31, 32, 33, 34, 35, 36], \"xaxis\": \"x\", \"y\": [554.0, 367.665, 305.55333333333334, 233.16500000000002, 189.73200000000003, 160.77666666666667, 140.09428571428572, 124.58250000000001, 112.51777777777778, 102.86600000000001, 94.96909090909092, 88.38833333333334, 82.82000000000001, 78.04714285714286, 73.91066666666667, 70.29125, 67.09764705882354, 64.25888888888889, 61.718947368421055, 59.43300000000001, 57.364761904761906, 55.48454545454546, 53.42, 51.5275, 49.7864, 48.17923076923077, 46.69111111111111, 45.309285714285714, 44.02275862068966, 42.822, 41.69870967741936, 40.645625, 39.53515151515152, 38.49, 37.50457142857143, 36.57388888888889, 35.58540540540541], \"yaxis\": \"y\"}],\n",
       "                        {\"legend\": {\"title\": {\"text\": \"simulation\"}, \"tracegroupgap\": 0}, \"template\": {\"data\": {\"bar\": [{\"error_x\": {\"color\": \"#2a3f5f\"}, \"error_y\": {\"color\": \"#2a3f5f\"}, \"marker\": {\"line\": {\"color\": \"#E5ECF6\", \"width\": 0.5}}, \"type\": \"bar\"}], \"barpolar\": [{\"marker\": {\"line\": {\"color\": \"#E5ECF6\", \"width\": 0.5}}, \"type\": \"barpolar\"}], \"carpet\": [{\"aaxis\": {\"endlinecolor\": \"#2a3f5f\", \"gridcolor\": \"white\", \"linecolor\": \"white\", \"minorgridcolor\": \"white\", \"startlinecolor\": \"#2a3f5f\"}, \"baxis\": {\"endlinecolor\": \"#2a3f5f\", \"gridcolor\": \"white\", \"linecolor\": \"white\", \"minorgridcolor\": \"white\", \"startlinecolor\": \"#2a3f5f\"}, \"type\": \"carpet\"}], \"choropleth\": [{\"colorbar\": {\"outlinewidth\": 0, \"ticks\": \"\"}, \"type\": \"choropleth\"}], \"contour\": [{\"colorbar\": {\"outlinewidth\": 0, \"ticks\": \"\"}, \"colorscale\": [[0.0, \"#0d0887\"], [0.1111111111111111, \"#46039f\"], [0.2222222222222222, \"#7201a8\"], [0.3333333333333333, \"#9c179e\"], [0.4444444444444444, \"#bd3786\"], [0.5555555555555556, \"#d8576b\"], [0.6666666666666666, \"#ed7953\"], [0.7777777777777778, \"#fb9f3a\"], [0.8888888888888888, \"#fdca26\"], [1.0, \"#f0f921\"]], \"type\": \"contour\"}], \"contourcarpet\": [{\"colorbar\": {\"outlinewidth\": 0, \"ticks\": \"\"}, \"type\": \"contourcarpet\"}], \"heatmap\": [{\"colorbar\": {\"outlinewidth\": 0, \"ticks\": \"\"}, \"colorscale\": [[0.0, \"#0d0887\"], [0.1111111111111111, \"#46039f\"], [0.2222222222222222, \"#7201a8\"], [0.3333333333333333, \"#9c179e\"], [0.4444444444444444, \"#bd3786\"], [0.5555555555555556, \"#d8576b\"], [0.6666666666666666, \"#ed7953\"], [0.7777777777777778, \"#fb9f3a\"], [0.8888888888888888, \"#fdca26\"], [1.0, \"#f0f921\"]], \"type\": \"heatmap\"}], \"heatmapgl\": [{\"colorbar\": {\"outlinewidth\": 0, \"ticks\": \"\"}, \"colorscale\": [[0.0, \"#0d0887\"], [0.1111111111111111, \"#46039f\"], [0.2222222222222222, \"#7201a8\"], [0.3333333333333333, \"#9c179e\"], [0.4444444444444444, \"#bd3786\"], [0.5555555555555556, \"#d8576b\"], [0.6666666666666666, \"#ed7953\"], [0.7777777777777778, \"#fb9f3a\"], [0.8888888888888888, \"#fdca26\"], [1.0, \"#f0f921\"]], \"type\": \"heatmapgl\"}], \"histogram\": [{\"marker\": {\"colorbar\": {\"outlinewidth\": 0, \"ticks\": \"\"}}, \"type\": \"histogram\"}], \"histogram2d\": [{\"colorbar\": {\"outlinewidth\": 0, \"ticks\": \"\"}, \"colorscale\": [[0.0, \"#0d0887\"], [0.1111111111111111, \"#46039f\"], [0.2222222222222222, \"#7201a8\"], [0.3333333333333333, \"#9c179e\"], [0.4444444444444444, \"#bd3786\"], [0.5555555555555556, \"#d8576b\"], [0.6666666666666666, \"#ed7953\"], [0.7777777777777778, \"#fb9f3a\"], [0.8888888888888888, \"#fdca26\"], [1.0, \"#f0f921\"]], \"type\": \"histogram2d\"}], \"histogram2dcontour\": [{\"colorbar\": {\"outlinewidth\": 0, \"ticks\": \"\"}, \"colorscale\": [[0.0, \"#0d0887\"], [0.1111111111111111, \"#46039f\"], [0.2222222222222222, \"#7201a8\"], [0.3333333333333333, \"#9c179e\"], [0.4444444444444444, \"#bd3786\"], [0.5555555555555556, \"#d8576b\"], [0.6666666666666666, \"#ed7953\"], [0.7777777777777778, \"#fb9f3a\"], [0.8888888888888888, \"#fdca26\"], [1.0, \"#f0f921\"]], \"type\": \"histogram2dcontour\"}], \"mesh3d\": [{\"colorbar\": {\"outlinewidth\": 0, \"ticks\": \"\"}, \"type\": \"mesh3d\"}], \"parcoords\": [{\"line\": {\"colorbar\": {\"outlinewidth\": 0, \"ticks\": \"\"}}, \"type\": \"parcoords\"}], \"pie\": [{\"automargin\": true, \"type\": \"pie\"}], \"scatter\": [{\"marker\": {\"colorbar\": {\"outlinewidth\": 0, \"ticks\": \"\"}}, \"type\": \"scatter\"}], \"scatter3d\": [{\"line\": {\"colorbar\": {\"outlinewidth\": 0, \"ticks\": \"\"}}, \"marker\": {\"colorbar\": {\"outlinewidth\": 0, \"ticks\": \"\"}}, \"type\": \"scatter3d\"}], \"scattercarpet\": [{\"marker\": {\"colorbar\": {\"outlinewidth\": 0, \"ticks\": \"\"}}, \"type\": \"scattercarpet\"}], \"scattergeo\": [{\"marker\": {\"colorbar\": {\"outlinewidth\": 0, \"ticks\": \"\"}}, \"type\": \"scattergeo\"}], \"scattergl\": [{\"marker\": {\"colorbar\": {\"outlinewidth\": 0, \"ticks\": \"\"}}, \"type\": \"scattergl\"}], \"scattermapbox\": [{\"marker\": {\"colorbar\": {\"outlinewidth\": 0, \"ticks\": \"\"}}, \"type\": \"scattermapbox\"}], \"scatterpolar\": [{\"marker\": {\"colorbar\": {\"outlinewidth\": 0, \"ticks\": \"\"}}, \"type\": \"scatterpolar\"}], \"scatterpolargl\": [{\"marker\": {\"colorbar\": {\"outlinewidth\": 0, \"ticks\": \"\"}}, \"type\": \"scatterpolargl\"}], \"scatterternary\": [{\"marker\": {\"colorbar\": {\"outlinewidth\": 0, \"ticks\": \"\"}}, \"type\": \"scatterternary\"}], \"surface\": [{\"colorbar\": {\"outlinewidth\": 0, \"ticks\": \"\"}, \"colorscale\": [[0.0, \"#0d0887\"], [0.1111111111111111, \"#46039f\"], [0.2222222222222222, \"#7201a8\"], [0.3333333333333333, \"#9c179e\"], [0.4444444444444444, \"#bd3786\"], [0.5555555555555556, \"#d8576b\"], [0.6666666666666666, \"#ed7953\"], [0.7777777777777778, \"#fb9f3a\"], [0.8888888888888888, \"#fdca26\"], [1.0, \"#f0f921\"]], \"type\": \"surface\"}], \"table\": [{\"cells\": {\"fill\": {\"color\": \"#EBF0F8\"}, \"line\": {\"color\": \"white\"}}, \"header\": {\"fill\": {\"color\": \"#C8D4E3\"}, \"line\": {\"color\": \"white\"}}, \"type\": \"table\"}]}, \"layout\": {\"annotationdefaults\": {\"arrowcolor\": \"#2a3f5f\", \"arrowhead\": 0, \"arrowwidth\": 1}, \"coloraxis\": {\"colorbar\": {\"outlinewidth\": 0, \"ticks\": \"\"}}, \"colorscale\": {\"diverging\": [[0, \"#8e0152\"], [0.1, \"#c51b7d\"], [0.2, \"#de77ae\"], [0.3, \"#f1b6da\"], [0.4, \"#fde0ef\"], [0.5, \"#f7f7f7\"], [0.6, \"#e6f5d0\"], [0.7, \"#b8e186\"], [0.8, \"#7fbc41\"], [0.9, \"#4d9221\"], [1, \"#276419\"]], \"sequential\": [[0.0, \"#0d0887\"], [0.1111111111111111, \"#46039f\"], [0.2222222222222222, \"#7201a8\"], [0.3333333333333333, \"#9c179e\"], [0.4444444444444444, \"#bd3786\"], [0.5555555555555556, \"#d8576b\"], [0.6666666666666666, \"#ed7953\"], [0.7777777777777778, \"#fb9f3a\"], [0.8888888888888888, \"#fdca26\"], [1.0, \"#f0f921\"]], \"sequentialminus\": [[0.0, \"#0d0887\"], [0.1111111111111111, \"#46039f\"], [0.2222222222222222, \"#7201a8\"], [0.3333333333333333, \"#9c179e\"], [0.4444444444444444, \"#bd3786\"], [0.5555555555555556, \"#d8576b\"], [0.6666666666666666, \"#ed7953\"], [0.7777777777777778, \"#fb9f3a\"], [0.8888888888888888, \"#fdca26\"], [1.0, \"#f0f921\"]]}, \"colorway\": [\"#636efa\", \"#EF553B\", \"#00cc96\", \"#ab63fa\", \"#FFA15A\", \"#19d3f3\", \"#FF6692\", \"#B6E880\", \"#FF97FF\", \"#FECB52\"], \"font\": {\"color\": \"#2a3f5f\"}, \"geo\": {\"bgcolor\": \"white\", \"lakecolor\": \"white\", \"landcolor\": \"#E5ECF6\", \"showlakes\": true, \"showland\": true, \"subunitcolor\": \"white\"}, \"hoverlabel\": {\"align\": \"left\"}, \"hovermode\": \"closest\", \"mapbox\": {\"style\": \"light\"}, \"paper_bgcolor\": \"white\", \"plot_bgcolor\": \"#E5ECF6\", \"polar\": {\"angularaxis\": {\"gridcolor\": \"white\", \"linecolor\": \"white\", \"ticks\": \"\"}, \"bgcolor\": \"#E5ECF6\", \"radialaxis\": {\"gridcolor\": \"white\", \"linecolor\": \"white\", \"ticks\": \"\"}}, \"scene\": {\"xaxis\": {\"backgroundcolor\": \"#E5ECF6\", \"gridcolor\": \"white\", \"gridwidth\": 2, \"linecolor\": \"white\", \"showbackground\": true, \"ticks\": \"\", \"zerolinecolor\": \"white\"}, \"yaxis\": {\"backgroundcolor\": \"#E5ECF6\", \"gridcolor\": \"white\", \"gridwidth\": 2, \"linecolor\": \"white\", \"showbackground\": true, \"ticks\": \"\", \"zerolinecolor\": \"white\"}, \"zaxis\": {\"backgroundcolor\": \"#E5ECF6\", \"gridcolor\": \"white\", \"gridwidth\": 2, \"linecolor\": \"white\", \"showbackground\": true, \"ticks\": \"\", \"zerolinecolor\": \"white\"}}, \"shapedefaults\": {\"line\": {\"color\": \"#2a3f5f\"}}, \"ternary\": {\"aaxis\": {\"gridcolor\": \"white\", \"linecolor\": \"white\", \"ticks\": \"\"}, \"baxis\": {\"gridcolor\": \"white\", \"linecolor\": \"white\", \"ticks\": \"\"}, \"bgcolor\": \"#E5ECF6\", \"caxis\": {\"gridcolor\": \"white\", \"linecolor\": \"white\", \"ticks\": \"\"}}, \"title\": {\"x\": 0.05}, \"xaxis\": {\"automargin\": true, \"gridcolor\": \"white\", \"linecolor\": \"white\", \"ticks\": \"\", \"title\": {\"standoff\": 15}, \"zerolinecolor\": \"white\", \"zerolinewidth\": 2}, \"yaxis\": {\"automargin\": true, \"gridcolor\": \"white\", \"linecolor\": \"white\", \"ticks\": \"\", \"title\": {\"standoff\": 15}, \"zerolinecolor\": \"white\", \"zerolinewidth\": 2}}}, \"title\": {\"text\": \"Offline measure\"}, \"xaxis\": {\"anchor\": \"y\", \"domain\": [0.0, 1.0], \"title\": {\"text\": \"iteration\"}}, \"yaxis\": {\"anchor\": \"x\", \"domain\": [0.0, 1.0], \"title\": {\"text\": \"m*\"}}},\n",
       "                        {\"responsive\": true}\n",
       "                    ).then(function(){\n",
       "                            \n",
       "var gd = document.getElementById('d8a9faf5-01bf-49e8-a436-87912f9062e3');\n",
       "var x = new MutationObserver(function (mutations, observer) {{\n",
       "        var display = window.getComputedStyle(gd).display;\n",
       "        if (!display || display === 'none') {{\n",
       "            console.log([gd, 'removed!']);\n",
       "            Plotly.purge(gd);\n",
       "            observer.disconnect();\n",
       "        }}\n",
       "}});\n",
       "\n",
       "// Listen for the removal of the full notebook cells\n",
       "var notebookContainer = gd.closest('#notebook-container');\n",
       "if (notebookContainer) {{\n",
       "    x.observe(notebookContainer, {childList: true});\n",
       "}}\n",
       "\n",
       "// Listen for the clearing of the current output cell\n",
       "var outputEl = gd.closest('.output');\n",
       "if (outputEl) {{\n",
       "    x.observe(outputEl, {childList: true});\n",
       "}}\n",
       "\n",
       "                        })\n",
       "                };\n",
       "                });\n",
       "            </script>\n",
       "        </div>"
      ]
     },
     "metadata": {},
     "output_type": "display_data"
    },
    {
     "data": {
      "application/vnd.plotly.v1+json": {
       "config": {
        "plotlyServerURL": "https://plot.ly"
       },
       "data": [
        {
         "hovertemplate": "simulation=0<br>iteration=%{x}<br>m=%{y}<extra></extra>",
         "legendgroup": "0",
         "line": {
          "color": "#636efa",
          "dash": "solid"
         },
         "mode": "lines",
         "name": "0",
         "orientation": "v",
         "showlegend": true,
         "type": "scatter",
         "x": [
          0,
          1,
          2,
          3,
          4,
          5,
          6,
          7,
          8,
          9,
          10,
          11,
          12,
          13,
          14,
          15,
          16,
          17,
          18,
          19,
          20,
          21,
          22,
          23,
          24,
          25,
          26,
          27,
          28,
          29,
          30,
          31,
          32,
          33,
          34,
          35,
          36,
          37,
          38,
          39,
          40,
          41,
          42,
          43,
          44,
          45,
          46,
          47,
          48,
          49,
          50,
          51,
          52,
          53,
          54,
          55,
          56,
          57,
          58,
          59,
          60,
          61,
          62,
          63,
          64,
          65,
          66
         ],
         "xaxis": "x",
         "y": [
          1251.0970000000002,
          975.5990000000002,
          879.5336666666668,
          826.1580000000001,
          776.9554,
          741.1591666666668,
          708.2094285714286,
          678.27425,
          654.9913333333334,
          634.4612,
          617.6638181818181,
          600.9451666666666,
          583.7536923076923,
          566.5708571428571,
          551.6790666666667,
          538.64875,
          524.0497647058824,
          507.8848888888889,
          493.33736842105264,
          479.7871,
          467.0130476190476,
          455.4002727272727,
          443.97121739130426,
          433.16541666666654,
          422.5280799999999,
          412.52630769230757,
          403.20614814814803,
          394.54635714285706,
          385.80448275862057,
          377.6237333333332,
          369.4820645161289,
          361.78362499999986,
          354.55175757575745,
          347.45117647058805,
          340.41348571428557,
          333.0797777777776,
          326.02897297297284,
          319.301894736842,
          312.8326153846152,
          306.6267999999999,
          300.6066341463413,
          294.81599999999986,
          289.29469767441844,
          283.91527272727257,
          278.72159999999985,
          273.75373913043467,
          268.9972765957446,
          264.4389999999999,
          260.066775510204,
          255.86943999999997,
          251.8367058823529,
          247.9590769230769,
          244.22777358490566,
          240.63466666666667,
          237.1722181818182,
          233.81735714285716,
          230.5802105263158,
          227.45468965517242,
          224.43511864406778,
          221.48619999999997,
          218.63396721311474,
          215.87374193548385,
          213.20114285714283,
          210.61206249999998,
          208.0888,
          205.61472727272724,
          203.18764179104474
         ],
         "yaxis": "y"
        },
        {
         "hovertemplate": "simulation=1<br>iteration=%{x}<br>m=%{y}<extra></extra>",
         "legendgroup": "1",
         "line": {
          "color": "#EF553B",
          "dash": "solid"
         },
         "mode": "lines",
         "name": "1",
         "orientation": "v",
         "showlegend": true,
         "type": "scatter",
         "x": [
          0,
          1,
          2,
          3,
          4,
          5,
          6,
          7,
          8,
          9,
          10,
          11,
          12,
          13,
          14,
          15,
          16,
          17,
          18,
          19,
          20,
          21,
          22,
          23,
          24,
          25,
          26,
          27,
          28,
          29,
          30,
          31,
          32,
          33,
          34,
          35,
          36,
          37,
          38,
          39,
          40,
          41,
          42,
          43,
          44,
          45,
          46,
          47,
          48,
          49,
          50,
          51,
          52,
          53,
          54,
          55,
          56,
          57,
          58,
          59
         ],
         "xaxis": "x",
         "y": [
          55611.13100000001,
          28188.194000000003,
          19041.397666666668,
          14463.869750000002,
          11716.113000000001,
          9868.334666666668,
          8537.769571428573,
          7538.627000000001,
          6761.516111111112,
          6133.929900000001,
          5618.677545454547,
          5188.566250000001,
          4822.995153846155,
          4508.659214285715,
          4235.098066666667,
          3992.360187500001,
          3771.644411764707,
          3575.4109444444457,
          3399.8336315789484,
          3241.292800000001,
          3097.6923333333343,
          2967.146454545455,
          2847.9523913043486,
          2738.6911666666674,
          2638.1708400000007,
          2545.3828461538474,
          2459.0235925925936,
          2378.8328571428583,
          2302.954137931036,
          2230.405666666668,
          2162.5377419354854,
          2098.3834375000015,
          2037.1718181818194,
          1979.4079411764717,
          1924.7962857142868,
          1873.074166666668,
          1823.801891891893,
          1776.9860526315802,
          1732.5710256410268,
          1690.316750000001,
          1650.0651219512206,
          1611.6730952380963,
          1574.955116279071,
          1539.7970454545466,
          1506.2015555555568,
          1474.066739130436,
          1443.2482978723417,
          1413.7139583333346,
          1385.3851020408176,
          1358.1894000000016,
          1332.060196078433,
          1306.8898076923092,
          1282.6239622641524,
          1259.1679629629643,
          1236.5649090909105,
          1214.7262500000015,
          1193.6117543859664,
          1173.1839655172428,
          1153.4079661016963,
          1134.251166666668
         ],
         "yaxis": "y"
        },
        {
         "hovertemplate": "simulation=2<br>iteration=%{x}<br>m=%{y}<extra></extra>",
         "legendgroup": "2",
         "line": {
          "color": "#00cc96",
          "dash": "solid"
         },
         "mode": "lines",
         "name": "2",
         "orientation": "v",
         "showlegend": true,
         "type": "scatter",
         "x": [
          0,
          1,
          2,
          3,
          4,
          5,
          6,
          7,
          8,
          9,
          10,
          11,
          12,
          13,
          14,
          15,
          16,
          17,
          18,
          19,
          20,
          21,
          22,
          23,
          24,
          25,
          26,
          27,
          28,
          29,
          30,
          31,
          32,
          33,
          34,
          35,
          36,
          37,
          38,
          39,
          40,
          41,
          42,
          43,
          44,
          45,
          46,
          47,
          48,
          49,
          50,
          51,
          52,
          53,
          54,
          55,
          56,
          57,
          58,
          59,
          60,
          61,
          62,
          63,
          64,
          65,
          66,
          67,
          68,
          69,
          70,
          71,
          72,
          73,
          74,
          75,
          76,
          77,
          78,
          79,
          80,
          81,
          82,
          83,
          84
         ],
         "xaxis": "x",
         "y": [
          1446.855,
          1056.787,
          910.0716666666667,
          804.8355,
          734.5418000000001,
          682.4846666666667,
          637.5524285714285,
          601.33725,
          572.7218888888889,
          549.7624000000001,
          530.9773636363637,
          515.2671666666668,
          501.97392307692314,
          488.9936428571429,
          477.5755333333334,
          467.52668750000004,
          458.60547058823533,
          450.67550000000006,
          443.5802631578948,
          437.19455000000005,
          431.4170000000001,
          426.16468181818186,
          421.3690869565218,
          415.57429166666674,
          410.24308,
          405.32196153846155,
          400.7653703703704,
          396.53425000000004,
          392.5949310344828,
          388.9182333333334,
          385.47874193548387,
          382.25421875,
          379.2251212121212,
          376.37420588235295,
          373.19462857142855,
          370.19169444444447,
          367.3510810810811,
          364.6599736842105,
          362.09210256410256,
          359.65262500000006,
          357.33214634146344,
          355.1221666666667,
          353.0015813953489,
          350.9773863636364,
          348.6608222222223,
          346.4324565217392,
          343.5189574468086,
          339.7297083333334,
          335.8957959183674,
          332.21524000000005,
          328.61235294117654,
          325.09867307692315,
          321.361603773585,
          317.6681851851853,
          314.10907272727286,
          310.54848214285727,
          307.11282456140367,
          303.7206379310347,
          300.25588135593233,
          296.86495000000014,
          293.48683606557387,
          290.2176935483872,
          287.03249206349216,
          283.7312031250001,
          280.4161076923078,
          277.1105606060607,
          273.79249253731354,
          270.5543676470589,
          267.3651739130435,
          264.2285285714286,
          261.1577042253522,
          258.1541250000001,
          255.21913698630146,
          252.3148243243244,
          249.45996000000008,
          246.67627631578958,
          243.94022077922088,
          241.2512435897437,
          238.59743037974692,
          235.9774625000001,
          233.3913209876544,
          230.8645975609757,
          228.39514457831336,
          225.97734523809535,
          223.61290588235303
         ],
         "yaxis": "y"
        },
        {
         "hovertemplate": "simulation=3<br>iteration=%{x}<br>m=%{y}<extra></extra>",
         "legendgroup": "3",
         "line": {
          "color": "#ab63fa",
          "dash": "solid"
         },
         "mode": "lines",
         "name": "3",
         "orientation": "v",
         "showlegend": true,
         "type": "scatter",
         "x": [
          0,
          1,
          2,
          3,
          4,
          5,
          6,
          7,
          8,
          9,
          10,
          11,
          12,
          13,
          14,
          15,
          16,
          17,
          18,
          19,
          20,
          21,
          22,
          23,
          24,
          25,
          26,
          27,
          28,
          29,
          30,
          31,
          32,
          33,
          34,
          35,
          36,
          37,
          38,
          39,
          40,
          41,
          42,
          43,
          44,
          45,
          46,
          47,
          48,
          49,
          50,
          51,
          52,
          53,
          54,
          55,
          56,
          57,
          58,
          59,
          60,
          61,
          62,
          63,
          64,
          65,
          66,
          67,
          68,
          69,
          70,
          71,
          72,
          73,
          74,
          75,
          76,
          77,
          78,
          79,
          80,
          81,
          82,
          83,
          84,
          85,
          86,
          87,
          88,
          89,
          90,
          91,
          92,
          93,
          94,
          95,
          96,
          97,
          98,
          99
         ],
         "xaxis": "x",
         "y": [
          24528.405,
          12669.938,
          8713.433333333332,
          6734.9195,
          5545.219999999999,
          4750.319166666666,
          4180.756142857143,
          3753.5795,
          3420.9038888888886,
          3150.9983999999995,
          2927.5461818181816,
          2738.8933333333334,
          2579.264,
          2436.4575714285716,
          2312.672,
          2202.3252500000003,
          2104.148705882353,
          2015.8723333333337,
          1936.3829473684214,
          1864.5950000000005,
          1799.6154285714288,
          1738.4090000000003,
          1680.7183478260872,
          1627.8227500000003,
          1579.1588000000004,
          1534.2382307692312,
          1492.6451111111116,
          1454.022928571429,
          1418.0643448275869,
          1384.5030000000006,
          1353.1069032258072,
          1320.9355625000007,
          1290.7140000000009,
          1262.205470588236,
          1235.3260000000007,
          1209.939833333334,
          1185.8664324324332,
          1162.9363684210532,
          1141.1822051282056,
          1118.1157000000005,
          1095.99512195122,
          1074.8898095238098,
          1053.3632558139539,
          1032.225454545455,
          1012.0204444444449,
          992.6873913043482,
          974.1706382978728,
          956.419166666667,
          939.3922448979595,
          922.9444000000003,
          907.0415686274513,
          891.6523076923081,
          876.8437735849061,
          862.5837037037041,
          848.6567272727277,
          835.0396428571432,
          821.8950877192987,
          809.2037931034488,
          796.9427118644073,
          785.0853333333339,
          773.6167213114759,
          762.5180645161296,
          751.7669841269845,
          741.3471875000005,
          731.243384615385,
          721.4412121212126,
          711.9271641791049,
          702.6929411764711,
          693.7263768115947,
          685.0160000000004,
          676.5509859154934,
          668.3211111111116,
          660.3167123287676,
          652.5286486486491,
          644.9482666666671,
          637.5673684210531,
          630.3781818181823,
          623.3733333333338,
          616.5458227848105,
          609.8890000000004,
          603.3965432098769,
          597.0624390243906,
          590.8809638554221,
          584.846666666667,
          578.9543529411768,
          573.1990697674422,
          567.5760919540234,
          562.0809090909095,
          556.7092134831464,
          551.4568888888892,
          546.3200000000004,
          541.294782608696,
          536.3776344086025,
          531.565106382979,
          526.8538947368424,
          522.2408333333336,
          517.7228865979384,
          513.2928877551024,
          508.95238383838415,
          504.69452000000024
         ],
         "yaxis": "y"
        },
        {
         "hovertemplate": "simulation=4<br>iteration=%{x}<br>m=%{y}<extra></extra>",
         "legendgroup": "4",
         "line": {
          "color": "#FFA15A",
          "dash": "solid"
         },
         "mode": "lines",
         "name": "4",
         "orientation": "v",
         "showlegend": true,
         "type": "scatter",
         "x": [
          0,
          1,
          2,
          3,
          4,
          5,
          6,
          7,
          8,
          9,
          10,
          11,
          12,
          13,
          14,
          15,
          16,
          17,
          18,
          19,
          20,
          21,
          22,
          23,
          24,
          25,
          26,
          27,
          28,
          29,
          30,
          31,
          32,
          33,
          34,
          35,
          36,
          37,
          38,
          39,
          40,
          41,
          42,
          43,
          44,
          45,
          46,
          47,
          48,
          49,
          50,
          51,
          52,
          53,
          54,
          55,
          56,
          57,
          58,
          59,
          60,
          61,
          62,
          63,
          64,
          65,
          66,
          67,
          68,
          69,
          70,
          71,
          72,
          73,
          74,
          75,
          76,
          77,
          78,
          79,
          80,
          81,
          82,
          83,
          84,
          85,
          86,
          87,
          88,
          89,
          90,
          91,
          92,
          93,
          94,
          95,
          96,
          97,
          98,
          99
         ],
         "xaxis": "x",
         "y": [
          37133.924999999996,
          21292.263499999997,
          14408.910333333331,
          10959.994999999999,
          8884.924599999998,
          7500.247333333332,
          6510.16857142857,
          5765.585499999999,
          5185.0834444444445,
          4719.7037,
          4332.689181818182,
          4009.5815,
          3735.632923076923,
          3500.819857142857,
          3297.3151999999995,
          3119.2486249999997,
          2962.131058823529,
          2816.7610555555552,
          2686.6931578947365,
          2569.6320499999993,
          2463.7196190476184,
          2364.9235909090903,
          2274.71852173913,
          2192.0305416666665,
          2115.9575999999997,
          2045.736423076923,
          1978.6557777777778,
          1916.3666071428572,
          1856.4675862068964,
          1800.5618333333332,
          1746.1528064516126,
          1694.7329062499998,
          1646.4293636363634,
          1600.9672058823528,
          1558.1028857142855,
          1517.5471944444444,
          1479.1837027027025,
          1442.7660789473682,
          1408.1741794871793,
          1375.2302749999997,
          1343.8535853658534,
          1313.9182857142855,
          1285.3714651162788,
          1258.122227272727,
          1232.0840666666663,
          1207.1779999999997,
          1183.3317659574466,
          1160.4791249999996,
          1138.559244897959,
          1117.5084799999997,
          1097.2757058823527,
          1077.8211153846153,
          1059.1006603773583,
          1041.0735555555555,
          1023.6949999999998,
          1006.9371071428569,
          990.7672105263156,
          975.1548965517238,
          960.0718135593216,
          945.4914999999996,
          931.3892295081963,
          917.7418709677414,
          904.515571428571,
          891.6965937499996,
          879.2720461538457,
          867.2123636363632,
          855.5126716417907,
          844.1570882352937,
          833.1306521739126,
          822.4192571428567,
          812.0095915492954,
          801.8890833333329,
          792.045849315068,
          782.4686486486481,
          773.1468399999995,
          764.0545526315785,
          755.1984285714282,
          746.5693846153843,
          738.158797468354,
          729.9584749999997,
          721.9606296296292,
          714.1578536585363,
          706.5430963855418,
          699.1096428571426,
          691.8510941176468,
          684.7473953488369,
          677.7993333333332,
          671.0091818181817,
          664.3716179775279,
          657.8815555555555,
          651.5341318681318,
          645.3246956521739,
          639.2487956989247,
          633.2851489361702,
          627.4470526315789,
          621.7180833333333,
          616.107237113402,
          610.5986530612245,
          605.2013535353535,
          599.8720000000001
         ],
         "yaxis": "y"
        },
        {
         "hovertemplate": "simulation=5<br>iteration=%{x}<br>m=%{y}<extra></extra>",
         "legendgroup": "5",
         "line": {
          "color": "#19d3f3",
          "dash": "solid"
         },
         "mode": "lines",
         "name": "5",
         "orientation": "v",
         "showlegend": true,
         "type": "scatter",
         "x": [
          0,
          1,
          2,
          3,
          4,
          5,
          6,
          7,
          8,
          9,
          10,
          11,
          12,
          13,
          14,
          15,
          16,
          17,
          18,
          19,
          20,
          21,
          22,
          23,
          24,
          25,
          26,
          27,
          28,
          29,
          30,
          31,
          32,
          33,
          34,
          35,
          36,
          37,
          38,
          39,
          40,
          41,
          42,
          43,
          44,
          45,
          46,
          47,
          48,
          49,
          50,
          51,
          52,
          53,
          54,
          55,
          56,
          57,
          58,
          59,
          60,
          61,
          62,
          63,
          64,
          65,
          66,
          67,
          68,
          69,
          70,
          71,
          72,
          73,
          74,
          75,
          76,
          77,
          78,
          79,
          80,
          81,
          82,
          83,
          84,
          85,
          86,
          87,
          88,
          89,
          90,
          91,
          92,
          93,
          94,
          95,
          96,
          97,
          98,
          99
         ],
         "xaxis": "x",
         "y": [
          1884.1740000000002,
          1280.6295,
          1078.7043333333334,
          950.2012500000001,
          852.2944000000001,
          784.1565,
          734.9151428571429,
          697.984125,
          669.1858888888888,
          645.1072999999999,
          624.8248181818182,
          606.72275,
          590.4825384615385,
          576.3909285714286,
          564.1782000000001,
          552.6920625,
          541.9454705882354,
          532.0373888888889,
          523.0459473684211,
          514.9536500000002,
          507.63204761904774,
          500.9760454545456,
          494.8292608695654,
          489.12804166666683,
          483.6909200000002,
          478.5489615384617,
          473.7878888888891,
          469.366892857143,
          465.2507931034484,
          461.40910000000014,
          457.8152580645163,
          454.44603125000015,
          451.2810000000001,
          448.30214705882366,
          445.4935142857144,
          442.84091666666677,
          440.33170270270284,
          437.9545526315791,
          435.6993076923078,
          432.90682500000014,
          430.25056097560986,
          427.72078571428585,
          425.30867441860477,
          423.00620454545464,
          420.80606666666677,
          418.70158695652185,
          416.6866595744682,
          414.7556875000001,
          412.903530612245,
          411.1254600000001,
          409.4171176470589,
          407.7744807692309,
          406.1938301886793,
          404.6717222222223,
          403.20496363636374,
          401.79058928571436,
          400.42584210526326,
          399.1081551724139,
          397.8351355932204,
          396.6045500000001,
          395.41431147540993,
          394.26246774193555,
          393.14719047619053,
          392.0667656250001,
          391.0195846153847,
          390.00413636363646,
          389.01900000000006,
          388.0628382352942,
          387.1343913043479,
          386.2324714285715,
          385.05736619718317,
          383.9149027777778,
          382.80373972602746,
          381.72260810810815,
          380.38764,
          379.08780263157894,
          377.82172727272723,
          376.5881153846153,
          375.3857341772151,
          374.2134124999999,
          373.0700370370369,
          371.9545487804877,
          370.2972650602409,
          368.4270595238094,
          366.35144705882345,
          363.83108139534875,
          361.2950919540229,
          358.7621931818181,
          356.286213483146,
          353.7941444444444,
          351.268934065934,
          348.6942717391304,
          346.12336559139777,
          343.5901382978723,
          341.0260315789473,
          338.4986770833333,
          336.00693814432987,
          333.5333979591836,
          331.10982828282823,
          328.7347299999999
         ],
         "yaxis": "y"
        },
        {
         "hovertemplate": "simulation=6<br>iteration=%{x}<br>m=%{y}<extra></extra>",
         "legendgroup": "6",
         "line": {
          "color": "#FF6692",
          "dash": "solid"
         },
         "mode": "lines",
         "name": "6",
         "orientation": "v",
         "showlegend": true,
         "type": "scatter",
         "x": [
          0,
          1,
          2,
          3,
          4,
          5,
          6,
          7,
          8,
          9,
          10,
          11,
          12,
          13,
          14,
          15,
          16,
          17,
          18,
          19,
          20,
          21,
          22,
          23,
          24,
          25,
          26,
          27,
          28,
          29,
          30,
          31,
          32,
          33,
          34,
          35,
          36,
          37,
          38,
          39,
          40,
          41,
          42,
          43
         ],
         "xaxis": "x",
         "y": [
          225767.456,
          113355.106,
          75828.556,
          57059.211,
          45791.397600000004,
          38274.491500000004,
          32900.832,
          28868.009250000003,
          25730.636000000002,
          23219.2374,
          21164.384000000002,
          19447.660333333337,
          17994.817230769233,
          16749.266000000003,
          15669.468266666669,
          14724.495250000002,
          13890.624941176473,
          13149.406888888892,
          12486.211789473688,
          11889.086200000003,
          11348.591619047624,
          10857.232909090913,
          10408.601043478266,
          9993.826000000005,
          9611.952960000004,
          9259.454769230773,
          8930.586074074077,
          8622.986571428575,
          8336.60082758621,
          8069.307466666669,
          7818.018516129035,
          7581.542937500002,
          7359.390121212124,
          7150.296294117649,
          6953.133542857146,
          6766.92427777778,
          6590.577675675679,
          6423.315105263161,
          6264.437794871797,
          6113.050600000003,
          5968.781073170735,
          5831.381523809527,
          5700.358697674421,
          5575.2710000000025
         ],
         "yaxis": "y"
        },
        {
         "hovertemplate": "simulation=7<br>iteration=%{x}<br>m=%{y}<extra></extra>",
         "legendgroup": "7",
         "line": {
          "color": "#B6E880",
          "dash": "solid"
         },
         "mode": "lines",
         "name": "7",
         "orientation": "v",
         "showlegend": true,
         "type": "scatter",
         "x": [
          0,
          1,
          2,
          3,
          4,
          5,
          6,
          7,
          8,
          9,
          10,
          11,
          12,
          13,
          14,
          15,
          16,
          17,
          18,
          19,
          20,
          21,
          22,
          23,
          24,
          25,
          26,
          27,
          28,
          29,
          30,
          31,
          32,
          33,
          34,
          35,
          36
         ],
         "xaxis": "x",
         "y": [
          110400.732,
          55546.5625,
          37257.28566666667,
          28089.114250000002,
          22579.588,
          18901.503833333332,
          16271.072285714285,
          14298.023625,
          12762.208,
          11532.9355,
          10522.598909090908,
          9680.143416666666,
          8966.234923076921,
          8350.870499999999,
          7814.3679999999995,
          7341.753312499999,
          6917.069764705881,
          6537.143666666666,
          6197.125578947368,
          5890.949299999999,
          5613.875523809523,
          5361.935727272727,
          5131.521130434781,
          4920.207749999999,
          4725.799439999999,
          4546.345615384615,
          4380.184666666666,
          4225.535214285714,
          4081.2064137931025,
          3946.206199999999,
          3819.6447096774186,
          3700.943312499999,
          3589.2904848484836,
          3484.1113529411755,
          3384.942457142856,
          3291.260722222221,
          3202.5779999999986
         ],
         "yaxis": "y"
        }
       ],
       "layout": {
        "legend": {
         "title": {
          "text": "simulation"
         },
         "tracegroupgap": 0
        },
        "template": {
         "data": {
          "bar": [
           {
            "error_x": {
             "color": "#2a3f5f"
            },
            "error_y": {
             "color": "#2a3f5f"
            },
            "marker": {
             "line": {
              "color": "#E5ECF6",
              "width": 0.5
             }
            },
            "type": "bar"
           }
          ],
          "barpolar": [
           {
            "marker": {
             "line": {
              "color": "#E5ECF6",
              "width": 0.5
             }
            },
            "type": "barpolar"
           }
          ],
          "carpet": [
           {
            "aaxis": {
             "endlinecolor": "#2a3f5f",
             "gridcolor": "white",
             "linecolor": "white",
             "minorgridcolor": "white",
             "startlinecolor": "#2a3f5f"
            },
            "baxis": {
             "endlinecolor": "#2a3f5f",
             "gridcolor": "white",
             "linecolor": "white",
             "minorgridcolor": "white",
             "startlinecolor": "#2a3f5f"
            },
            "type": "carpet"
           }
          ],
          "choropleth": [
           {
            "colorbar": {
             "outlinewidth": 0,
             "ticks": ""
            },
            "type": "choropleth"
           }
          ],
          "contour": [
           {
            "colorbar": {
             "outlinewidth": 0,
             "ticks": ""
            },
            "colorscale": [
             [
              0,
              "#0d0887"
             ],
             [
              0.1111111111111111,
              "#46039f"
             ],
             [
              0.2222222222222222,
              "#7201a8"
             ],
             [
              0.3333333333333333,
              "#9c179e"
             ],
             [
              0.4444444444444444,
              "#bd3786"
             ],
             [
              0.5555555555555556,
              "#d8576b"
             ],
             [
              0.6666666666666666,
              "#ed7953"
             ],
             [
              0.7777777777777778,
              "#fb9f3a"
             ],
             [
              0.8888888888888888,
              "#fdca26"
             ],
             [
              1,
              "#f0f921"
             ]
            ],
            "type": "contour"
           }
          ],
          "contourcarpet": [
           {
            "colorbar": {
             "outlinewidth": 0,
             "ticks": ""
            },
            "type": "contourcarpet"
           }
          ],
          "heatmap": [
           {
            "colorbar": {
             "outlinewidth": 0,
             "ticks": ""
            },
            "colorscale": [
             [
              0,
              "#0d0887"
             ],
             [
              0.1111111111111111,
              "#46039f"
             ],
             [
              0.2222222222222222,
              "#7201a8"
             ],
             [
              0.3333333333333333,
              "#9c179e"
             ],
             [
              0.4444444444444444,
              "#bd3786"
             ],
             [
              0.5555555555555556,
              "#d8576b"
             ],
             [
              0.6666666666666666,
              "#ed7953"
             ],
             [
              0.7777777777777778,
              "#fb9f3a"
             ],
             [
              0.8888888888888888,
              "#fdca26"
             ],
             [
              1,
              "#f0f921"
             ]
            ],
            "type": "heatmap"
           }
          ],
          "heatmapgl": [
           {
            "colorbar": {
             "outlinewidth": 0,
             "ticks": ""
            },
            "colorscale": [
             [
              0,
              "#0d0887"
             ],
             [
              0.1111111111111111,
              "#46039f"
             ],
             [
              0.2222222222222222,
              "#7201a8"
             ],
             [
              0.3333333333333333,
              "#9c179e"
             ],
             [
              0.4444444444444444,
              "#bd3786"
             ],
             [
              0.5555555555555556,
              "#d8576b"
             ],
             [
              0.6666666666666666,
              "#ed7953"
             ],
             [
              0.7777777777777778,
              "#fb9f3a"
             ],
             [
              0.8888888888888888,
              "#fdca26"
             ],
             [
              1,
              "#f0f921"
             ]
            ],
            "type": "heatmapgl"
           }
          ],
          "histogram": [
           {
            "marker": {
             "colorbar": {
              "outlinewidth": 0,
              "ticks": ""
             }
            },
            "type": "histogram"
           }
          ],
          "histogram2d": [
           {
            "colorbar": {
             "outlinewidth": 0,
             "ticks": ""
            },
            "colorscale": [
             [
              0,
              "#0d0887"
             ],
             [
              0.1111111111111111,
              "#46039f"
             ],
             [
              0.2222222222222222,
              "#7201a8"
             ],
             [
              0.3333333333333333,
              "#9c179e"
             ],
             [
              0.4444444444444444,
              "#bd3786"
             ],
             [
              0.5555555555555556,
              "#d8576b"
             ],
             [
              0.6666666666666666,
              "#ed7953"
             ],
             [
              0.7777777777777778,
              "#fb9f3a"
             ],
             [
              0.8888888888888888,
              "#fdca26"
             ],
             [
              1,
              "#f0f921"
             ]
            ],
            "type": "histogram2d"
           }
          ],
          "histogram2dcontour": [
           {
            "colorbar": {
             "outlinewidth": 0,
             "ticks": ""
            },
            "colorscale": [
             [
              0,
              "#0d0887"
             ],
             [
              0.1111111111111111,
              "#46039f"
             ],
             [
              0.2222222222222222,
              "#7201a8"
             ],
             [
              0.3333333333333333,
              "#9c179e"
             ],
             [
              0.4444444444444444,
              "#bd3786"
             ],
             [
              0.5555555555555556,
              "#d8576b"
             ],
             [
              0.6666666666666666,
              "#ed7953"
             ],
             [
              0.7777777777777778,
              "#fb9f3a"
             ],
             [
              0.8888888888888888,
              "#fdca26"
             ],
             [
              1,
              "#f0f921"
             ]
            ],
            "type": "histogram2dcontour"
           }
          ],
          "mesh3d": [
           {
            "colorbar": {
             "outlinewidth": 0,
             "ticks": ""
            },
            "type": "mesh3d"
           }
          ],
          "parcoords": [
           {
            "line": {
             "colorbar": {
              "outlinewidth": 0,
              "ticks": ""
             }
            },
            "type": "parcoords"
           }
          ],
          "pie": [
           {
            "automargin": true,
            "type": "pie"
           }
          ],
          "scatter": [
           {
            "marker": {
             "colorbar": {
              "outlinewidth": 0,
              "ticks": ""
             }
            },
            "type": "scatter"
           }
          ],
          "scatter3d": [
           {
            "line": {
             "colorbar": {
              "outlinewidth": 0,
              "ticks": ""
             }
            },
            "marker": {
             "colorbar": {
              "outlinewidth": 0,
              "ticks": ""
             }
            },
            "type": "scatter3d"
           }
          ],
          "scattercarpet": [
           {
            "marker": {
             "colorbar": {
              "outlinewidth": 0,
              "ticks": ""
             }
            },
            "type": "scattercarpet"
           }
          ],
          "scattergeo": [
           {
            "marker": {
             "colorbar": {
              "outlinewidth": 0,
              "ticks": ""
             }
            },
            "type": "scattergeo"
           }
          ],
          "scattergl": [
           {
            "marker": {
             "colorbar": {
              "outlinewidth": 0,
              "ticks": ""
             }
            },
            "type": "scattergl"
           }
          ],
          "scattermapbox": [
           {
            "marker": {
             "colorbar": {
              "outlinewidth": 0,
              "ticks": ""
             }
            },
            "type": "scattermapbox"
           }
          ],
          "scatterpolar": [
           {
            "marker": {
             "colorbar": {
              "outlinewidth": 0,
              "ticks": ""
             }
            },
            "type": "scatterpolar"
           }
          ],
          "scatterpolargl": [
           {
            "marker": {
             "colorbar": {
              "outlinewidth": 0,
              "ticks": ""
             }
            },
            "type": "scatterpolargl"
           }
          ],
          "scatterternary": [
           {
            "marker": {
             "colorbar": {
              "outlinewidth": 0,
              "ticks": ""
             }
            },
            "type": "scatterternary"
           }
          ],
          "surface": [
           {
            "colorbar": {
             "outlinewidth": 0,
             "ticks": ""
            },
            "colorscale": [
             [
              0,
              "#0d0887"
             ],
             [
              0.1111111111111111,
              "#46039f"
             ],
             [
              0.2222222222222222,
              "#7201a8"
             ],
             [
              0.3333333333333333,
              "#9c179e"
             ],
             [
              0.4444444444444444,
              "#bd3786"
             ],
             [
              0.5555555555555556,
              "#d8576b"
             ],
             [
              0.6666666666666666,
              "#ed7953"
             ],
             [
              0.7777777777777778,
              "#fb9f3a"
             ],
             [
              0.8888888888888888,
              "#fdca26"
             ],
             [
              1,
              "#f0f921"
             ]
            ],
            "type": "surface"
           }
          ],
          "table": [
           {
            "cells": {
             "fill": {
              "color": "#EBF0F8"
             },
             "line": {
              "color": "white"
             }
            },
            "header": {
             "fill": {
              "color": "#C8D4E3"
             },
             "line": {
              "color": "white"
             }
            },
            "type": "table"
           }
          ]
         },
         "layout": {
          "annotationdefaults": {
           "arrowcolor": "#2a3f5f",
           "arrowhead": 0,
           "arrowwidth": 1
          },
          "coloraxis": {
           "colorbar": {
            "outlinewidth": 0,
            "ticks": ""
           }
          },
          "colorscale": {
           "diverging": [
            [
             0,
             "#8e0152"
            ],
            [
             0.1,
             "#c51b7d"
            ],
            [
             0.2,
             "#de77ae"
            ],
            [
             0.3,
             "#f1b6da"
            ],
            [
             0.4,
             "#fde0ef"
            ],
            [
             0.5,
             "#f7f7f7"
            ],
            [
             0.6,
             "#e6f5d0"
            ],
            [
             0.7,
             "#b8e186"
            ],
            [
             0.8,
             "#7fbc41"
            ],
            [
             0.9,
             "#4d9221"
            ],
            [
             1,
             "#276419"
            ]
           ],
           "sequential": [
            [
             0,
             "#0d0887"
            ],
            [
             0.1111111111111111,
             "#46039f"
            ],
            [
             0.2222222222222222,
             "#7201a8"
            ],
            [
             0.3333333333333333,
             "#9c179e"
            ],
            [
             0.4444444444444444,
             "#bd3786"
            ],
            [
             0.5555555555555556,
             "#d8576b"
            ],
            [
             0.6666666666666666,
             "#ed7953"
            ],
            [
             0.7777777777777778,
             "#fb9f3a"
            ],
            [
             0.8888888888888888,
             "#fdca26"
            ],
            [
             1,
             "#f0f921"
            ]
           ],
           "sequentialminus": [
            [
             0,
             "#0d0887"
            ],
            [
             0.1111111111111111,
             "#46039f"
            ],
            [
             0.2222222222222222,
             "#7201a8"
            ],
            [
             0.3333333333333333,
             "#9c179e"
            ],
            [
             0.4444444444444444,
             "#bd3786"
            ],
            [
             0.5555555555555556,
             "#d8576b"
            ],
            [
             0.6666666666666666,
             "#ed7953"
            ],
            [
             0.7777777777777778,
             "#fb9f3a"
            ],
            [
             0.8888888888888888,
             "#fdca26"
            ],
            [
             1,
             "#f0f921"
            ]
           ]
          },
          "colorway": [
           "#636efa",
           "#EF553B",
           "#00cc96",
           "#ab63fa",
           "#FFA15A",
           "#19d3f3",
           "#FF6692",
           "#B6E880",
           "#FF97FF",
           "#FECB52"
          ],
          "font": {
           "color": "#2a3f5f"
          },
          "geo": {
           "bgcolor": "white",
           "lakecolor": "white",
           "landcolor": "#E5ECF6",
           "showlakes": true,
           "showland": true,
           "subunitcolor": "white"
          },
          "hoverlabel": {
           "align": "left"
          },
          "hovermode": "closest",
          "mapbox": {
           "style": "light"
          },
          "paper_bgcolor": "white",
          "plot_bgcolor": "#E5ECF6",
          "polar": {
           "angularaxis": {
            "gridcolor": "white",
            "linecolor": "white",
            "ticks": ""
           },
           "bgcolor": "#E5ECF6",
           "radialaxis": {
            "gridcolor": "white",
            "linecolor": "white",
            "ticks": ""
           }
          },
          "scene": {
           "xaxis": {
            "backgroundcolor": "#E5ECF6",
            "gridcolor": "white",
            "gridwidth": 2,
            "linecolor": "white",
            "showbackground": true,
            "ticks": "",
            "zerolinecolor": "white"
           },
           "yaxis": {
            "backgroundcolor": "#E5ECF6",
            "gridcolor": "white",
            "gridwidth": 2,
            "linecolor": "white",
            "showbackground": true,
            "ticks": "",
            "zerolinecolor": "white"
           },
           "zaxis": {
            "backgroundcolor": "#E5ECF6",
            "gridcolor": "white",
            "gridwidth": 2,
            "linecolor": "white",
            "showbackground": true,
            "ticks": "",
            "zerolinecolor": "white"
           }
          },
          "shapedefaults": {
           "line": {
            "color": "#2a3f5f"
           }
          },
          "ternary": {
           "aaxis": {
            "gridcolor": "white",
            "linecolor": "white",
            "ticks": ""
           },
           "baxis": {
            "gridcolor": "white",
            "linecolor": "white",
            "ticks": ""
           },
           "bgcolor": "#E5ECF6",
           "caxis": {
            "gridcolor": "white",
            "linecolor": "white",
            "ticks": ""
           }
          },
          "title": {
           "x": 0.05
          },
          "xaxis": {
           "automargin": true,
           "gridcolor": "white",
           "linecolor": "white",
           "ticks": "",
           "title": {
            "standoff": 15
           },
           "zerolinecolor": "white",
           "zerolinewidth": 2
          },
          "yaxis": {
           "automargin": true,
           "gridcolor": "white",
           "linecolor": "white",
           "ticks": "",
           "title": {
            "standoff": 15
           },
           "zerolinecolor": "white",
           "zerolinewidth": 2
          }
         }
        },
        "title": {
         "text": "Online measure"
        },
        "xaxis": {
         "anchor": "y",
         "domain": [
          0,
          1
         ],
         "title": {
          "text": "iteration"
         }
        },
        "yaxis": {
         "anchor": "x",
         "domain": [
          0,
          1
         ],
         "title": {
          "text": "m"
         }
        }
       }
      },
      "text/html": [
       "<div>\n",
       "        \n",
       "        \n",
       "            <div id=\"94baf80d-08b3-4c56-b9e0-c1a87514776a\" class=\"plotly-graph-div\" style=\"height:525px; width:100%;\"></div>\n",
       "            <script type=\"text/javascript\">\n",
       "                require([\"plotly\"], function(Plotly) {\n",
       "                    window.PLOTLYENV=window.PLOTLYENV || {};\n",
       "                    \n",
       "                if (document.getElementById(\"94baf80d-08b3-4c56-b9e0-c1a87514776a\")) {\n",
       "                    Plotly.newPlot(\n",
       "                        '94baf80d-08b3-4c56-b9e0-c1a87514776a',\n",
       "                        [{\"hovertemplate\": \"simulation=0<br>iteration=%{x}<br>m=%{y}<extra></extra>\", \"legendgroup\": \"0\", \"line\": {\"color\": \"#636efa\", \"dash\": \"solid\"}, \"mode\": \"lines\", \"name\": \"0\", \"orientation\": \"v\", \"showlegend\": true, \"type\": \"scatter\", \"x\": [0, 1, 2, 3, 4, 5, 6, 7, 8, 9, 10, 11, 12, 13, 14, 15, 16, 17, 18, 19, 20, 21, 22, 23, 24, 25, 26, 27, 28, 29, 30, 31, 32, 33, 34, 35, 36, 37, 38, 39, 40, 41, 42, 43, 44, 45, 46, 47, 48, 49, 50, 51, 52, 53, 54, 55, 56, 57, 58, 59, 60, 61, 62, 63, 64, 65, 66], \"xaxis\": \"x\", \"y\": [1251.0970000000002, 975.5990000000002, 879.5336666666668, 826.1580000000001, 776.9554, 741.1591666666668, 708.2094285714286, 678.27425, 654.9913333333334, 634.4612, 617.6638181818181, 600.9451666666666, 583.7536923076923, 566.5708571428571, 551.6790666666667, 538.64875, 524.0497647058824, 507.8848888888889, 493.33736842105264, 479.7871, 467.0130476190476, 455.4002727272727, 443.97121739130426, 433.16541666666654, 422.5280799999999, 412.52630769230757, 403.20614814814803, 394.54635714285706, 385.80448275862057, 377.6237333333332, 369.4820645161289, 361.78362499999986, 354.55175757575745, 347.45117647058805, 340.41348571428557, 333.0797777777776, 326.02897297297284, 319.301894736842, 312.8326153846152, 306.6267999999999, 300.6066341463413, 294.81599999999986, 289.29469767441844, 283.91527272727257, 278.72159999999985, 273.75373913043467, 268.9972765957446, 264.4389999999999, 260.066775510204, 255.86943999999997, 251.8367058823529, 247.9590769230769, 244.22777358490566, 240.63466666666667, 237.1722181818182, 233.81735714285716, 230.5802105263158, 227.45468965517242, 224.43511864406778, 221.48619999999997, 218.63396721311474, 215.87374193548385, 213.20114285714283, 210.61206249999998, 208.0888, 205.61472727272724, 203.18764179104474], \"yaxis\": \"y\"}, {\"hovertemplate\": \"simulation=1<br>iteration=%{x}<br>m=%{y}<extra></extra>\", \"legendgroup\": \"1\", \"line\": {\"color\": \"#EF553B\", \"dash\": \"solid\"}, \"mode\": \"lines\", \"name\": \"1\", \"orientation\": \"v\", \"showlegend\": true, \"type\": \"scatter\", \"x\": [0, 1, 2, 3, 4, 5, 6, 7, 8, 9, 10, 11, 12, 13, 14, 15, 16, 17, 18, 19, 20, 21, 22, 23, 24, 25, 26, 27, 28, 29, 30, 31, 32, 33, 34, 35, 36, 37, 38, 39, 40, 41, 42, 43, 44, 45, 46, 47, 48, 49, 50, 51, 52, 53, 54, 55, 56, 57, 58, 59], \"xaxis\": \"x\", \"y\": [55611.13100000001, 28188.194000000003, 19041.397666666668, 14463.869750000002, 11716.113000000001, 9868.334666666668, 8537.769571428573, 7538.627000000001, 6761.516111111112, 6133.929900000001, 5618.677545454547, 5188.566250000001, 4822.995153846155, 4508.659214285715, 4235.098066666667, 3992.360187500001, 3771.644411764707, 3575.4109444444457, 3399.8336315789484, 3241.292800000001, 3097.6923333333343, 2967.146454545455, 2847.9523913043486, 2738.6911666666674, 2638.1708400000007, 2545.3828461538474, 2459.0235925925936, 2378.8328571428583, 2302.954137931036, 2230.405666666668, 2162.5377419354854, 2098.3834375000015, 2037.1718181818194, 1979.4079411764717, 1924.7962857142868, 1873.074166666668, 1823.801891891893, 1776.9860526315802, 1732.5710256410268, 1690.316750000001, 1650.0651219512206, 1611.6730952380963, 1574.955116279071, 1539.7970454545466, 1506.2015555555568, 1474.066739130436, 1443.2482978723417, 1413.7139583333346, 1385.3851020408176, 1358.1894000000016, 1332.060196078433, 1306.8898076923092, 1282.6239622641524, 1259.1679629629643, 1236.5649090909105, 1214.7262500000015, 1193.6117543859664, 1173.1839655172428, 1153.4079661016963, 1134.251166666668], \"yaxis\": \"y\"}, {\"hovertemplate\": \"simulation=2<br>iteration=%{x}<br>m=%{y}<extra></extra>\", \"legendgroup\": \"2\", \"line\": {\"color\": \"#00cc96\", \"dash\": \"solid\"}, \"mode\": \"lines\", \"name\": \"2\", \"orientation\": \"v\", \"showlegend\": true, \"type\": \"scatter\", \"x\": [0, 1, 2, 3, 4, 5, 6, 7, 8, 9, 10, 11, 12, 13, 14, 15, 16, 17, 18, 19, 20, 21, 22, 23, 24, 25, 26, 27, 28, 29, 30, 31, 32, 33, 34, 35, 36, 37, 38, 39, 40, 41, 42, 43, 44, 45, 46, 47, 48, 49, 50, 51, 52, 53, 54, 55, 56, 57, 58, 59, 60, 61, 62, 63, 64, 65, 66, 67, 68, 69, 70, 71, 72, 73, 74, 75, 76, 77, 78, 79, 80, 81, 82, 83, 84], \"xaxis\": \"x\", \"y\": [1446.855, 1056.787, 910.0716666666667, 804.8355, 734.5418000000001, 682.4846666666667, 637.5524285714285, 601.33725, 572.7218888888889, 549.7624000000001, 530.9773636363637, 515.2671666666668, 501.97392307692314, 488.9936428571429, 477.5755333333334, 467.52668750000004, 458.60547058823533, 450.67550000000006, 443.5802631578948, 437.19455000000005, 431.4170000000001, 426.16468181818186, 421.3690869565218, 415.57429166666674, 410.24308, 405.32196153846155, 400.7653703703704, 396.53425000000004, 392.5949310344828, 388.9182333333334, 385.47874193548387, 382.25421875, 379.2251212121212, 376.37420588235295, 373.19462857142855, 370.19169444444447, 367.3510810810811, 364.6599736842105, 362.09210256410256, 359.65262500000006, 357.33214634146344, 355.1221666666667, 353.0015813953489, 350.9773863636364, 348.6608222222223, 346.4324565217392, 343.5189574468086, 339.7297083333334, 335.8957959183674, 332.21524000000005, 328.61235294117654, 325.09867307692315, 321.361603773585, 317.6681851851853, 314.10907272727286, 310.54848214285727, 307.11282456140367, 303.7206379310347, 300.25588135593233, 296.86495000000014, 293.48683606557387, 290.2176935483872, 287.03249206349216, 283.7312031250001, 280.4161076923078, 277.1105606060607, 273.79249253731354, 270.5543676470589, 267.3651739130435, 264.2285285714286, 261.1577042253522, 258.1541250000001, 255.21913698630146, 252.3148243243244, 249.45996000000008, 246.67627631578958, 243.94022077922088, 241.2512435897437, 238.59743037974692, 235.9774625000001, 233.3913209876544, 230.8645975609757, 228.39514457831336, 225.97734523809535, 223.61290588235303], \"yaxis\": \"y\"}, {\"hovertemplate\": \"simulation=3<br>iteration=%{x}<br>m=%{y}<extra></extra>\", \"legendgroup\": \"3\", \"line\": {\"color\": \"#ab63fa\", \"dash\": \"solid\"}, \"mode\": \"lines\", \"name\": \"3\", \"orientation\": \"v\", \"showlegend\": true, \"type\": \"scatter\", \"x\": [0, 1, 2, 3, 4, 5, 6, 7, 8, 9, 10, 11, 12, 13, 14, 15, 16, 17, 18, 19, 20, 21, 22, 23, 24, 25, 26, 27, 28, 29, 30, 31, 32, 33, 34, 35, 36, 37, 38, 39, 40, 41, 42, 43, 44, 45, 46, 47, 48, 49, 50, 51, 52, 53, 54, 55, 56, 57, 58, 59, 60, 61, 62, 63, 64, 65, 66, 67, 68, 69, 70, 71, 72, 73, 74, 75, 76, 77, 78, 79, 80, 81, 82, 83, 84, 85, 86, 87, 88, 89, 90, 91, 92, 93, 94, 95, 96, 97, 98, 99], \"xaxis\": \"x\", \"y\": [24528.405, 12669.938, 8713.433333333332, 6734.9195, 5545.219999999999, 4750.319166666666, 4180.756142857143, 3753.5795, 3420.9038888888886, 3150.9983999999995, 2927.5461818181816, 2738.8933333333334, 2579.264, 2436.4575714285716, 2312.672, 2202.3252500000003, 2104.148705882353, 2015.8723333333337, 1936.3829473684214, 1864.5950000000005, 1799.6154285714288, 1738.4090000000003, 1680.7183478260872, 1627.8227500000003, 1579.1588000000004, 1534.2382307692312, 1492.6451111111116, 1454.022928571429, 1418.0643448275869, 1384.5030000000006, 1353.1069032258072, 1320.9355625000007, 1290.7140000000009, 1262.205470588236, 1235.3260000000007, 1209.939833333334, 1185.8664324324332, 1162.9363684210532, 1141.1822051282056, 1118.1157000000005, 1095.99512195122, 1074.8898095238098, 1053.3632558139539, 1032.225454545455, 1012.0204444444449, 992.6873913043482, 974.1706382978728, 956.419166666667, 939.3922448979595, 922.9444000000003, 907.0415686274513, 891.6523076923081, 876.8437735849061, 862.5837037037041, 848.6567272727277, 835.0396428571432, 821.8950877192987, 809.2037931034488, 796.9427118644073, 785.0853333333339, 773.6167213114759, 762.5180645161296, 751.7669841269845, 741.3471875000005, 731.243384615385, 721.4412121212126, 711.9271641791049, 702.6929411764711, 693.7263768115947, 685.0160000000004, 676.5509859154934, 668.3211111111116, 660.3167123287676, 652.5286486486491, 644.9482666666671, 637.5673684210531, 630.3781818181823, 623.3733333333338, 616.5458227848105, 609.8890000000004, 603.3965432098769, 597.0624390243906, 590.8809638554221, 584.846666666667, 578.9543529411768, 573.1990697674422, 567.5760919540234, 562.0809090909095, 556.7092134831464, 551.4568888888892, 546.3200000000004, 541.294782608696, 536.3776344086025, 531.565106382979, 526.8538947368424, 522.2408333333336, 517.7228865979384, 513.2928877551024, 508.95238383838415, 504.69452000000024], \"yaxis\": \"y\"}, {\"hovertemplate\": \"simulation=4<br>iteration=%{x}<br>m=%{y}<extra></extra>\", \"legendgroup\": \"4\", \"line\": {\"color\": \"#FFA15A\", \"dash\": \"solid\"}, \"mode\": \"lines\", \"name\": \"4\", \"orientation\": \"v\", \"showlegend\": true, \"type\": \"scatter\", \"x\": [0, 1, 2, 3, 4, 5, 6, 7, 8, 9, 10, 11, 12, 13, 14, 15, 16, 17, 18, 19, 20, 21, 22, 23, 24, 25, 26, 27, 28, 29, 30, 31, 32, 33, 34, 35, 36, 37, 38, 39, 40, 41, 42, 43, 44, 45, 46, 47, 48, 49, 50, 51, 52, 53, 54, 55, 56, 57, 58, 59, 60, 61, 62, 63, 64, 65, 66, 67, 68, 69, 70, 71, 72, 73, 74, 75, 76, 77, 78, 79, 80, 81, 82, 83, 84, 85, 86, 87, 88, 89, 90, 91, 92, 93, 94, 95, 96, 97, 98, 99], \"xaxis\": \"x\", \"y\": [37133.924999999996, 21292.263499999997, 14408.910333333331, 10959.994999999999, 8884.924599999998, 7500.247333333332, 6510.16857142857, 5765.585499999999, 5185.0834444444445, 4719.7037, 4332.689181818182, 4009.5815, 3735.632923076923, 3500.819857142857, 3297.3151999999995, 3119.2486249999997, 2962.131058823529, 2816.7610555555552, 2686.6931578947365, 2569.6320499999993, 2463.7196190476184, 2364.9235909090903, 2274.71852173913, 2192.0305416666665, 2115.9575999999997, 2045.736423076923, 1978.6557777777778, 1916.3666071428572, 1856.4675862068964, 1800.5618333333332, 1746.1528064516126, 1694.7329062499998, 1646.4293636363634, 1600.9672058823528, 1558.1028857142855, 1517.5471944444444, 1479.1837027027025, 1442.7660789473682, 1408.1741794871793, 1375.2302749999997, 1343.8535853658534, 1313.9182857142855, 1285.3714651162788, 1258.122227272727, 1232.0840666666663, 1207.1779999999997, 1183.3317659574466, 1160.4791249999996, 1138.559244897959, 1117.5084799999997, 1097.2757058823527, 1077.8211153846153, 1059.1006603773583, 1041.0735555555555, 1023.6949999999998, 1006.9371071428569, 990.7672105263156, 975.1548965517238, 960.0718135593216, 945.4914999999996, 931.3892295081963, 917.7418709677414, 904.515571428571, 891.6965937499996, 879.2720461538457, 867.2123636363632, 855.5126716417907, 844.1570882352937, 833.1306521739126, 822.4192571428567, 812.0095915492954, 801.8890833333329, 792.045849315068, 782.4686486486481, 773.1468399999995, 764.0545526315785, 755.1984285714282, 746.5693846153843, 738.158797468354, 729.9584749999997, 721.9606296296292, 714.1578536585363, 706.5430963855418, 699.1096428571426, 691.8510941176468, 684.7473953488369, 677.7993333333332, 671.0091818181817, 664.3716179775279, 657.8815555555555, 651.5341318681318, 645.3246956521739, 639.2487956989247, 633.2851489361702, 627.4470526315789, 621.7180833333333, 616.107237113402, 610.5986530612245, 605.2013535353535, 599.8720000000001], \"yaxis\": \"y\"}, {\"hovertemplate\": \"simulation=5<br>iteration=%{x}<br>m=%{y}<extra></extra>\", \"legendgroup\": \"5\", \"line\": {\"color\": \"#19d3f3\", \"dash\": \"solid\"}, \"mode\": \"lines\", \"name\": \"5\", \"orientation\": \"v\", \"showlegend\": true, \"type\": \"scatter\", \"x\": [0, 1, 2, 3, 4, 5, 6, 7, 8, 9, 10, 11, 12, 13, 14, 15, 16, 17, 18, 19, 20, 21, 22, 23, 24, 25, 26, 27, 28, 29, 30, 31, 32, 33, 34, 35, 36, 37, 38, 39, 40, 41, 42, 43, 44, 45, 46, 47, 48, 49, 50, 51, 52, 53, 54, 55, 56, 57, 58, 59, 60, 61, 62, 63, 64, 65, 66, 67, 68, 69, 70, 71, 72, 73, 74, 75, 76, 77, 78, 79, 80, 81, 82, 83, 84, 85, 86, 87, 88, 89, 90, 91, 92, 93, 94, 95, 96, 97, 98, 99], \"xaxis\": \"x\", \"y\": [1884.1740000000002, 1280.6295, 1078.7043333333334, 950.2012500000001, 852.2944000000001, 784.1565, 734.9151428571429, 697.984125, 669.1858888888888, 645.1072999999999, 624.8248181818182, 606.72275, 590.4825384615385, 576.3909285714286, 564.1782000000001, 552.6920625, 541.9454705882354, 532.0373888888889, 523.0459473684211, 514.9536500000002, 507.63204761904774, 500.9760454545456, 494.8292608695654, 489.12804166666683, 483.6909200000002, 478.5489615384617, 473.7878888888891, 469.366892857143, 465.2507931034484, 461.40910000000014, 457.8152580645163, 454.44603125000015, 451.2810000000001, 448.30214705882366, 445.4935142857144, 442.84091666666677, 440.33170270270284, 437.9545526315791, 435.6993076923078, 432.90682500000014, 430.25056097560986, 427.72078571428585, 425.30867441860477, 423.00620454545464, 420.80606666666677, 418.70158695652185, 416.6866595744682, 414.7556875000001, 412.903530612245, 411.1254600000001, 409.4171176470589, 407.7744807692309, 406.1938301886793, 404.6717222222223, 403.20496363636374, 401.79058928571436, 400.42584210526326, 399.1081551724139, 397.8351355932204, 396.6045500000001, 395.41431147540993, 394.26246774193555, 393.14719047619053, 392.0667656250001, 391.0195846153847, 390.00413636363646, 389.01900000000006, 388.0628382352942, 387.1343913043479, 386.2324714285715, 385.05736619718317, 383.9149027777778, 382.80373972602746, 381.72260810810815, 380.38764, 379.08780263157894, 377.82172727272723, 376.5881153846153, 375.3857341772151, 374.2134124999999, 373.0700370370369, 371.9545487804877, 370.2972650602409, 368.4270595238094, 366.35144705882345, 363.83108139534875, 361.2950919540229, 358.7621931818181, 356.286213483146, 353.7941444444444, 351.268934065934, 348.6942717391304, 346.12336559139777, 343.5901382978723, 341.0260315789473, 338.4986770833333, 336.00693814432987, 333.5333979591836, 331.10982828282823, 328.7347299999999], \"yaxis\": \"y\"}, {\"hovertemplate\": \"simulation=6<br>iteration=%{x}<br>m=%{y}<extra></extra>\", \"legendgroup\": \"6\", \"line\": {\"color\": \"#FF6692\", \"dash\": \"solid\"}, \"mode\": \"lines\", \"name\": \"6\", \"orientation\": \"v\", \"showlegend\": true, \"type\": \"scatter\", \"x\": [0, 1, 2, 3, 4, 5, 6, 7, 8, 9, 10, 11, 12, 13, 14, 15, 16, 17, 18, 19, 20, 21, 22, 23, 24, 25, 26, 27, 28, 29, 30, 31, 32, 33, 34, 35, 36, 37, 38, 39, 40, 41, 42, 43], \"xaxis\": \"x\", \"y\": [225767.456, 113355.106, 75828.556, 57059.211, 45791.397600000004, 38274.491500000004, 32900.832, 28868.009250000003, 25730.636000000002, 23219.2374, 21164.384000000002, 19447.660333333337, 17994.817230769233, 16749.266000000003, 15669.468266666669, 14724.495250000002, 13890.624941176473, 13149.406888888892, 12486.211789473688, 11889.086200000003, 11348.591619047624, 10857.232909090913, 10408.601043478266, 9993.826000000005, 9611.952960000004, 9259.454769230773, 8930.586074074077, 8622.986571428575, 8336.60082758621, 8069.307466666669, 7818.018516129035, 7581.542937500002, 7359.390121212124, 7150.296294117649, 6953.133542857146, 6766.92427777778, 6590.577675675679, 6423.315105263161, 6264.437794871797, 6113.050600000003, 5968.781073170735, 5831.381523809527, 5700.358697674421, 5575.2710000000025], \"yaxis\": \"y\"}, {\"hovertemplate\": \"simulation=7<br>iteration=%{x}<br>m=%{y}<extra></extra>\", \"legendgroup\": \"7\", \"line\": {\"color\": \"#B6E880\", \"dash\": \"solid\"}, \"mode\": \"lines\", \"name\": \"7\", \"orientation\": \"v\", \"showlegend\": true, \"type\": \"scatter\", \"x\": [0, 1, 2, 3, 4, 5, 6, 7, 8, 9, 10, 11, 12, 13, 14, 15, 16, 17, 18, 19, 20, 21, 22, 23, 24, 25, 26, 27, 28, 29, 30, 31, 32, 33, 34, 35, 36], \"xaxis\": \"x\", \"y\": [110400.732, 55546.5625, 37257.28566666667, 28089.114250000002, 22579.588, 18901.503833333332, 16271.072285714285, 14298.023625, 12762.208, 11532.9355, 10522.598909090908, 9680.143416666666, 8966.234923076921, 8350.870499999999, 7814.3679999999995, 7341.753312499999, 6917.069764705881, 6537.143666666666, 6197.125578947368, 5890.949299999999, 5613.875523809523, 5361.935727272727, 5131.521130434781, 4920.207749999999, 4725.799439999999, 4546.345615384615, 4380.184666666666, 4225.535214285714, 4081.2064137931025, 3946.206199999999, 3819.6447096774186, 3700.943312499999, 3589.2904848484836, 3484.1113529411755, 3384.942457142856, 3291.260722222221, 3202.5779999999986], \"yaxis\": \"y\"}],\n",
       "                        {\"legend\": {\"title\": {\"text\": \"simulation\"}, \"tracegroupgap\": 0}, \"template\": {\"data\": {\"bar\": [{\"error_x\": {\"color\": \"#2a3f5f\"}, \"error_y\": {\"color\": \"#2a3f5f\"}, \"marker\": {\"line\": {\"color\": \"#E5ECF6\", \"width\": 0.5}}, \"type\": \"bar\"}], \"barpolar\": [{\"marker\": {\"line\": {\"color\": \"#E5ECF6\", \"width\": 0.5}}, \"type\": \"barpolar\"}], \"carpet\": [{\"aaxis\": {\"endlinecolor\": \"#2a3f5f\", \"gridcolor\": \"white\", \"linecolor\": \"white\", \"minorgridcolor\": \"white\", \"startlinecolor\": \"#2a3f5f\"}, \"baxis\": {\"endlinecolor\": \"#2a3f5f\", \"gridcolor\": \"white\", \"linecolor\": \"white\", \"minorgridcolor\": \"white\", \"startlinecolor\": \"#2a3f5f\"}, \"type\": \"carpet\"}], \"choropleth\": [{\"colorbar\": {\"outlinewidth\": 0, \"ticks\": \"\"}, \"type\": \"choropleth\"}], \"contour\": [{\"colorbar\": {\"outlinewidth\": 0, \"ticks\": \"\"}, \"colorscale\": [[0.0, \"#0d0887\"], [0.1111111111111111, \"#46039f\"], [0.2222222222222222, \"#7201a8\"], [0.3333333333333333, \"#9c179e\"], [0.4444444444444444, \"#bd3786\"], [0.5555555555555556, \"#d8576b\"], [0.6666666666666666, \"#ed7953\"], [0.7777777777777778, \"#fb9f3a\"], [0.8888888888888888, \"#fdca26\"], [1.0, \"#f0f921\"]], \"type\": \"contour\"}], \"contourcarpet\": [{\"colorbar\": {\"outlinewidth\": 0, \"ticks\": \"\"}, \"type\": \"contourcarpet\"}], \"heatmap\": [{\"colorbar\": {\"outlinewidth\": 0, \"ticks\": \"\"}, \"colorscale\": [[0.0, \"#0d0887\"], [0.1111111111111111, \"#46039f\"], [0.2222222222222222, \"#7201a8\"], [0.3333333333333333, \"#9c179e\"], [0.4444444444444444, \"#bd3786\"], [0.5555555555555556, \"#d8576b\"], [0.6666666666666666, \"#ed7953\"], [0.7777777777777778, \"#fb9f3a\"], [0.8888888888888888, \"#fdca26\"], [1.0, \"#f0f921\"]], \"type\": \"heatmap\"}], \"heatmapgl\": [{\"colorbar\": {\"outlinewidth\": 0, \"ticks\": \"\"}, \"colorscale\": [[0.0, \"#0d0887\"], [0.1111111111111111, \"#46039f\"], [0.2222222222222222, \"#7201a8\"], [0.3333333333333333, \"#9c179e\"], [0.4444444444444444, \"#bd3786\"], [0.5555555555555556, \"#d8576b\"], [0.6666666666666666, \"#ed7953\"], [0.7777777777777778, \"#fb9f3a\"], [0.8888888888888888, \"#fdca26\"], [1.0, \"#f0f921\"]], \"type\": \"heatmapgl\"}], \"histogram\": [{\"marker\": {\"colorbar\": {\"outlinewidth\": 0, \"ticks\": \"\"}}, \"type\": \"histogram\"}], \"histogram2d\": [{\"colorbar\": {\"outlinewidth\": 0, \"ticks\": \"\"}, \"colorscale\": [[0.0, \"#0d0887\"], [0.1111111111111111, \"#46039f\"], [0.2222222222222222, \"#7201a8\"], [0.3333333333333333, \"#9c179e\"], [0.4444444444444444, \"#bd3786\"], [0.5555555555555556, \"#d8576b\"], [0.6666666666666666, \"#ed7953\"], [0.7777777777777778, \"#fb9f3a\"], [0.8888888888888888, \"#fdca26\"], [1.0, \"#f0f921\"]], \"type\": \"histogram2d\"}], \"histogram2dcontour\": [{\"colorbar\": {\"outlinewidth\": 0, \"ticks\": \"\"}, \"colorscale\": [[0.0, \"#0d0887\"], [0.1111111111111111, \"#46039f\"], [0.2222222222222222, \"#7201a8\"], [0.3333333333333333, \"#9c179e\"], [0.4444444444444444, \"#bd3786\"], [0.5555555555555556, \"#d8576b\"], [0.6666666666666666, \"#ed7953\"], [0.7777777777777778, \"#fb9f3a\"], [0.8888888888888888, \"#fdca26\"], [1.0, \"#f0f921\"]], \"type\": \"histogram2dcontour\"}], \"mesh3d\": [{\"colorbar\": {\"outlinewidth\": 0, \"ticks\": \"\"}, \"type\": \"mesh3d\"}], \"parcoords\": [{\"line\": {\"colorbar\": {\"outlinewidth\": 0, \"ticks\": \"\"}}, \"type\": \"parcoords\"}], \"pie\": [{\"automargin\": true, \"type\": \"pie\"}], \"scatter\": [{\"marker\": {\"colorbar\": {\"outlinewidth\": 0, \"ticks\": \"\"}}, \"type\": \"scatter\"}], \"scatter3d\": [{\"line\": {\"colorbar\": {\"outlinewidth\": 0, \"ticks\": \"\"}}, \"marker\": {\"colorbar\": {\"outlinewidth\": 0, \"ticks\": \"\"}}, \"type\": \"scatter3d\"}], \"scattercarpet\": [{\"marker\": {\"colorbar\": {\"outlinewidth\": 0, \"ticks\": \"\"}}, \"type\": \"scattercarpet\"}], \"scattergeo\": [{\"marker\": {\"colorbar\": {\"outlinewidth\": 0, \"ticks\": \"\"}}, \"type\": \"scattergeo\"}], \"scattergl\": [{\"marker\": {\"colorbar\": {\"outlinewidth\": 0, \"ticks\": \"\"}}, \"type\": \"scattergl\"}], \"scattermapbox\": [{\"marker\": {\"colorbar\": {\"outlinewidth\": 0, \"ticks\": \"\"}}, \"type\": \"scattermapbox\"}], \"scatterpolar\": [{\"marker\": {\"colorbar\": {\"outlinewidth\": 0, \"ticks\": \"\"}}, \"type\": \"scatterpolar\"}], \"scatterpolargl\": [{\"marker\": {\"colorbar\": {\"outlinewidth\": 0, \"ticks\": \"\"}}, \"type\": \"scatterpolargl\"}], \"scatterternary\": [{\"marker\": {\"colorbar\": {\"outlinewidth\": 0, \"ticks\": \"\"}}, \"type\": \"scatterternary\"}], \"surface\": [{\"colorbar\": {\"outlinewidth\": 0, \"ticks\": \"\"}, \"colorscale\": [[0.0, \"#0d0887\"], [0.1111111111111111, \"#46039f\"], [0.2222222222222222, \"#7201a8\"], [0.3333333333333333, \"#9c179e\"], [0.4444444444444444, \"#bd3786\"], [0.5555555555555556, \"#d8576b\"], [0.6666666666666666, \"#ed7953\"], [0.7777777777777778, \"#fb9f3a\"], [0.8888888888888888, \"#fdca26\"], [1.0, \"#f0f921\"]], \"type\": \"surface\"}], \"table\": [{\"cells\": {\"fill\": {\"color\": \"#EBF0F8\"}, \"line\": {\"color\": \"white\"}}, \"header\": {\"fill\": {\"color\": \"#C8D4E3\"}, \"line\": {\"color\": \"white\"}}, \"type\": \"table\"}]}, \"layout\": {\"annotationdefaults\": {\"arrowcolor\": \"#2a3f5f\", \"arrowhead\": 0, \"arrowwidth\": 1}, \"coloraxis\": {\"colorbar\": {\"outlinewidth\": 0, \"ticks\": \"\"}}, \"colorscale\": {\"diverging\": [[0, \"#8e0152\"], [0.1, \"#c51b7d\"], [0.2, \"#de77ae\"], [0.3, \"#f1b6da\"], [0.4, \"#fde0ef\"], [0.5, \"#f7f7f7\"], [0.6, \"#e6f5d0\"], [0.7, \"#b8e186\"], [0.8, \"#7fbc41\"], [0.9, \"#4d9221\"], [1, \"#276419\"]], \"sequential\": [[0.0, \"#0d0887\"], [0.1111111111111111, \"#46039f\"], [0.2222222222222222, \"#7201a8\"], [0.3333333333333333, \"#9c179e\"], [0.4444444444444444, \"#bd3786\"], [0.5555555555555556, \"#d8576b\"], [0.6666666666666666, \"#ed7953\"], [0.7777777777777778, \"#fb9f3a\"], [0.8888888888888888, \"#fdca26\"], [1.0, \"#f0f921\"]], \"sequentialminus\": [[0.0, \"#0d0887\"], [0.1111111111111111, \"#46039f\"], [0.2222222222222222, \"#7201a8\"], [0.3333333333333333, \"#9c179e\"], [0.4444444444444444, \"#bd3786\"], [0.5555555555555556, \"#d8576b\"], [0.6666666666666666, \"#ed7953\"], [0.7777777777777778, \"#fb9f3a\"], [0.8888888888888888, \"#fdca26\"], [1.0, \"#f0f921\"]]}, \"colorway\": [\"#636efa\", \"#EF553B\", \"#00cc96\", \"#ab63fa\", \"#FFA15A\", \"#19d3f3\", \"#FF6692\", \"#B6E880\", \"#FF97FF\", \"#FECB52\"], \"font\": {\"color\": \"#2a3f5f\"}, \"geo\": {\"bgcolor\": \"white\", \"lakecolor\": \"white\", \"landcolor\": \"#E5ECF6\", \"showlakes\": true, \"showland\": true, \"subunitcolor\": \"white\"}, \"hoverlabel\": {\"align\": \"left\"}, \"hovermode\": \"closest\", \"mapbox\": {\"style\": \"light\"}, \"paper_bgcolor\": \"white\", \"plot_bgcolor\": \"#E5ECF6\", \"polar\": {\"angularaxis\": {\"gridcolor\": \"white\", \"linecolor\": \"white\", \"ticks\": \"\"}, \"bgcolor\": \"#E5ECF6\", \"radialaxis\": {\"gridcolor\": \"white\", \"linecolor\": \"white\", \"ticks\": \"\"}}, \"scene\": {\"xaxis\": {\"backgroundcolor\": \"#E5ECF6\", \"gridcolor\": \"white\", \"gridwidth\": 2, \"linecolor\": \"white\", \"showbackground\": true, \"ticks\": \"\", \"zerolinecolor\": \"white\"}, \"yaxis\": {\"backgroundcolor\": \"#E5ECF6\", \"gridcolor\": \"white\", \"gridwidth\": 2, \"linecolor\": \"white\", \"showbackground\": true, \"ticks\": \"\", \"zerolinecolor\": \"white\"}, \"zaxis\": {\"backgroundcolor\": \"#E5ECF6\", \"gridcolor\": \"white\", \"gridwidth\": 2, \"linecolor\": \"white\", \"showbackground\": true, \"ticks\": \"\", \"zerolinecolor\": \"white\"}}, \"shapedefaults\": {\"line\": {\"color\": \"#2a3f5f\"}}, \"ternary\": {\"aaxis\": {\"gridcolor\": \"white\", \"linecolor\": \"white\", \"ticks\": \"\"}, \"baxis\": {\"gridcolor\": \"white\", \"linecolor\": \"white\", \"ticks\": \"\"}, \"bgcolor\": \"#E5ECF6\", \"caxis\": {\"gridcolor\": \"white\", \"linecolor\": \"white\", \"ticks\": \"\"}}, \"title\": {\"x\": 0.05}, \"xaxis\": {\"automargin\": true, \"gridcolor\": \"white\", \"linecolor\": \"white\", \"ticks\": \"\", \"title\": {\"standoff\": 15}, \"zerolinecolor\": \"white\", \"zerolinewidth\": 2}, \"yaxis\": {\"automargin\": true, \"gridcolor\": \"white\", \"linecolor\": \"white\", \"ticks\": \"\", \"title\": {\"standoff\": 15}, \"zerolinecolor\": \"white\", \"zerolinewidth\": 2}}}, \"title\": {\"text\": \"Online measure\"}, \"xaxis\": {\"anchor\": \"y\", \"domain\": [0.0, 1.0], \"title\": {\"text\": \"iteration\"}}, \"yaxis\": {\"anchor\": \"x\", \"domain\": [0.0, 1.0], \"title\": {\"text\": \"m\"}}},\n",
       "                        {\"responsive\": true}\n",
       "                    ).then(function(){\n",
       "                            \n",
       "var gd = document.getElementById('94baf80d-08b3-4c56-b9e0-c1a87514776a');\n",
       "var x = new MutationObserver(function (mutations, observer) {{\n",
       "        var display = window.getComputedStyle(gd).display;\n",
       "        if (!display || display === 'none') {{\n",
       "            console.log([gd, 'removed!']);\n",
       "            Plotly.purge(gd);\n",
       "            observer.disconnect();\n",
       "        }}\n",
       "}});\n",
       "\n",
       "// Listen for the removal of the full notebook cells\n",
       "var notebookContainer = gd.closest('#notebook-container');\n",
       "if (notebookContainer) {{\n",
       "    x.observe(notebookContainer, {childList: true});\n",
       "}}\n",
       "\n",
       "// Listen for the clearing of the current output cell\n",
       "var outputEl = gd.closest('.output');\n",
       "if (outputEl) {{\n",
       "    x.observe(outputEl, {childList: true});\n",
       "}}\n",
       "\n",
       "                        })\n",
       "                };\n",
       "                });\n",
       "            </script>\n",
       "        </div>"
      ]
     },
     "metadata": {},
     "output_type": "display_data"
    }
   ],
   "source": [
    "GA.convergence_plot()"
   ]
  },
  {
   "cell_type": "code",
   "execution_count": 48,
   "metadata": {},
   "outputs": [
    {
     "name": "stdout",
     "output_type": "stream",
     "text": [
      "75*3/1*4-50+6-12+8=852.0 \t - fitness:0.0, \n",
      "75*3/1*4-50-6+12-8=848.0 \t - fitness:4.0, \n",
      "75*3/1*4-50+6+12-8=860.0 \t - fitness:8.0, \n",
      "75*3/1*4-50+6+12-8=860.0 \t - fitness:8.0, \n",
      "75*3/1*4-50+6+12-8=860.0 \t - fitness:8.0, \n",
      "75*3/1*4-50+6+12-8=860.0 \t - fitness:8.0, \n",
      "75*3*1*4-50+6-12-8=836.0 \t - fitness:16.0, \n",
      "75*3/1*4-50+6-12-8=836.0 \t - fitness:16.0, \n",
      "75*3/1*4-50+6-12-8=836.0 \t - fitness:16.0, \n",
      "75*3/1*4-50+6-12-8=836.0 \t - fitness:16.0\n"
     ]
    }
   ],
   "source": [
    "print(GA)"
   ]
  },
  {
   "cell_type": "markdown",
   "metadata": {},
   "source": [
    "# Bibliography:\n",
    "<a href='#top'> Return to top </a>"
   ]
  },
  {
   "cell_type": "markdown",
   "metadata": {},
   "source": [
    "\n",
    "[1] Leardi, Riccardo, R. Boggia, and M. Terrile. Genetic algorithms as a strategy for feature selection. Journal of chemometrics 6, no. 5 (1992): 267-281.\n",
    "<br>\n",
    "<br>\n",
    "[2] Barrios, Dolores, Alberto Carrascal, Daniel Manrique, and Juan Rios. Cooperative binary-real coded genetic algorithms for generating and adapting artificial neural networks. Neural Computing & Applications 12, no. 2 (2003): 49-60.\n",
    "<br>\n",
    "<br>\n",
    "[3] Larranaga, Pedro, Mikel Poza, Yosu Yurramendi, Roberto H. Murga, and Cindy M. H. Kuijpers. Structure learning of Bayesian networks by genetic algorithms: A performance analysis of control parameters. IEEE transactions on pattern analysis and machine intelligence 18, no. 9 (1996): 912-926.\n",
    "<br>\n",
    "<br>\n",
    "[4]  Hornby, Gregory, Al Globus, Derek Linden, and Jason Lohn. Automated antenna design with evolutionary algorithms. In Space 2006, p. 7242. 2006.\n",
    "<br>\n",
    "<br>\n",
    "[5] DeJong, K.The Analysis and behaviour of a Class of Genetic Adapative Systems. PhD Thesis, University of Michigan, 1975."
   ]
  },
  {
   "cell_type": "code",
   "execution_count": 35,
   "metadata": {},
   "outputs": [],
   "source": [
    "from IPython.display import HTML\n",
    "import numpy as np\n",
    "import plotly.express as px\n",
    "import pandas as pd\n",
    "import matplotlib.pyplot as plt\n",
    "subtract= lambda x: np.subtract(*x)\n",
    "divide= lambda x: np.divide(*x)"
   ]
  }
 ],
 "metadata": {
  "kernelspec": {
   "display_name": "Python 3",
   "language": "python",
   "name": "python3"
  },
  "language_info": {
   "codemirror_mode": {
    "name": "ipython",
    "version": 3
   },
   "file_extension": ".py",
   "mimetype": "text/x-python",
   "name": "python",
   "nbconvert_exporter": "python",
   "pygments_lexer": "ipython3",
   "version": "3.7.4"
  }
 },
 "nbformat": 4,
 "nbformat_minor": 4
}
